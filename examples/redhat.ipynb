{
 "cells": [
  {
   "cell_type": "code",
   "execution_count": null,
   "metadata": {},
   "outputs": [],
   "source": [
    "%load_ext autoreload"
   ]
  },
  {
   "cell_type": "code",
   "execution_count": null,
   "metadata": {},
   "outputs": [],
   "source": [
    "%autoreload complete"
   ]
  },
  {
   "cell_type": "code",
   "execution_count": null,
   "metadata": {},
   "outputs": [],
   "source": [
    "from docuverse import SearchEngine, SearchCorpus\n",
    "engine = SearchEngine(config_path=\"experiments/redhat/retrieval.yaml\")"
   ]
  },
  {
   "cell_type": "code",
   "execution_count": null,
   "metadata": {},
   "outputs": [],
   "source": [
    "engine.get_retriever_info()"
   ]
  },
  {
   "cell_type": "code",
   "execution_count": null,
   "metadata": {},
   "outputs": [],
   "source": [
    "corpus_filepaths = [\n",
    "    \"/dccstor/retrieve-rerank2/data/res-ai-rh-support/processed/training_solutions_all/july13_kcs_only_mppd30/rhel_split_issues.tsv\"\n",
    "]\n",
    "corpus = SearchCorpus(filepaths=corpus_filepaths)\n",
    "corpus.prepare_for_ingestion(max_doc_length=512, stride=100, title_handling=\"all\")\n",
    "print(corpus)"
   ]
  },
  {
   "cell_type": "code",
   "execution_count": null,
   "metadata": {},
   "outputs": [],
   "source": [
    "engine.ingest(corpus=corpus)"
   ]
  },
  {
   "cell_type": "code",
   "execution_count": null,
   "metadata": {},
   "outputs": [],
   "source": [
    "# Test to check documents in the index using Elasticsearch client search fn. and format\n",
    "es_client_res = engine.retriever.engine.client.search(index=\"jatin-testing\", size= 1, query={\"match\": {\"text\": {\"query\": \"Enterprise\"}}})\n",
    "es_client_res"
   ]
  },
  {
   "cell_type": "code",
   "execution_count": null,
   "metadata": {},
   "outputs": [],
   "source": [
    "docuverse_client_res = engine.retriever.search(query=\"Enterprise\")\n",
    "docuverse_client_res"
   ]
  },
  {
   "cell_type": "code",
   "execution_count": null,
   "metadata": {},
   "outputs": [],
   "source": [
    "print(docuverse_client_res)\n",
    "for result in docuverse_client_res:\n",
    "    print(result)"
   ]
  },
  {
   "cell_type": "code",
   "execution_count": null,
   "metadata": {},
   "outputs": [],
   "source": [
    "# queries = SearchQueries(data=\"ClaspNQ.jsonl\")\n",
    "# scores = engine.compute_score(queries, results)\n",
    "# print (f\"Results:\\n{scores.to_string()}\")"
   ]
  }
 ],
 "metadata": {
  "kernelspec": {
   "display_name": "GoldenRetriever",
   "language": "python",
   "name": "python3"
  },
  "language_info": {
   "codemirror_mode": {
    "name": "ipython",
    "version": 3
   },
   "file_extension": ".py",
   "mimetype": "text/x-python",
   "name": "python",
   "nbconvert_exporter": "python",
   "pygments_lexer": "ipython3",
   "version": "3.10.14"
  }
 },
 "nbformat": 4,
 "nbformat_minor": 2
}
