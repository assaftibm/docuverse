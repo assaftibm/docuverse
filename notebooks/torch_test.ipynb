{
 "cells": [
  {
   "cell_type": "code",
   "id": "initial_id",
   "metadata": {
    "collapsed": true,
    "ExecuteTime": {
     "end_time": "2024-08-27T22:43:54.819919Z",
     "start_time": "2024-08-27T22:43:53.938962Z"
    }
   },
   "source": "import torch",
   "outputs": [],
   "execution_count": 1
  },
  {
   "metadata": {
    "ExecuteTime": {
     "end_time": "2024-08-27T22:45:02.998470Z",
     "start_time": "2024-08-27T22:45:02.986864Z"
    }
   },
   "cell_type": "code",
   "source": [
    "a=torch.randint(1, 54999, (500,))\n",
    "b=torch.rand((500,))\n",
    "a1=torch.randint(1, 54999, (500,))\n",
    "b1=torch.rand((500,))\n",
    "\n",
    "def f(a, b, a1, b1):\n",
    "    v=torch.zeros((55000))\n",
    "    v[a] = b\n",
    "    v1=torch.zeros((55000))\n",
    "    v1[a1]=b1\n",
    "    return torch.inner(v, v1)\n",
    "f(a, b, a1, b1)\n",
    "# timeit f(a, b, a1, b1)\n",
    "\n",
    "def f1(a, b, a1, b1):\n",
    "    k = {}\n",
    "    for ia, ib in zip(a, b):\n",
    "        k[int(ia)] = float(ib)\n",
    "    v=0\n",
    "    for ia, ib in zip(a1, b1):\n",
    "        v += k.get(int(ia), 0)*float(ib)\n",
    "    return v\n"
   ],
   "id": "1476df0c25b06c62",
   "outputs": [],
   "execution_count": 3
  },
  {
   "metadata": {
    "ExecuteTime": {
     "end_time": "2024-08-27T22:45:55.411423Z",
     "start_time": "2024-08-27T22:45:34.626483Z"
    }
   },
   "cell_type": "code",
   "source": [
    "%timeit f1(a, b, a1, b1)\n",
    "\n"
   ],
   "id": "e3abcbb8264fd54",
   "outputs": [
    {
     "name": "stdout",
     "output_type": "stream",
     "text": [
      "1.46 ms ± 4.31 μs per loop (mean ± std. dev. of 7 runs, 1,000 loops each)\n",
      "109 μs ± 909 ns per loop (mean ± std. dev. of 7 runs, 10,000 loops each)\n"
     ]
    }
   ],
   "execution_count": 4
  },
  {
   "metadata": {
    "ExecuteTime": {
     "end_time": "2024-08-27T22:46:26.395397Z",
     "start_time": "2024-08-27T22:46:18.490976Z"
    }
   },
   "cell_type": "code",
   "source": "%timeit f(a, b, a1, b1)",
   "id": "33a3443a0cb4b738",
   "outputs": [
    {
     "name": "stdout",
     "output_type": "stream",
     "text": [
      "97.4 μs ± 15.3 μs per loop (mean ± std. dev. of 7 runs, 10,000 loops each)\n"
     ]
    }
   ],
   "execution_count": 5
  },
  {
   "metadata": {
    "ExecuteTime": {
     "end_time": "2024-08-27T22:49:15.993410Z",
     "start_time": "2024-08-27T22:49:15.990411Z"
    }
   },
   "cell_type": "code",
   "source": [
    "def f2(a, b, a1, b1):\n",
    "    v=torch.zeros((100, 55000), device='cuda')\n",
    "    for i in range(a.size()[0]):\n",
    "        v[i][a[i]] = b[i]\n",
    "    v1=torch.zeros((100, 55000), device='cuda')\n",
    "    for i in range(a1.size()[0]):\n",
    "        v1[i][a[i]] = b[i]\n",
    "    return torch.inner(v, v1)\n"
   ],
   "id": "447129ed56e96e24",
   "outputs": [],
   "execution_count": 19
  },
  {
   "metadata": {
    "ExecuteTime": {
     "end_time": "2024-08-27T22:46:39.214869Z",
     "start_time": "2024-08-27T22:46:39.211266Z"
    }
   },
   "cell_type": "code",
   "source": [
    "def create_int(n1, n2=1):\n",
    "    if n2==1:\n",
    "        return torch.randint(1, 54999, (n1,), device='cuda')\n",
    "    else:\n",
    "        return torch.randint(1, 54999, (n1, n2), device='cuda')"
   ],
   "id": "2035d70cd6f287a6",
   "outputs": [],
   "execution_count": 7
  },
  {
   "metadata": {
    "ExecuteTime": {
     "end_time": "2024-08-27T22:46:50.281539Z",
     "start_time": "2024-08-27T22:46:50.277305Z"
    }
   },
   "cell_type": "code",
   "source": [
    "def create_rand(n1, n2=1):\n",
    "    if n2==1:\n",
    "        return torch.rand((n1), device='cuda')\n",
    "    else:\n",
    "        return torch.rand((n1, n2), device='cuda')"
   ],
   "id": "34bcdab6026cdcc6",
   "outputs": [],
   "execution_count": 8
  },
  {
   "metadata": {
    "ExecuteTime": {
     "end_time": "2024-08-27T22:47:02.535367Z",
     "start_time": "2024-08-27T22:47:01.486024Z"
    }
   },
   "cell_type": "code",
   "source": [
    "aa=create_int(100, 500)\n",
    "aa1=create_int(100, 500)\n",
    "bb=create_rand(100, 500)\n",
    "bb1=create_rand(100, 500)"
   ],
   "id": "819b5f1cfd8bbfe",
   "outputs": [],
   "execution_count": 9
  },
  {
   "metadata": {
    "ExecuteTime": {
     "end_time": "2024-08-27T22:48:20.543291Z",
     "start_time": "2024-08-27T22:48:20.533242Z"
    }
   },
   "cell_type": "code",
   "source": "v=torch.zeros((100, 55000), device='cuda')",
   "id": "e5206ed17fb4b9e",
   "outputs": [],
   "execution_count": 15
  },
  {
   "metadata": {
    "ExecuteTime": {
     "end_time": "2024-08-27T22:48:23.756215Z",
     "start_time": "2024-08-27T22:48:23.752448Z"
    }
   },
   "cell_type": "code",
   "source": "v[0][a[0]]=b[0]",
   "id": "d1a1d1489dd1c97",
   "outputs": [],
   "execution_count": 16
  },
  {
   "metadata": {
    "ExecuteTime": {
     "end_time": "2024-08-27T22:48:03.662731Z",
     "start_time": "2024-08-27T22:48:03.657973Z"
    }
   },
   "cell_type": "code",
   "source": "v[0].size()",
   "id": "6e88390939b36868",
   "outputs": [
    {
     "data": {
      "text/plain": [
       "torch.Size([100])"
      ]
     },
     "execution_count": 14,
     "metadata": {},
     "output_type": "execute_result"
    }
   ],
   "execution_count": 14
  },
  {
   "metadata": {
    "ExecuteTime": {
     "end_time": "2024-08-27T22:49:19.160482Z",
     "start_time": "2024-08-27T22:49:19.117495Z"
    }
   },
   "cell_type": "code",
   "source": "f2(aa, bb, aa1, bb1)",
   "id": "be67ed6b5d4327f5",
   "outputs": [
    {
     "data": {
      "text/plain": [
       "tensor([[161.0678,   1.4728,   1.5088,  ...,   1.1825,   0.3160,   1.2653],\n",
       "        [  1.4728, 162.9776,   2.5915,  ...,   0.3478,   1.9206,   1.8399],\n",
       "        [  1.5088,   2.5915, 164.5229,  ...,   1.3973,   2.0075,   0.5757],\n",
       "        ...,\n",
       "        [  1.1825,   0.3478,   1.3973,  ..., 165.5163,   0.6630,   0.8933],\n",
       "        [  0.3160,   1.9206,   2.0075,  ...,   0.6630, 161.7457,   1.3474],\n",
       "        [  1.2653,   1.8399,   0.5757,  ...,   0.8933,   1.3474, 176.7607]],\n",
       "       device='cuda:0')"
      ]
     },
     "execution_count": 20,
     "metadata": {},
     "output_type": "execute_result"
    }
   ],
   "execution_count": 20
  },
  {
   "metadata": {
    "ExecuteTime": {
     "end_time": "2024-08-27T22:49:44.580894Z",
     "start_time": "2024-08-27T22:49:31.202968Z"
    }
   },
   "cell_type": "code",
   "source": "%timeit f2(aa, bb, aa1, bb1)",
   "id": "cc915f0618f0f89",
   "outputs": [
    {
     "name": "stdout",
     "output_type": "stream",
     "text": [
      "1.64 ms ± 5.12 μs per loop (mean ± std. dev. of 7 runs, 1,000 loops each)\n"
     ]
    }
   ],
   "execution_count": 21
  },
  {
   "metadata": {},
   "cell_type": "code",
   "outputs": [],
   "execution_count": null,
   "source": "",
   "id": "90b8a4737f4624a"
  }
 ],
 "metadata": {
  "kernelspec": {
   "display_name": "Python 3",
   "language": "python",
   "name": "python3"
  },
  "language_info": {
   "codemirror_mode": {
    "name": "ipython",
    "version": 2
   },
   "file_extension": ".py",
   "mimetype": "text/x-python",
   "name": "python",
   "nbconvert_exporter": "python",
   "pygments_lexer": "ipython2",
   "version": "2.7.6"
  }
 },
 "nbformat": 4,
 "nbformat_minor": 5
}
