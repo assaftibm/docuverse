{
 "cells": [
  {
   "cell_type": "code",
   "id": "initial_id",
   "metadata": {
    "collapsed": true,
    "ExecuteTime": {
     "end_time": "2024-08-28T19:00:49.126894Z",
     "start_time": "2024-08-28T19:00:48.272300Z"
    }
   },
   "source": "import torch",
   "outputs": [],
   "execution_count": 1
  },
  {
   "metadata": {
    "ExecuteTime": {
     "end_time": "2024-08-28T19:00:49.133891Z",
     "start_time": "2024-08-28T19:00:49.131089Z"
    }
   },
   "cell_type": "code",
   "source": [
    "def create_rand(n1, n2=1, device='cuda'):\n",
    "    if n2==1:\n",
    "        return torch.rand((n1), device=device)\n",
    "    else:\n",
    "        return torch.rand((n1, n2), device=device)"
   ],
   "id": "34bcdab6026cdcc6",
   "outputs": [],
   "execution_count": 2
  },
  {
   "metadata": {
    "ExecuteTime": {
     "end_time": "2024-08-28T19:00:49.199657Z",
     "start_time": "2024-08-28T19:00:49.196327Z"
    }
   },
   "cell_type": "code",
   "source": [
    "def create_int(n1, n2=1, device='cuda'):\n",
    "    if n2==1:\n",
    "        return torch.randint(1, 54999, (n1,), device=device)\n",
    "    else:\n",
    "        return torch.randint(1, 54999, (n1, n2), device=device)"
   ],
   "id": "2035d70cd6f287a6",
   "outputs": [],
   "execution_count": 3
  },
  {
   "metadata": {
    "ExecuteTime": {
     "end_time": "2024-08-28T19:00:50.427857Z",
     "start_time": "2024-08-28T19:00:49.239523Z"
    }
   },
   "cell_type": "code",
   "source": [
    "a=torch.randint(1, 54999, (500,))\n",
    "b=torch.rand((500,))\n",
    "a1=torch.randint(1, 54999, (500,))\n",
    "b1=torch.rand((500,))\n",
    "\n",
    "def f(a, b, a1, b1, device='cuda'):\n",
    "    a=a.to(device)\n",
    "    b=b.to(device)\n",
    "    a1=a1.to(device)\n",
    "    b1=b1.to(device)\n",
    "    v=torch.zeros((55000), device=device)\n",
    "    v[a] = b\n",
    "    v1=torch.zeros((55000), device=device)\n",
    "    v1[a1]=b1\n",
    "    return torch.inner(v, v1)\n",
    "f(a, b, a1, b1)\n",
    "# timeit f(a, b, a1, b1)\n",
    "\n",
    "def f1(a, b, a1, b1):\n",
    "    k = {}\n",
    "    for ia, ib in zip(a, b):\n",
    "        k[int(ia)] = float(ib)\n",
    "    v=0\n",
    "    for ia, ib in zip(a1, b1):\n",
    "        v += k.get(int(ia), 0)*float(ib)\n",
    "    return v"
   ],
   "id": "a452e9af8282dfdd",
   "outputs": [],
   "execution_count": 4
  },
  {
   "metadata": {
    "ExecuteTime": {
     "end_time": "2024-08-28T19:00:50.508311Z",
     "start_time": "2024-08-28T19:00:50.439344Z"
    }
   },
   "cell_type": "code",
   "source": "f(a, b, a1, b1)",
   "id": "e8001210ec796a12",
   "outputs": [
    {
     "data": {
      "text/plain": [
       "tensor(1.0397, device='cuda:0')"
      ]
     },
     "execution_count": 5,
     "metadata": {},
     "output_type": "execute_result"
    }
   ],
   "execution_count": 5
  },
  {
   "metadata": {
    "ExecuteTime": {
     "end_time": "2024-08-28T19:00:50.519645Z",
     "start_time": "2024-08-28T19:00:50.517271Z"
    }
   },
   "cell_type": "code",
   "source": [
    "def f100(a, b, a1, b1, device='cuda'):\n",
    "    a=a.to(device)\n",
    "    b=b.to(device)\n",
    "    a1=a1.to(device)\n",
    "    b1=b1.to(device)\n",
    "    for i in range(100):\n",
    "        v=torch.zeros((55000), device=device)\n",
    "        v[a] = b\n",
    "        v1=torch.zeros((55000), device=device)\n",
    "        v1[a1]=b1\n",
    "        r = torch.dot(v, v1)\n",
    "    return r"
   ],
   "id": "ea6266c3653a2068",
   "outputs": [],
   "execution_count": 6
  },
  {
   "metadata": {
    "ExecuteTime": {
     "end_time": "2024-08-28T19:00:50.563723Z",
     "start_time": "2024-08-28T19:00:50.560591Z"
    }
   },
   "cell_type": "code",
   "source": [
    "def f2(a, b, a1, b1, device='cuda'):\n",
    "    v=torch.zeros((100, 55000), device=device)\n",
    "    for i in range(a.size()[0]):\n",
    "        v[i][a[i]] = b[i]\n",
    "    v1=torch.zeros((100, 55000), device=device)\n",
    "    for i in range(a1.size()[0]):\n",
    "        v1[i][a[i]] = b[i]\n",
    "    return torch.matmul(v.reshape(100,1,55000), v1.reshape(100,55000,1)).squeeze(1)\n"
   ],
   "id": "447129ed56e96e24",
   "outputs": [],
   "execution_count": 7
  },
  {
   "metadata": {
    "ExecuteTime": {
     "end_time": "2024-08-28T19:00:56.026982Z",
     "start_time": "2024-08-28T19:00:50.609740Z"
    }
   },
   "cell_type": "code",
   "source": "%timeit f100(a, b, a1, b1, 'cpu')",
   "id": "9b61b7af10f2a139",
   "outputs": [
    {
     "name": "stdout",
     "output_type": "stream",
     "text": [
      "6.49 ms ± 520 μs per loop (mean ± std. dev. of 7 runs, 100 loops each)\n"
     ]
    }
   ],
   "execution_count": 8
  },
  {
   "metadata": {
    "ExecuteTime": {
     "end_time": "2024-08-28T19:01:07.835187Z",
     "start_time": "2024-08-28T19:00:56.093019Z"
    }
   },
   "cell_type": "code",
   "source": "%timeit f1(a, b, a1, b1)",
   "id": "e3abcbb8264fd54",
   "outputs": [
    {
     "name": "stdout",
     "output_type": "stream",
     "text": [
      "1.43 ms ± 2.88 μs per loop (mean ± std. dev. of 7 runs, 1,000 loops each)\n"
     ]
    }
   ],
   "execution_count": 9
  },
  {
   "metadata": {
    "ExecuteTime": {
     "end_time": "2024-08-28T19:01:17.054890Z",
     "start_time": "2024-08-28T19:01:07.907861Z"
    }
   },
   "cell_type": "code",
   "source": "%timeit f(a, b, a1, b1, 'cpu')",
   "id": "33a3443a0cb4b738",
   "outputs": [
    {
     "name": "stdout",
     "output_type": "stream",
     "text": [
      "113 μs ± 1.71 μs per loop (mean ± std. dev. of 7 runs, 10,000 loops each)\n"
     ]
    }
   ],
   "execution_count": 10
  },
  {
   "metadata": {
    "ExecuteTime": {
     "end_time": "2024-08-27T22:47:02.535367Z",
     "start_time": "2024-08-27T22:47:01.486024Z"
    }
   },
   "cell_type": "code",
   "outputs": [],
   "execution_count": 9,
   "source": [
    "aa=create_int(100, 500)\n",
    "aa1=create_int(100, 500)\n",
    "bb=create_rand(100, 500)\n",
    "bb1=create_rand(100, 500)"
   ],
   "id": "819b5f1cfd8bbfe"
  },
  {
   "metadata": {
    "ExecuteTime": {
     "end_time": "2024-08-27T23:22:08.512880Z",
     "start_time": "2024-08-27T23:21:55.162824Z"
    }
   },
   "cell_type": "code",
   "outputs": [
    {
     "name": "stdout",
     "output_type": "stream",
     "text": [
      "1.65 ms ± 6.98 μs per loop (mean ± std. dev. of 7 runs, 1,000 loops each)\n"
     ]
    }
   ],
   "execution_count": 67,
   "source": "%timeit f2(aa, bb, aa1, bb1)",
   "id": "cc915f0618f0f89"
  },
  {
   "metadata": {
    "ExecuteTime": {
     "end_time": "2024-08-28T19:03:27.104459Z",
     "start_time": "2024-08-28T19:03:27.097218Z"
    }
   },
   "cell_type": "code",
   "source": [
    "x=create_int(500, 1, 'cpu')\n",
    "y=create_rand(500, 1, 'cpu')\n",
    "xx=create_int(100,500, 'cpu')\n",
    "yy=create_rand(100,500, 'cpu')\n",
    "v=torch.zeros((55000),device='cpu')\n",
    "vv=torch.zeros((100,55000),device='cpu')"
   ],
   "id": "5617f793829ca075",
   "outputs": [],
   "execution_count": 17
  },
  {
   "metadata": {
    "ExecuteTime": {
     "end_time": "2024-08-28T19:03:28.144547Z",
     "start_time": "2024-08-28T19:03:28.141562Z"
    }
   },
   "cell_type": "code",
   "source": "v[xx]=yy",
   "id": "ccf86df8bdf29574",
   "outputs": [],
   "execution_count": 18
  },
  {
   "metadata": {
    "ExecuteTime": {
     "end_time": "2024-08-28T19:03:29.744921Z",
     "start_time": "2024-08-28T19:03:29.741622Z"
    }
   },
   "cell_type": "code",
   "source": [
    "for i in range(100):\n",
    "    vv[i][xx[i]] = yy[i]"
   ],
   "id": "4d52eb1e4699ed10",
   "outputs": [],
   "execution_count": 19
  },
  {
   "metadata": {
    "ExecuteTime": {
     "end_time": "2024-08-28T19:03:54.650090Z",
     "start_time": "2024-08-28T19:03:54.644718Z"
    }
   },
   "cell_type": "code",
   "source": "r=torch.matmul(v.reshape(1, 55000), vv.reshape(100,55000,1))",
   "id": "b2c844f6691a6b5a",
   "outputs": [],
   "execution_count": 21
  },
  {
   "metadata": {
    "ExecuteTime": {
     "end_time": "2024-08-28T19:04:09.291770Z",
     "start_time": "2024-08-28T19:04:09.289097Z"
    }
   },
   "cell_type": "code",
   "source": [
    "r.size(\n",
    ")"
   ],
   "id": "445eef470d7c2639",
   "outputs": [
    {
     "data": {
      "text/plain": [
       "torch.Size([100, 1, 1])"
      ]
     },
     "execution_count": 22,
     "metadata": {},
     "output_type": "execute_result"
    }
   ],
   "execution_count": 22
  },
  {
   "metadata": {
    "ExecuteTime": {
     "end_time": "2024-08-28T18:59:40.461205Z",
     "start_time": "2024-08-28T18:59:40.456956Z"
    }
   },
   "cell_type": "code",
   "source": "torch.cuda.device_count()",
   "id": "d990302c57fe5c71",
   "outputs": [
    {
     "data": {
      "text/plain": [
       "2"
      ]
     },
     "execution_count": 14,
     "metadata": {},
     "output_type": "execute_result"
    }
   ],
   "execution_count": 14
  },
  {
   "metadata": {},
   "cell_type": "code",
   "outputs": [],
   "execution_count": null,
   "source": "",
   "id": "4d2927440b6000aa"
  }
 ],
 "metadata": {
  "kernelspec": {
   "display_name": "Python 3",
   "language": "python",
   "name": "python3"
  },
  "language_info": {
   "codemirror_mode": {
    "name": "ipython",
    "version": 2
   },
   "file_extension": ".py",
   "mimetype": "text/x-python",
   "name": "python",
   "nbconvert_exporter": "python",
   "pygments_lexer": "ipython2",
   "version": "2.7.6"
  }
 },
 "nbformat": 4,
 "nbformat_minor": 5
}
