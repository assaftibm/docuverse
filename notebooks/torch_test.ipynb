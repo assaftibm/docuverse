{
 "cells": [
  {
   "cell_type": "code",
   "id": "initial_id",
   "metadata": {
    "collapsed": true,
    "ExecuteTime": {
     "end_time": "2024-08-27T22:43:54.819919Z",
     "start_time": "2024-08-27T22:43:53.938962Z"
    }
   },
   "source": "import torch",
   "outputs": [],
   "execution_count": 1
  },
  {
   "metadata": {
    "ExecuteTime": {
     "end_time": "2024-08-27T23:18:01.377101Z",
     "start_time": "2024-08-27T23:18:01.344479Z"
    }
   },
   "cell_type": "code",
   "source": [
    "a=torch.randint(1, 54999, (500,))\n",
    "b=torch.rand((500,))\n",
    "a1=torch.randint(1, 54999, (500,))\n",
    "b1=torch.rand((500,))\n",
    "\n",
    "def f(a, b, a1, b1, device='cuda'):\n",
    "    a=a.to(device)\n",
    "    b=b.to(device)\n",
    "    a1=a1.to(device)\n",
    "    b1=b1.to(device)\n",
    "    v=torch.zeros((55000), device=device)\n",
    "    v[a] = b\n",
    "    v1=torch.zeros((55000), device=device)\n",
    "    v1[a1]=b1\n",
    "    return torch.inner(v, v1)\n",
    "f(a, b, a1, b1)\n",
    "# timeit f(a, b, a1, b1)\n",
    "\n",
    "def f1(a, b, a1, b1):\n",
    "    k = {}\n",
    "    for ia, ib in zip(a, b):\n",
    "        k[int(ia)] = float(ib)\n",
    "    v=0\n",
    "    for ia, ib in zip(a1, b1):\n",
    "        v += k.get(int(ia), 0)*float(ib)\n",
    "    return v"
   ],
   "id": "a452e9af8282dfdd",
   "outputs": [],
   "execution_count": 58
  },
  {
   "metadata": {
    "ExecuteTime": {
     "end_time": "2024-08-27T23:19:44.042081Z",
     "start_time": "2024-08-27T23:19:44.038210Z"
    }
   },
   "cell_type": "code",
   "source": [
    "def f100(a, b, a1, b1, device='cuda'):\n",
    "    a=a.to(device)\n",
    "    b=b.to(device)\n",
    "    a1=a1.to(device)\n",
    "    b1=b1.to(device)\n",
    "    for i in range(100):\n",
    "        v=torch.zeros((55000), device=device)\n",
    "        v[a] = b\n",
    "        v1=torch.zeros((55000), device=device)\n",
    "        v1[a1]=b1\n",
    "        r = torch.dot(v, v1)\n",
    "    return r"
   ],
   "id": "ea6266c3653a2068",
   "outputs": [],
   "execution_count": 63
  },
  {
   "metadata": {
    "ExecuteTime": {
     "end_time": "2024-08-27T23:18:05.507978Z",
     "start_time": "2024-08-27T23:18:05.502521Z"
    }
   },
   "cell_type": "code",
   "source": "f(a, b, a1, b1)",
   "id": "e8001210ec796a12",
   "outputs": [
    {
     "data": {
      "text/plain": [
       "tensor(1.1938, device='cuda:0')"
      ]
     },
     "execution_count": 59,
     "metadata": {},
     "output_type": "execute_result"
    }
   ],
   "execution_count": 59
  },
  {
   "metadata": {
    "ExecuteTime": {
     "end_time": "2024-08-27T23:20:25.592518Z",
     "start_time": "2024-08-27T23:20:20.560928Z"
    }
   },
   "cell_type": "code",
   "source": "%timeit f100(a, b, a1, b1, 'cpu')",
   "id": "9b61b7af10f2a139",
   "outputs": [
    {
     "name": "stdout",
     "output_type": "stream",
     "text": [
      "6.14 ms ± 173 μs per loop (mean ± std. dev. of 7 runs, 100 loops each)\n"
     ]
    }
   ],
   "execution_count": 65
  },
  {
   "metadata": {
    "ExecuteTime": {
     "end_time": "2024-08-27T22:45:55.411423Z",
     "start_time": "2024-08-27T22:45:34.626483Z"
    }
   },
   "cell_type": "code",
   "source": "%timeit f1(a, b, a1, b1)",
   "id": "e3abcbb8264fd54",
   "outputs": [
    {
     "name": "stdout",
     "output_type": "stream",
     "text": [
      "1.46 ms ± 4.31 μs per loop (mean ± std. dev. of 7 runs, 1,000 loops each)\n",
      "109 μs ± 909 ns per loop (mean ± std. dev. of 7 runs, 10,000 loops each)\n"
     ]
    }
   ],
   "execution_count": 4
  },
  {
   "metadata": {
    "ExecuteTime": {
     "end_time": "2024-08-27T23:20:52.503293Z",
     "start_time": "2024-08-27T23:20:43.262441Z"
    }
   },
   "cell_type": "code",
   "source": "%timeit f(a, b, a1, b1, 'cpu')",
   "id": "33a3443a0cb4b738",
   "outputs": [
    {
     "name": "stdout",
     "output_type": "stream",
     "text": [
      "112 μs ± 847 ns per loop (mean ± std. dev. of 7 runs, 10,000 loops each)\n"
     ]
    }
   ],
   "execution_count": 66
  },
  {
   "metadata": {
    "ExecuteTime": {
     "end_time": "2024-08-27T23:12:50.397231Z",
     "start_time": "2024-08-27T23:12:50.391716Z"
    }
   },
   "cell_type": "code",
   "source": [
    "def f2(a, b, a1, b1, device='cuda'):\n",
    "    v=torch.zeros((100, 55000), device=device)\n",
    "    for i in range(a.size()[0]):\n",
    "        v[i][a[i]] = b[i]\n",
    "    v1=torch.zeros((100, 55000), device=device)\n",
    "    for i in range(a1.size()[0]):\n",
    "        v1[i][a[i]] = b[i]\n",
    "    return torch.matmul(v.reshape(100,1,55000), v1.reshape(100,55000,1)).squeeze(1)\n"
   ],
   "id": "447129ed56e96e24",
   "outputs": [],
   "execution_count": 49
  },
  {
   "metadata": {
    "ExecuteTime": {
     "end_time": "2024-08-27T22:46:39.214869Z",
     "start_time": "2024-08-27T22:46:39.211266Z"
    }
   },
   "cell_type": "code",
   "source": [
    "def create_int(n1, n2=1):\n",
    "    if n2==1:\n",
    "        return torch.randint(1, 54999, (n1,), device='cuda')\n",
    "    else:\n",
    "        return torch.randint(1, 54999, (n1, n2), device='cuda')"
   ],
   "id": "2035d70cd6f287a6",
   "outputs": [],
   "execution_count": 7
  },
  {
   "metadata": {
    "ExecuteTime": {
     "end_time": "2024-08-27T22:46:50.281539Z",
     "start_time": "2024-08-27T22:46:50.277305Z"
    }
   },
   "cell_type": "code",
   "source": [
    "def create_rand(n1, n2=1):\n",
    "    if n2==1:\n",
    "        return torch.rand((n1), device='cuda')\n",
    "    else:\n",
    "        return torch.rand((n1, n2), device='cuda')"
   ],
   "id": "34bcdab6026cdcc6",
   "outputs": [],
   "execution_count": 8
  },
  {
   "metadata": {
    "ExecuteTime": {
     "end_time": "2024-08-27T22:47:02.535367Z",
     "start_time": "2024-08-27T22:47:01.486024Z"
    }
   },
   "cell_type": "code",
   "source": [
    "aa=create_int(100, 500)\n",
    "aa1=create_int(100, 500)\n",
    "bb=create_rand(100, 500)\n",
    "bb1=create_rand(100, 500)"
   ],
   "id": "819b5f1cfd8bbfe",
   "outputs": [],
   "execution_count": 9
  },
  {
   "metadata": {
    "ExecuteTime": {
     "end_time": "2024-08-27T22:48:20.543291Z",
     "start_time": "2024-08-27T22:48:20.533242Z"
    }
   },
   "cell_type": "code",
   "source": "v=torch.zeros((100, 55000), device='cuda')",
   "id": "e5206ed17fb4b9e",
   "outputs": [],
   "execution_count": 15
  },
  {
   "metadata": {
    "ExecuteTime": {
     "end_time": "2024-08-27T22:48:23.756215Z",
     "start_time": "2024-08-27T22:48:23.752448Z"
    }
   },
   "cell_type": "code",
   "source": "v[0][a[0]]=b[0]",
   "id": "d1a1d1489dd1c97",
   "outputs": [],
   "execution_count": 16
  },
  {
   "metadata": {
    "ExecuteTime": {
     "end_time": "2024-08-27T22:48:03.662731Z",
     "start_time": "2024-08-27T22:48:03.657973Z"
    }
   },
   "cell_type": "code",
   "source": "v[0].size()",
   "id": "6e88390939b36868",
   "outputs": [
    {
     "data": {
      "text/plain": [
       "torch.Size([100])"
      ]
     },
     "execution_count": 14,
     "metadata": {},
     "output_type": "execute_result"
    }
   ],
   "execution_count": 14
  },
  {
   "metadata": {
    "ExecuteTime": {
     "end_time": "2024-08-27T23:12:56.016132Z",
     "start_time": "2024-08-27T23:12:56.007409Z"
    }
   },
   "cell_type": "code",
   "source": "f2(aa, bb, aa1, bb1)",
   "id": "be67ed6b5d4327f5",
   "outputs": [
    {
     "data": {
      "text/plain": [
       "tensor([[161.0678],\n",
       "        [162.9776],\n",
       "        [164.5586],\n",
       "        [162.5389],\n",
       "        [162.6674],\n",
       "        [168.6807],\n",
       "        [157.1375],\n",
       "        [171.1461],\n",
       "        [154.9973],\n",
       "        [174.8042],\n",
       "        [162.2551],\n",
       "        [168.1856],\n",
       "        [182.1179],\n",
       "        [178.5443],\n",
       "        [170.2158],\n",
       "        [161.8491],\n",
       "        [158.8582],\n",
       "        [177.0495],\n",
       "        [184.2227],\n",
       "        [182.1853],\n",
       "        [173.8644],\n",
       "        [168.2997],\n",
       "        [172.8974],\n",
       "        [161.3595],\n",
       "        [160.5598],\n",
       "        [155.9152],\n",
       "        [170.7030],\n",
       "        [162.1870],\n",
       "        [165.8971],\n",
       "        [175.1031],\n",
       "        [168.5596],\n",
       "        [175.4227],\n",
       "        [170.0728],\n",
       "        [161.0659],\n",
       "        [169.8368],\n",
       "        [159.0128],\n",
       "        [166.7143],\n",
       "        [171.7919],\n",
       "        [164.7404],\n",
       "        [163.6297],\n",
       "        [165.8949],\n",
       "        [152.5069],\n",
       "        [155.8599],\n",
       "        [166.4060],\n",
       "        [169.9680],\n",
       "        [164.6809],\n",
       "        [163.4969],\n",
       "        [171.0675],\n",
       "        [168.9242],\n",
       "        [166.4174],\n",
       "        [168.1378],\n",
       "        [161.3286],\n",
       "        [177.3677],\n",
       "        [169.2041],\n",
       "        [167.0259],\n",
       "        [161.8275],\n",
       "        [161.5856],\n",
       "        [156.3964],\n",
       "        [180.6992],\n",
       "        [174.1817],\n",
       "        [155.3904],\n",
       "        [163.5925],\n",
       "        [155.8780],\n",
       "        [168.3242],\n",
       "        [168.8574],\n",
       "        [160.0194],\n",
       "        [164.6318],\n",
       "        [158.1503],\n",
       "        [163.8332],\n",
       "        [170.6676],\n",
       "        [169.0709],\n",
       "        [171.7387],\n",
       "        [166.2415],\n",
       "        [160.0142],\n",
       "        [178.9023],\n",
       "        [168.6454],\n",
       "        [161.3578],\n",
       "        [162.4672],\n",
       "        [162.8737],\n",
       "        [156.3552],\n",
       "        [163.5661],\n",
       "        [161.6320],\n",
       "        [175.3288],\n",
       "        [173.6596],\n",
       "        [176.9876],\n",
       "        [157.1916],\n",
       "        [165.8639],\n",
       "        [167.6996],\n",
       "        [168.7347],\n",
       "        [162.4583],\n",
       "        [160.8178],\n",
       "        [147.8537],\n",
       "        [171.9771],\n",
       "        [156.6101],\n",
       "        [165.7090],\n",
       "        [155.8259],\n",
       "        [152.0377],\n",
       "        [165.5162],\n",
       "        [161.9724],\n",
       "        [176.7608]], device='cuda:0')"
      ]
     },
     "execution_count": 50,
     "metadata": {},
     "output_type": "execute_result"
    }
   ],
   "execution_count": 50
  },
  {
   "metadata": {
    "ExecuteTime": {
     "end_time": "2024-08-27T23:22:08.512880Z",
     "start_time": "2024-08-27T23:21:55.162824Z"
    }
   },
   "cell_type": "code",
   "source": "%timeit f2(aa, bb, aa1, bb1)",
   "id": "cc915f0618f0f89",
   "outputs": [
    {
     "name": "stdout",
     "output_type": "stream",
     "text": [
      "1.65 ms ± 6.98 μs per loop (mean ± std. dev. of 7 runs, 1,000 loops each)\n"
     ]
    }
   ],
   "execution_count": 67
  },
  {
   "metadata": {
    "ExecuteTime": {
     "end_time": "2024-08-27T22:59:26.065724Z",
     "start_time": "2024-08-27T22:59:25.999898Z"
    }
   },
   "cell_type": "code",
   "source": "x=create_rand(3,2)",
   "id": "90b8a4737f4624a",
   "outputs": [],
   "execution_count": 25
  },
  {
   "metadata": {
    "ExecuteTime": {
     "end_time": "2024-08-27T23:02:44.800809Z",
     "start_time": "2024-08-27T23:02:44.776439Z"
    }
   },
   "cell_type": "code",
   "source": "y=create_rand(3,2)",
   "id": "b8a42f12ae42d3ad",
   "outputs": [],
   "execution_count": 35
  },
  {
   "metadata": {
    "ExecuteTime": {
     "end_time": "2024-08-27T23:00:53.516124Z",
     "start_time": "2024-08-27T23:00:53.513348Z"
    }
   },
   "cell_type": "code",
   "source": "z=torch.inner(x,y)",
   "id": "b1fe3d37a67fbf2a",
   "outputs": [],
   "execution_count": 32
  },
  {
   "metadata": {
    "ExecuteTime": {
     "end_time": "2024-08-27T23:00:54.900031Z",
     "start_time": "2024-08-27T23:00:54.895312Z"
    }
   },
   "cell_type": "code",
   "source": "z.size()",
   "id": "a19e7582edd8b644",
   "outputs": [
    {
     "data": {
      "text/plain": [
       "torch.Size([3, 4])"
      ]
     },
     "execution_count": 33,
     "metadata": {},
     "output_type": "execute_result"
    }
   ],
   "execution_count": 33
  },
  {
   "metadata": {
    "ExecuteTime": {
     "end_time": "2024-08-27T23:00:49.340557Z",
     "start_time": "2024-08-27T23:00:49.318509Z"
    }
   },
   "cell_type": "code",
   "source": "y=create_rand(4,2)",
   "id": "a5b103d5f77316bc",
   "outputs": [],
   "execution_count": 31
  },
  {
   "metadata": {
    "ExecuteTime": {
     "end_time": "2024-08-27T23:01:52.014002Z",
     "start_time": "2024-08-27T23:01:51.997139Z"
    }
   },
   "cell_type": "code",
   "source": "torch.dot(x,y)",
   "id": "42fe28b644dc1ffa",
   "outputs": [
    {
     "ename": "RuntimeError",
     "evalue": "1D tensors expected, but got 2D and 2D tensors",
     "output_type": "error",
     "traceback": [
      "\u001B[0;31m---------------------------------------------------------------------------\u001B[0m",
      "\u001B[0;31mRuntimeError\u001B[0m                              Traceback (most recent call last)",
      "Cell \u001B[0;32mIn[34], line 1\u001B[0m\n\u001B[0;32m----> 1\u001B[0m \u001B[43mtorch\u001B[49m\u001B[38;5;241;43m.\u001B[39;49m\u001B[43mdot\u001B[49m\u001B[43m(\u001B[49m\u001B[43mx\u001B[49m\u001B[43m,\u001B[49m\u001B[43my\u001B[49m\u001B[43m)\u001B[49m\n",
      "\u001B[0;31mRuntimeError\u001B[0m: 1D tensors expected, but got 2D and 2D tensors"
     ]
    }
   ],
   "execution_count": 34
  },
  {
   "metadata": {
    "ExecuteTime": {
     "end_time": "2024-08-27T23:02:56.752061Z",
     "start_time": "2024-08-27T23:02:56.706041Z"
    }
   },
   "cell_type": "code",
   "source": "torch.dot(x[0], y[0])",
   "id": "7cb3123529f294ac",
   "outputs": [
    {
     "data": {
      "text/plain": [
       "tensor(1.0246, device='cuda:0')"
      ]
     },
     "execution_count": 36,
     "metadata": {},
     "output_type": "execute_result"
    }
   ],
   "execution_count": 36
  },
  {
   "metadata": {
    "ExecuteTime": {
     "end_time": "2024-08-27T23:04:54.317867Z",
     "start_time": "2024-08-27T23:04:54.272135Z"
    }
   },
   "cell_type": "code",
   "source": "torch.mm(x.transpose(0,1),y)",
   "id": "7615844f3a99af97",
   "outputs": [
    {
     "data": {
      "text/plain": [
       "tensor([[1.3986, 1.3617],\n",
       "        [1.2097, 1.1269]], device='cuda:0')"
      ]
     },
     "execution_count": 39,
     "metadata": {},
     "output_type": "execute_result"
    }
   ],
   "execution_count": 39
  },
  {
   "metadata": {
    "ExecuteTime": {
     "end_time": "2024-08-27T23:05:18.245463Z",
     "start_time": "2024-08-27T23:05:18.179729Z"
    }
   },
   "cell_type": "code",
   "source": "x.transpose(0,1)",
   "id": "d0c88dfdddca3509",
   "outputs": [
    {
     "data": {
      "text/plain": [
       "tensor([[0.5963, 0.6798, 0.6079],\n",
       "        [0.7495, 0.1386, 0.6691]], device='cuda:0')"
      ]
     },
     "execution_count": 40,
     "metadata": {},
     "output_type": "execute_result"
    }
   ],
   "execution_count": 40
  },
  {
   "metadata": {
    "ExecuteTime": {
     "end_time": "2024-08-27T23:05:36.997684Z",
     "start_time": "2024-08-27T23:05:36.974646Z"
    }
   },
   "cell_type": "code",
   "source": "x.reshape(2,3)",
   "id": "9769d1e5910ee224",
   "outputs": [
    {
     "data": {
      "text/plain": [
       "tensor([[0.5963, 0.7495, 0.6798],\n",
       "        [0.1386, 0.6079, 0.6691]], device='cuda:0')"
      ]
     },
     "execution_count": 41,
     "metadata": {},
     "output_type": "execute_result"
    }
   ],
   "execution_count": 41
  },
  {
   "metadata": {
    "ExecuteTime": {
     "end_time": "2024-08-27T23:05:39.692714Z",
     "start_time": "2024-08-27T23:05:39.689381Z"
    }
   },
   "cell_type": "code",
   "source": "x",
   "id": "ebbc5afaaeef4988",
   "outputs": [
    {
     "data": {
      "text/plain": [
       "tensor([[0.5963, 0.7495],\n",
       "        [0.6798, 0.1386],\n",
       "        [0.6079, 0.6691]], device='cuda:0')"
      ]
     },
     "execution_count": 42,
     "metadata": {},
     "output_type": "execute_result"
    }
   ],
   "execution_count": 42
  },
  {
   "metadata": {
    "ExecuteTime": {
     "end_time": "2024-08-27T23:06:15.550814Z",
     "start_time": "2024-08-27T23:06:15.533801Z"
    }
   },
   "cell_type": "code",
   "source": "x.transpose(1,0)",
   "id": "e3593f444a878fa2",
   "outputs": [
    {
     "data": {
      "text/plain": [
       "tensor([[0.5963, 0.6798, 0.6079],\n",
       "        [0.7495, 0.1386, 0.6691]], device='cuda:0')"
      ]
     },
     "execution_count": 43,
     "metadata": {},
     "output_type": "execute_result"
    }
   ],
   "execution_count": 43
  },
  {
   "metadata": {
    "ExecuteTime": {
     "end_time": "2024-08-27T23:08:00.386946Z",
     "start_time": "2024-08-27T23:08:00.373408Z"
    }
   },
   "cell_type": "code",
   "source": "torch.matmul(x,y)",
   "id": "f1bf8022fcccf1c3",
   "outputs": [
    {
     "ename": "RuntimeError",
     "evalue": "mat1 and mat2 shapes cannot be multiplied (3x2 and 3x2)",
     "output_type": "error",
     "traceback": [
      "\u001B[0;31m---------------------------------------------------------------------------\u001B[0m",
      "\u001B[0;31mRuntimeError\u001B[0m                              Traceback (most recent call last)",
      "Cell \u001B[0;32mIn[44], line 1\u001B[0m\n\u001B[0;32m----> 1\u001B[0m \u001B[43mtorch\u001B[49m\u001B[38;5;241;43m.\u001B[39;49m\u001B[43mmatmul\u001B[49m\u001B[43m(\u001B[49m\u001B[43mx\u001B[49m\u001B[43m,\u001B[49m\u001B[43my\u001B[49m\u001B[43m)\u001B[49m\n",
      "\u001B[0;31mRuntimeError\u001B[0m: mat1 and mat2 shapes cannot be multiplied (3x2 and 3x2)"
     ]
    }
   ],
   "execution_count": 44
  },
  {
   "metadata": {
    "ExecuteTime": {
     "end_time": "2024-08-27T23:11:11.363335Z",
     "start_time": "2024-08-27T23:11:11.283790Z"
    }
   },
   "cell_type": "code",
   "source": "torch.matmul(x.reshape(3,1,2),y.reshape(3,2,1))",
   "id": "737ba3829e5c6e64",
   "outputs": [
    {
     "data": {
      "text/plain": [
       "tensor([[[1.0246]],\n",
       "\n",
       "        [[0.5487]],\n",
       "\n",
       "        [[0.9521]]], device='cuda:0')"
      ]
     },
     "execution_count": 46,
     "metadata": {},
     "output_type": "execute_result"
    }
   ],
   "execution_count": 46
  },
  {
   "metadata": {},
   "cell_type": "code",
   "outputs": [],
   "execution_count": null,
   "source": "",
   "id": "5617f793829ca075"
  }
 ],
 "metadata": {
  "kernelspec": {
   "display_name": "Python 3",
   "language": "python",
   "name": "python3"
  },
  "language_info": {
   "codemirror_mode": {
    "name": "ipython",
    "version": 2
   },
   "file_extension": ".py",
   "mimetype": "text/x-python",
   "name": "python",
   "nbconvert_exporter": "python",
   "pygments_lexer": "ipython2",
   "version": "2.7.6"
  }
 },
 "nbformat": 4,
 "nbformat_minor": 5
}
