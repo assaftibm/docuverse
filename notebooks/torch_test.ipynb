{
 "cells": [
  {
   "cell_type": "code",
   "id": "initial_id",
   "metadata": {
    "collapsed": true,
    "ExecuteTime": {
     "end_time": "2024-08-27T22:43:54.819919Z",
     "start_time": "2024-08-27T22:43:53.938962Z"
    }
   },
   "source": "import torch",
   "outputs": [],
   "execution_count": 1
  },
  {
   "metadata": {
    "ExecuteTime": {
     "end_time": "2024-08-27T22:46:50.281539Z",
     "start_time": "2024-08-27T22:46:50.277305Z"
    }
   },
   "cell_type": "code",
   "outputs": [],
   "execution_count": 8,
   "source": [
    "def create_rand(n1, n2=1, device='cuda'):\n",
    "    if n2==1:\n",
    "        return torch.rand((n1), device=device)\n",
    "    else:\n",
    "        return torch.rand((n1, n2), device=device)"
   ],
   "id": "34bcdab6026cdcc6"
  },
  {
   "metadata": {
    "ExecuteTime": {
     "end_time": "2024-08-27T22:46:39.214869Z",
     "start_time": "2024-08-27T22:46:39.211266Z"
    }
   },
   "cell_type": "code",
   "outputs": [],
   "execution_count": 7,
   "source": [
    "def create_int(n1, n2=1, device='cuda'):\n",
    "    if n2==1:\n",
    "        return torch.randint(1, 54999, (n1,), device=device)\n",
    "    else:\n",
    "        return torch.randint(1, 54999, (n1, n2), device=device)"
   ],
   "id": "2035d70cd6f287a6"
  },
  {
   "metadata": {
    "ExecuteTime": {
     "end_time": "2024-08-27T23:18:01.377101Z",
     "start_time": "2024-08-27T23:18:01.344479Z"
    }
   },
   "cell_type": "code",
   "outputs": [],
   "execution_count": 58,
   "source": [
    "a=torch.randint(1, 54999, (500,))\n",
    "b=torch.rand((500,))\n",
    "a1=torch.randint(1, 54999, (500,))\n",
    "b1=torch.rand((500,))\n",
    "\n",
    "def f(a, b, a1, b1, device='cuda'):\n",
    "    a=a.to(device)\n",
    "    b=b.to(device)\n",
    "    a1=a1.to(device)\n",
    "    b1=b1.to(device)\n",
    "    v=torch.zeros((55000), device=device)\n",
    "    v[a] = b\n",
    "    v1=torch.zeros((55000), device=device)\n",
    "    v1[a1]=b1\n",
    "    return torch.inner(v, v1)\n",
    "f(a, b, a1, b1)\n",
    "# timeit f(a, b, a1, b1)\n",
    "\n",
    "def f1(a, b, a1, b1):\n",
    "    k = {}\n",
    "    for ia, ib in zip(a, b):\n",
    "        k[int(ia)] = float(ib)\n",
    "    v=0\n",
    "    for ia, ib in zip(a1, b1):\n",
    "        v += k.get(int(ia), 0)*float(ib)\n",
    "    return v"
   ],
   "id": "a452e9af8282dfdd"
  },
  {
   "metadata": {
    "ExecuteTime": {
     "end_time": "2024-08-27T23:18:05.507978Z",
     "start_time": "2024-08-27T23:18:05.502521Z"
    }
   },
   "cell_type": "code",
   "outputs": [
    {
     "data": {
      "text/plain": [
       "tensor(1.1938, device='cuda:0')"
      ]
     },
     "execution_count": 59,
     "metadata": {},
     "output_type": "execute_result"
    }
   ],
   "execution_count": 59,
   "source": "f(a, b, a1, b1)",
   "id": "e8001210ec796a12"
  },
  {
   "metadata": {
    "ExecuteTime": {
     "end_time": "2024-08-27T23:19:44.042081Z",
     "start_time": "2024-08-27T23:19:44.038210Z"
    }
   },
   "cell_type": "code",
   "outputs": [],
   "execution_count": 63,
   "source": [
    "def f100(a, b, a1, b1, device='cuda'):\n",
    "    a=a.to(device)\n",
    "    b=b.to(device)\n",
    "    a1=a1.to(device)\n",
    "    b1=b1.to(device)\n",
    "    for i in range(100):\n",
    "        v=torch.zeros((55000), device=device)\n",
    "        v[a] = b\n",
    "        v1=torch.zeros((55000), device=device)\n",
    "        v1[a1]=b1\n",
    "        r = torch.dot(v, v1)\n",
    "    return r"
   ],
   "id": "ea6266c3653a2068"
  },
  {
   "metadata": {
    "ExecuteTime": {
     "end_time": "2024-08-27T23:12:50.397231Z",
     "start_time": "2024-08-27T23:12:50.391716Z"
    }
   },
   "cell_type": "code",
   "outputs": [],
   "execution_count": 49,
   "source": [
    "def f2(a, b, a1, b1, device='cuda'):\n",
    "    v=torch.zeros((100, 55000), device=device)\n",
    "    for i in range(a.size()[0]):\n",
    "        v[i][a[i]] = b[i]\n",
    "    v1=torch.zeros((100, 55000), device=device)\n",
    "    for i in range(a1.size()[0]):\n",
    "        v1[i][a[i]] = b[i]\n",
    "    return torch.matmul(v.reshape(100,1,55000), v1.reshape(100,55000,1)).squeeze(1)\n"
   ],
   "id": "447129ed56e96e24"
  },
  {
   "metadata": {
    "ExecuteTime": {
     "end_time": "2024-08-27T23:20:25.592518Z",
     "start_time": "2024-08-27T23:20:20.560928Z"
    }
   },
   "cell_type": "code",
   "outputs": [
    {
     "name": "stdout",
     "output_type": "stream",
     "text": [
      "6.14 ms ± 173 μs per loop (mean ± std. dev. of 7 runs, 100 loops each)\n"
     ]
    }
   ],
   "execution_count": 65,
   "source": "%timeit f100(a, b, a1, b1, 'cpu')",
   "id": "9b61b7af10f2a139"
  },
  {
   "metadata": {
    "ExecuteTime": {
     "end_time": "2024-08-27T22:45:55.411423Z",
     "start_time": "2024-08-27T22:45:34.626483Z"
    }
   },
   "cell_type": "code",
   "outputs": [
    {
     "name": "stdout",
     "output_type": "stream",
     "text": [
      "1.46 ms ± 4.31 μs per loop (mean ± std. dev. of 7 runs, 1,000 loops each)\n",
      "109 μs ± 909 ns per loop (mean ± std. dev. of 7 runs, 10,000 loops each)\n"
     ]
    }
   ],
   "execution_count": 4,
   "source": "%timeit f1(a, b, a1, b1)",
   "id": "e3abcbb8264fd54"
  },
  {
   "metadata": {
    "ExecuteTime": {
     "end_time": "2024-08-27T23:20:52.503293Z",
     "start_time": "2024-08-27T23:20:43.262441Z"
    }
   },
   "cell_type": "code",
   "outputs": [
    {
     "name": "stdout",
     "output_type": "stream",
     "text": [
      "112 μs ± 847 ns per loop (mean ± std. dev. of 7 runs, 10,000 loops each)\n"
     ]
    }
   ],
   "execution_count": 66,
   "source": "%timeit f(a, b, a1, b1, 'cpu')",
   "id": "33a3443a0cb4b738"
  },
  {
   "metadata": {
    "ExecuteTime": {
     "end_time": "2024-08-27T22:47:02.535367Z",
     "start_time": "2024-08-27T22:47:01.486024Z"
    }
   },
   "cell_type": "code",
   "outputs": [],
   "execution_count": 9,
   "source": [
    "aa=create_int(100, 500)\n",
    "aa1=create_int(100, 500)\n",
    "bb=create_rand(100, 500)\n",
    "bb1=create_rand(100, 500)"
   ],
   "id": "819b5f1cfd8bbfe"
  },
  {
   "metadata": {
    "ExecuteTime": {
     "end_time": "2024-08-27T23:22:08.512880Z",
     "start_time": "2024-08-27T23:21:55.162824Z"
    }
   },
   "cell_type": "code",
   "outputs": [
    {
     "name": "stdout",
     "output_type": "stream",
     "text": [
      "1.65 ms ± 6.98 μs per loop (mean ± std. dev. of 7 runs, 1,000 loops each)\n"
     ]
    }
   ],
   "execution_count": 67,
   "source": "%timeit f2(aa, bb, aa1, bb1)",
   "id": "cc915f0618f0f89"
  },
  {
   "metadata": {},
   "cell_type": "code",
   "outputs": [],
   "execution_count": null,
   "source": "",
   "id": "5617f793829ca075"
  }
 ],
 "metadata": {
  "kernelspec": {
   "display_name": "Python 3",
   "language": "python",
   "name": "python3"
  },
  "language_info": {
   "codemirror_mode": {
    "name": "ipython",
    "version": 2
   },
   "file_extension": ".py",
   "mimetype": "text/x-python",
   "name": "python",
   "nbconvert_exporter": "python",
   "pygments_lexer": "ipython2",
   "version": "2.7.6"
  }
 },
 "nbformat": 4,
 "nbformat_minor": 5
}
