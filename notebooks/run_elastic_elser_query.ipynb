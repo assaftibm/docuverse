{
 "cells": [
  {
   "cell_type": "code",
   "id": "initial_id",
   "metadata": {
    "collapsed": true,
    "ExecuteTime": {
     "end_time": "2024-07-03T18:18:40.165324Z",
     "start_time": "2024-07-03T18:18:38.619869Z"
    }
   },
   "source": [
    "from docuverse import SearchEngine\n",
    "from docuverse.engines.search_engine_config_params import DocUVerseConfig\n",
    "from docuverse.utils.evaluator import EvaluationEngine\n",
    "import os\n",
    "os.environ['DOCUVERSE_CONFIG_PATH'] = os.path.abspath('../config')"
   ],
   "outputs": [],
   "execution_count": 1
  },
  {
   "metadata": {
    "ExecuteTime": {
     "end_time": "2024-07-03T18:18:41.369205Z",
     "start_time": "2024-07-03T18:18:41.366415Z"
    }
   },
   "cell_type": "code",
   "source": [
    "dense_encoder_model = \"thenlper/gte-small\"\n",
    "clapnq_configuration={\n",
    "    \"retriever\": {\n",
    "        \"db_engine\": \"es-dense\",\n",
    "        \"model_name\": dense_encoder_model,\n",
    "        \"top_k\": 40,\n",
    "        \"actions\": \"ire\",\n",
    "        \"max_doc_length\": 512,\n",
    "        \"stride\": 100,\n",
    "        \"index_name\": f\"clapnq_small_{dense_encoder_model.replace('/','_')}_512_100\",\n",
    "        \"server\": \"resconvai\",\n",
    "        \"doc_based\": True,\n",
    "        \"verbose\": True,\n",
    "        \"title_handling\": \"all\",\n",
    "        \"data_format\": \"../config/clapnq_data_format.yml\",\n",
    "        \"bulk_batch\": 128,\n",
    "        \"num_preprocessor_threads\": 1\n",
    "    },\n",
    "        # max_num_documents: 1000\n",
    "    \"reranker\": None,\n",
    "    \"evaluate\": {\n",
    "        \"eval_measure\": \"match,mrr\",\n",
    "        \"ranks\": \"1,3,5,10\"\n",
    "    }\n",
    "}"
   ],
   "id": "ff3c2293323d6c8c",
   "outputs": [],
   "execution_count": 2
  },
  {
   "metadata": {},
   "cell_type": "code",
   "outputs": [],
   "execution_count": null,
   "source": [
    "elser_model = \".elser_model_2_linux-x86_64\"\n",
    "sci_configuration={\n",
    "    \"retriever\": {\n",
    "        \"db_engine\": \"es-elser\",\n",
    "        \"model_name\": elser_model,\n",
    "        \"top_k\": 40,\n",
    "        \"actions\": \"ire\",\n",
    "        \"max_doc_length\": 512,\n",
    "        \"stride\": 100,\n",
    "        \"index_name\": f\"scifact_{elser_model.replace('/','_')}_512_100\",\n",
    "        \"server\": \"resconvai\",\n",
    "        \"doc_based\": True,\n",
    "        \"verbose\": True,\n",
    "        \"title_handling\": \"all\",\n",
    "        \"data_format\": \"../config/beir_data_format.yml\",\n",
    "        \"bulk_batch\": 128,\n",
    "        \"num_preprocessor_threads\": 1\n",
    "    },\n",
    "        # max_num_documents: 1000\n",
    "    \"reranker\": None,\n",
    "    \"evaluate\": {\n",
    "        \"eval_measure\": \"match,mrr\",\n",
    "        \"ranks\": \"1,3,5,10\"\n",
    "    }\n",
    "}"
   ],
   "id": "8c7e1d3388880a9c"
  },
  {
   "metadata": {
    "ExecuteTime": {
     "end_time": "2024-07-03T18:18:47.188349Z",
     "start_time": "2024-07-03T18:18:47.184290Z"
    }
   },
   "cell_type": "code",
   "source": [
    "def ingest_and_test(corpus_file, question_file, configuration, update=True):\n",
    "    config = DocUVerseConfig(configuration)\n",
    "    engine = SearchEngine(config)\n",
    "    corpus = engine.read_data(corpus_file, no_cache=update)\n",
    "    engine.ingest(corpus, update=update)\n",
    "    queries = engine.read_questions(question_file)\n",
    "    \n",
    "    output = engine.search(queries)\n",
    "    \n",
    "    scorer = EvaluationEngine(config.eval_config)\n",
    "    res = scorer.compute_score(queries, output, model_name=config.index_name)\n",
    "    print(f\"Results:\\n {res}\")"
   ],
   "id": "99d70f5a5f4bf872",
   "outputs": [],
   "execution_count": 3
  },
  {
   "metadata": {
    "ExecuteTime": {
     "end_time": "2024-07-03T18:18:54.110875Z",
     "start_time": "2024-07-03T18:18:53.887171Z"
    }
   },
   "cell_type": "code",
   "source": "ingest_and_test(\"data/clapnq/passages.tsv\", \"data/clapnq_small/question_dev_answerable.tsv\", clapnq_configuration)",
   "id": "ceb8ce21c30ae731",
   "outputs": [
    {
     "ename": "TypeError",
     "evalue": "unbound method dict.keys() needs an argument",
     "output_type": "error",
     "traceback": [
      "\u001B[0;31m---------------------------------------------------------------------------\u001B[0m",
      "\u001B[0;31mTypeError\u001B[0m                                 Traceback (most recent call last)",
      "Cell \u001B[0;32mIn[4], line 1\u001B[0m\n\u001B[0;32m----> 1\u001B[0m \u001B[43mingest_and_test\u001B[49m\u001B[43m(\u001B[49m\u001B[38;5;124;43m\"\u001B[39;49m\u001B[38;5;124;43mdata/clapnq/passages.tsv\u001B[39;49m\u001B[38;5;124;43m\"\u001B[39;49m\u001B[43m,\u001B[49m\u001B[43m \u001B[49m\u001B[38;5;124;43m\"\u001B[39;49m\u001B[38;5;124;43mdata/clapnq_small/question_dev_answerable.tsv\u001B[39;49m\u001B[38;5;124;43m\"\u001B[39;49m\u001B[43m,\u001B[49m\u001B[43m \u001B[49m\u001B[43mclapnq_configuration\u001B[49m\u001B[43m)\u001B[49m\n",
      "Cell \u001B[0;32mIn[3], line 2\u001B[0m, in \u001B[0;36mingest_and_test\u001B[0;34m(corpus_file, question_file, configuration, update)\u001B[0m\n\u001B[1;32m      1\u001B[0m \u001B[38;5;28;01mdef\u001B[39;00m \u001B[38;5;21mingest_and_test\u001B[39m(corpus_file, question_file, configuration, update\u001B[38;5;241m=\u001B[39m\u001B[38;5;28;01mTrue\u001B[39;00m):\n\u001B[0;32m----> 2\u001B[0m     config \u001B[38;5;241m=\u001B[39m \u001B[43mDocUVerseConfig\u001B[49m\u001B[43m(\u001B[49m\u001B[43mconfiguration\u001B[49m\u001B[43m)\u001B[49m\n\u001B[1;32m      3\u001B[0m     engine \u001B[38;5;241m=\u001B[39m SearchEngine(config)\n\u001B[1;32m      4\u001B[0m     corpus \u001B[38;5;241m=\u001B[39m engine\u001B[38;5;241m.\u001B[39mread_data(corpus_file, no_cache\u001B[38;5;241m=\u001B[39mupdate)\n",
      "File \u001B[0;32m/ssd5/raduf/sandbox/docuverse/docuverse/engines/search_engine_config_params.py:517\u001B[0m, in \u001B[0;36mDocUVerseConfig.__init__\u001B[0;34m(self, config)\u001B[0m\n\u001B[1;32m    515\u001B[0m \u001B[38;5;28mself\u001B[39m\u001B[38;5;241m.\u001B[39mparams \u001B[38;5;241m=\u001B[39m HfArgumentParser((RetrievalArguments, RerankerArguments, EvaluationArguments, EngineArguments))\n\u001B[1;32m    516\u001B[0m \u001B[38;5;28;01mif\u001B[39;00m \u001B[38;5;28misinstance\u001B[39m(config, \u001B[38;5;28mstr\u001B[39m\u001B[38;5;241m|\u001B[39m\u001B[38;5;28mdict\u001B[39m):\n\u001B[0;32m--> 517\u001B[0m     \u001B[38;5;28;43mself\u001B[39;49m\u001B[38;5;241;43m.\u001B[39;49m\u001B[43mread_configs\u001B[49m\u001B[43m(\u001B[49m\u001B[43mconfig\u001B[49m\u001B[43m)\u001B[49m\n\u001B[1;32m    518\u001B[0m \u001B[38;5;28;01melse\u001B[39;00m:\n\u001B[1;32m    519\u001B[0m     \u001B[38;5;28mself\u001B[39m\u001B[38;5;241m.\u001B[39mreranker_config: RerankerConfig \u001B[38;5;241m|\u001B[39m \u001B[38;5;28;01mNone\u001B[39;00m \u001B[38;5;241m=\u001B[39m \u001B[38;5;28;01mNone\u001B[39;00m\n",
      "File \u001B[0;32m/ssd5/raduf/sandbox/docuverse/docuverse/engines/search_engine_config_params.py:572\u001B[0m, in \u001B[0;36mDocUVerseConfig.read_configs\u001B[0;34m(self, config_or_path)\u001B[0m\n\u001B[1;32m    570\u001B[0m     \u001B[38;5;28;01mreturn\u001B[39;00m config_or_path\n\u001B[1;32m    571\u001B[0m \u001B[38;5;28;01melif\u001B[39;00m \u001B[38;5;28misinstance\u001B[39m(config_or_path, \u001B[38;5;28mdict\u001B[39m):\n\u001B[0;32m--> 572\u001B[0m     \u001B[38;5;28;43mself\u001B[39;49m\u001B[38;5;241;43m.\u001B[39;49m\u001B[43mread_dict\u001B[49m\u001B[43m(\u001B[49m\u001B[38;5;28;43mdict\u001B[39;49m\u001B[43m)\u001B[49m\n",
      "File \u001B[0;32m/ssd5/raduf/sandbox/docuverse/docuverse/engines/search_engine_config_params.py:525\u001B[0m, in \u001B[0;36mDocUVerseConfig.read_dict\u001B[0;34m(self, kwargs)\u001B[0m\n\u001B[1;32m    524\u001B[0m \u001B[38;5;28;01mdef\u001B[39;00m \u001B[38;5;21mread_dict\u001B[39m(\u001B[38;5;28mself\u001B[39m, kwargs):\n\u001B[0;32m--> 525\u001B[0m     \u001B[38;5;28;43mself\u001B[39;49m\u001B[38;5;241;43m.\u001B[39;49m\u001B[43m_process_params\u001B[49m\u001B[43m(\u001B[49m\u001B[38;5;28;43mself\u001B[39;49m\u001B[38;5;241;43m.\u001B[39;49m\u001B[43mparams\u001B[49m\u001B[38;5;241;43m.\u001B[39;49m\u001B[43mparse_dict\u001B[49m\u001B[43m,\u001B[49m\u001B[43m \u001B[49m\u001B[43margs\u001B[49m\u001B[38;5;241;43m=\u001B[39;49m\u001B[43mkwargs\u001B[49m\u001B[43m)\u001B[49m\n",
      "File \u001B[0;32m/ssd5/raduf/sandbox/docuverse/docuverse/engines/search_engine_config_params.py:535\u001B[0m, in \u001B[0;36mDocUVerseConfig._process_params\u001B[0;34m(self, parse_method, *args, **kwargs)\u001B[0m\n\u001B[1;32m    533\u001B[0m \u001B[38;5;28;01mdef\u001B[39;00m \u001B[38;5;21m_process_params\u001B[39m(\u001B[38;5;28mself\u001B[39m, parse_method, \u001B[38;5;241m*\u001B[39margs, \u001B[38;5;241m*\u001B[39m\u001B[38;5;241m*\u001B[39mkwargs):\n\u001B[1;32m    534\u001B[0m     \u001B[38;5;66;03m# self.config = kwargs\u001B[39;00m\n\u001B[0;32m--> 535\u001B[0m     (\u001B[38;5;28mself\u001B[39m\u001B[38;5;241m.\u001B[39mretriever_config, \u001B[38;5;28mself\u001B[39m\u001B[38;5;241m.\u001B[39mreranker_config, \u001B[38;5;28mself\u001B[39m\u001B[38;5;241m.\u001B[39meval_config, \u001B[38;5;28mself\u001B[39m\u001B[38;5;241m.\u001B[39mrun_config) \u001B[38;5;241m=\u001B[39m \u001B[43mparse_method\u001B[49m\u001B[43m(\u001B[49m\u001B[38;5;241;43m*\u001B[39;49m\u001B[43margs\u001B[49m\u001B[43m,\u001B[49m\u001B[43m \u001B[49m\u001B[38;5;241;43m*\u001B[39;49m\u001B[38;5;241;43m*\u001B[39;49m\u001B[43mkwargs\u001B[49m\u001B[43m)\u001B[49m\n\u001B[1;32m    536\u001B[0m     \u001B[38;5;28mself\u001B[39m\u001B[38;5;241m.\u001B[39mingest_params()\n",
      "File \u001B[0;32m~/miniforge3/envs/docuverse/lib/python3.10/site-packages/transformers/hf_argparser.py:368\u001B[0m, in \u001B[0;36mHfArgumentParser.parse_dict\u001B[0;34m(self, args, allow_extra_keys)\u001B[0m\n\u001B[1;32m    352\u001B[0m \u001B[38;5;28;01mdef\u001B[39;00m \u001B[38;5;21mparse_dict\u001B[39m(\u001B[38;5;28mself\u001B[39m, args: Dict[\u001B[38;5;28mstr\u001B[39m, Any], allow_extra_keys: \u001B[38;5;28mbool\u001B[39m \u001B[38;5;241m=\u001B[39m \u001B[38;5;28;01mFalse\u001B[39;00m) \u001B[38;5;241m-\u001B[39m\u001B[38;5;241m>\u001B[39m Tuple[DataClass, \u001B[38;5;241m.\u001B[39m\u001B[38;5;241m.\u001B[39m\u001B[38;5;241m.\u001B[39m]:\n\u001B[1;32m    353\u001B[0m \u001B[38;5;250m    \u001B[39m\u001B[38;5;124;03m\"\"\"\u001B[39;00m\n\u001B[1;32m    354\u001B[0m \u001B[38;5;124;03m    Alternative helper method that does not use `argparse` at all, instead uses a dict and populating the dataclass\u001B[39;00m\n\u001B[1;32m    355\u001B[0m \u001B[38;5;124;03m    types.\u001B[39;00m\n\u001B[0;32m   (...)\u001B[0m\n\u001B[1;32m    366\u001B[0m \u001B[38;5;124;03m            - the dataclass instances in the same order as they were passed to the initializer.\u001B[39;00m\n\u001B[1;32m    367\u001B[0m \u001B[38;5;124;03m    \"\"\"\u001B[39;00m\n\u001B[0;32m--> 368\u001B[0m     unused_keys \u001B[38;5;241m=\u001B[39m \u001B[38;5;28mset\u001B[39m(\u001B[43margs\u001B[49m\u001B[38;5;241;43m.\u001B[39;49m\u001B[43mkeys\u001B[49m\u001B[43m(\u001B[49m\u001B[43m)\u001B[49m)\n\u001B[1;32m    369\u001B[0m     outputs \u001B[38;5;241m=\u001B[39m []\n\u001B[1;32m    370\u001B[0m     \u001B[38;5;28;01mfor\u001B[39;00m dtype \u001B[38;5;129;01min\u001B[39;00m \u001B[38;5;28mself\u001B[39m\u001B[38;5;241m.\u001B[39mdataclass_types:\n",
      "\u001B[0;31mTypeError\u001B[0m: unbound method dict.keys() needs an argument"
     ]
    }
   ],
   "execution_count": 4
  },
  {
   "metadata": {},
   "cell_type": "code",
   "outputs": [],
   "execution_count": null,
   "source": [
    "ingest_and_test(\"data/scifact/corpus.jsonl\", \"data/scifact/question_config.json\",\n",
    "                sci_configuration, update=False)"
   ],
   "id": "7f181e600892b79a"
  },
  {
   "metadata": {},
   "cell_type": "code",
   "outputs": [],
   "execution_count": 2,
   "source": [
    "corpus_file, question_file, configuration = \"data/scifact/corpus.json\", \"data/scifact/question_config.json\", sci_configuration\n",
    "config = DocUVerseConfig(configuration)\n",
    "engine = SearchEngine(config)\n",
    "corpus = engine.read_data(corpus_file, no_cache=True)\n",
    "engine.ingest(corpus, update=True)\n",
    "queries = engine.read_questions(question_file)\n",
    "\n",
    "output = engine.search(queries)\n",
    "\n",
    "scorer = EvaluationEngine(config.eval_config)\n",
    "res = scorer.compute_score(queries, output, model_name=config.index_name)\n",
    "print(f\"Results:\\n {res}\")"
   ],
   "id": "6827e464550016fe"
  }
 ],
 "metadata": {
  "kernelspec": {
   "display_name": "Python 3",
   "language": "python",
   "name": "python3"
  },
  "language_info": {
   "codemirror_mode": {
    "name": "ipython",
    "version": 2
   },
   "file_extension": ".py",
   "mimetype": "text/x-python",
   "name": "python",
   "nbconvert_exporter": "python",
   "pygments_lexer": "ipython2",
   "version": "2.7.6"
  }
 },
 "nbformat": 4,
 "nbformat_minor": 5
}
