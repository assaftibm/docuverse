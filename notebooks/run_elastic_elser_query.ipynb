{
 "cells": [
  {
   "cell_type": "code",
   "id": "initial_id",
   "metadata": {
    "collapsed": true,
    "ExecuteTime": {
     "end_time": "2024-06-27T17:56:33.927723Z",
     "start_time": "2024-06-27T17:56:32.239610Z"
    }
   },
   "source": [
    "from docuverse import SearchEngine\n",
    "from docuverse.engines.search_engine_config_params import DocUVerseConfig\n",
    "from docuverse.utils.evaluator import EvaluationEngine\n",
    "\n",
    "import os\n",
    "os.environ['DOCUVERSE_CONFIG_PATH'] = os.path.abspath('../config')"
   ],
   "outputs": [],
   "execution_count": 1
  },
  {
   "metadata": {},
   "cell_type": "markdown",
   "source": "Choose one of the following configurations: either dense/clapnq or elser/scifact - they are just for demonstration purposes, you can obviously mix and match in any way you see necessary/useful.",
   "id": "85eac82d5f91e6ac"
  },
  {
   "metadata": {
    "ExecuteTime": {
     "end_time": "2024-06-27T17:56:34.711057Z",
     "start_time": "2024-06-27T17:56:34.706454Z"
    }
   },
   "cell_type": "code",
   "source": [
    "dense_encoder_model = \"thenlper/gte-small\"\n",
    "clapnq_configuration={\n",
    "    \"retriever\": {\n",
    "        \"db_engine\": \"es-dense\",\n",
    "        \"model_name\": dense_encoder_model,\n",
    "        \"top_k\": 40,\n",
    "        \"actions\": \"ire\",\n",
    "        \"max_doc_length\": 512,\n",
    "        \"stride\": 100,\n",
    "        \"index_name\": f\"clapnq_small_{dense_encoder_model.replace('/','_')}_512_100\",\n",
    "        \"server\": \"resconvai\",\n",
    "        \"doc_based\": True,\n",
    "        \"verbose\": True,\n",
    "        \"title_handling\": \"all\",\n",
    "        \"data_format\": \"../config/clapnq_data_format.yml\",\n",
    "        \"bulk_batch\": 128,\n",
    "        \"num_preprocessor_threads\": 1\n",
    "    },\n",
    "        # max_num_documents: 1000\n",
    "    \"reranker\": None,\n",
    "    \"evaluate\": {\n",
    "        \"eval_measure\": \"match,mrr\",\n",
    "        \"ranks\": \"1,3,5,10\"\n",
    "    }\n",
    "}"
   ],
   "id": "da6f827667b5ac60",
   "outputs": [],
   "execution_count": 2
  },
  {
   "metadata": {
    "ExecuteTime": {
     "end_time": "2024-06-27T17:56:35.640472Z",
     "start_time": "2024-06-27T17:56:35.635949Z"
    }
   },
   "cell_type": "code",
   "source": [
    "elser_model = \".elser_model_2_linux-x86_64\"\n",
    "sci_configuration={\n",
    "    \"retriever\": {\n",
    "        \"db_engine\": \"es-elser\",\n",
    "        \"model_name\": elser_model,\n",
    "        \"top_k\": 40,\n",
    "        \"actions\": \"ire\",\n",
    "        \"max_doc_length\": 512,\n",
    "        \"stride\": 100,\n",
    "        \"index_name\": f\"scifact_{elser_model.replace('/','_')}_512_100\",\n",
    "        \"server\": \"resconvai\",\n",
    "        \"doc_based\": True,\n",
    "        \"verbose\": True,\n",
    "        \"title_handling\": \"all\",\n",
    "        \"data_format\": \"../config/beir_data_format.yml\",\n",
    "        \"bulk_batch\": 128,\n",
    "        \"num_preprocessor_threads\": 1\n",
    "    },\n",
    "        # max_num_documents: 1000\n",
    "    \"reranker\": None,\n",
    "    \"evaluate\": {\n",
    "        \"eval_measure\": \"match,mrr\",\n",
    "        \"ranks\": \"1,3,5,10\"\n",
    "    }\n",
    "}"
   ],
   "id": "9bd419e1507d40f3",
   "outputs": [],
   "execution_count": 3
  },
  {
   "metadata": {
    "ExecuteTime": {
     "end_time": "2024-06-27T17:57:20.839313Z",
     "start_time": "2024-06-27T17:57:20.834530Z"
    }
   },
   "cell_type": "code",
   "source": [
    "def ingest_and_test(corpus_file, question_file, configuration, force_update=False):\n",
    "    config = DocUVerseConfig(configuration)\n",
    "    engine = SearchEngine(config)\n",
    "    if force_update:\n",
    "        corpus = engine.read_data(corpus_file, no_cache=force_update)\n",
    "        engine.ingest(corpus, update=force_update)\n",
    "    queries = engine.read_questions(question_file)\n",
    "    \n",
    "    output = engine.search(queries)\n",
    "    \n",
    "    scorer = EvaluationEngine(config.eval_config)\n",
    "    res = scorer.compute_score(queries, output, model_name=config.index_name)\n",
    "    print(f\"Results:\\n {res}\")"
   ],
   "id": "dd435968b05e1b88",
   "outputs": [],
   "execution_count": 5
  },
  {
   "metadata": {},
   "cell_type": "code",
   "outputs": [],
   "execution_count": null,
   "source": "ingest_and_test(\"data/clapnq/passages.tsv\", \"data/clapnq_small/question_dev_answerable.tsv\", clapnq_configuration)",
   "id": "63923d3ad434f41c"
  },
  {
   "metadata": {
    "ExecuteTime": {
     "end_time": "2024-06-27T18:03:56.682989Z",
     "start_time": "2024-06-27T18:03:52.692608Z"
    }
   },
   "cell_type": "code",
   "source": "ingest_and_test(\"data/scifact/corpus.jsonl\", \"data/scifact/question_config.json\", sci_configuration)",
   "id": "a965c2d68a62db70",
   "outputs": [
    {
     "name": "stdout",
     "output_type": "stream",
     "text": [
      "=== done initializing model\n",
      "Hidden dimension for model: 384\n",
      "Cache filename is /home/raduf/.local/share/elastic_ingestion/data__scifact__corpus.jsonl_512_100_all_gte-small.jsonl.bz2\n"
     ]
    },
    {
     "name": "stderr",
     "output_type": "stream",
     "text": [
      "Reading cache file:: 5720it [00:00, 18086.13it/s]\n",
      "Computing statistics: 100%|██████████| 5720/5720 [00:00<00:00, 115148.49it/s]\n"
     ]
    },
    {
     "name": "stdout",
     "output_type": "stream",
     "text": [
      "============================================================\n",
      "Statistics:\n",
      "============================================================\n",
      "Number of documents:5183      \n",
      "Number of tiles:    5720      \n",
      "#tiles per document:1.10      \n",
      "                    Character-based:    Token-based:        \n",
      "  Minimum length:   221                 70                  \n",
      "  Maximum length:   2780                512                 \n",
      "  Average length:   1415.2              320.2               \n",
      "============================================================\n",
      "Char histogram:\n",
      "\n",
      "# NumSamples = 5720; Min = 221.00; Max = 2780.00\n",
      "# Mean = 1415.243182; Variance = 171130.316212; SD = 413.679001; Median 1397.000000\n",
      "# each ∎ represents a count of 17\n",
      "  221.0000 -   476.9000 [    29]: ∎\n",
      "  476.9000 -   732.8000 [   203]: ∎∎∎∎∎∎∎∎∎∎∎\n",
      "  732.8000 -   988.7000 [   648]: ∎∎∎∎∎∎∎∎∎∎∎∎∎∎∎∎∎∎∎∎∎∎∎∎∎∎∎∎∎∎∎∎∎∎∎∎∎∎\n",
      "  988.7000 -  1244.6000 [  1306]: ∎∎∎∎∎∎∎∎∎∎∎∎∎∎∎∎∎∎∎∎∎∎∎∎∎∎∎∎∎∎∎∎∎∎∎∎∎∎∎∎∎∎∎∎∎∎∎∎∎∎∎∎∎∎∎∎∎∎∎∎∎∎∎∎∎∎∎∎∎∎∎∎∎∎∎∎\n",
      " 1244.6000 -  1500.5000 [  1137]: ∎∎∎∎∎∎∎∎∎∎∎∎∎∎∎∎∎∎∎∎∎∎∎∎∎∎∎∎∎∎∎∎∎∎∎∎∎∎∎∎∎∎∎∎∎∎∎∎∎∎∎∎∎∎∎∎∎∎∎∎∎∎∎∎∎∎\n",
      " 1500.5000 -  1756.4000 [  1062]: ∎∎∎∎∎∎∎∎∎∎∎∎∎∎∎∎∎∎∎∎∎∎∎∎∎∎∎∎∎∎∎∎∎∎∎∎∎∎∎∎∎∎∎∎∎∎∎∎∎∎∎∎∎∎∎∎∎∎∎∎∎∎\n",
      " 1756.4000 -  2012.3000 [   913]: ∎∎∎∎∎∎∎∎∎∎∎∎∎∎∎∎∎∎∎∎∎∎∎∎∎∎∎∎∎∎∎∎∎∎∎∎∎∎∎∎∎∎∎∎∎∎∎∎∎∎∎∎∎\n",
      " 2012.3000 -  2268.2000 [   331]: ∎∎∎∎∎∎∎∎∎∎∎∎∎∎∎∎∎∎∎\n",
      " 2268.2000 -  2524.1000 [    77]: ∎∎∎∎\n",
      " 2524.1000 -  2780.0000 [    14]: \n",
      "Token histogram:\n",
      "\n",
      "# NumSamples = 5720; Min = 70.00; Max = 512.00\n",
      "# Mean = 320.238112; Variance = 9696.300296; SD = 98.469794; Median 315.000000\n",
      "# each ∎ represents a count of 12\n",
      "   70.0000 -   114.2000 [    74]: ∎∎∎∎∎∎\n",
      "  114.2000 -   158.4000 [   211]: ∎∎∎∎∎∎∎∎∎∎∎∎∎∎∎∎∎\n",
      "  158.4000 -   202.6000 [   406]: ∎∎∎∎∎∎∎∎∎∎∎∎∎∎∎∎∎∎∎∎∎∎∎∎∎∎∎∎∎∎∎∎∎\n",
      "  202.6000 -   246.8000 [   751]: ∎∎∎∎∎∎∎∎∎∎∎∎∎∎∎∎∎∎∎∎∎∎∎∎∎∎∎∎∎∎∎∎∎∎∎∎∎∎∎∎∎∎∎∎∎∎∎∎∎∎∎∎∎∎∎∎∎∎∎∎∎∎\n",
      "  246.8000 -   291.0000 [   971]: ∎∎∎∎∎∎∎∎∎∎∎∎∎∎∎∎∎∎∎∎∎∎∎∎∎∎∎∎∎∎∎∎∎∎∎∎∎∎∎∎∎∎∎∎∎∎∎∎∎∎∎∎∎∎∎∎∎∎∎∎∎∎∎∎∎∎∎∎∎∎∎∎∎∎∎∎∎∎∎∎\n",
      "  291.0000 -   335.2000 [   783]: ∎∎∎∎∎∎∎∎∎∎∎∎∎∎∎∎∎∎∎∎∎∎∎∎∎∎∎∎∎∎∎∎∎∎∎∎∎∎∎∎∎∎∎∎∎∎∎∎∎∎∎∎∎∎∎∎∎∎∎∎∎∎∎∎∎\n",
      "  335.2000 -   379.4000 [   717]: ∎∎∎∎∎∎∎∎∎∎∎∎∎∎∎∎∎∎∎∎∎∎∎∎∎∎∎∎∎∎∎∎∎∎∎∎∎∎∎∎∎∎∎∎∎∎∎∎∎∎∎∎∎∎∎∎∎∎∎\n",
      "  379.4000 -   423.6000 [   681]: ∎∎∎∎∎∎∎∎∎∎∎∎∎∎∎∎∎∎∎∎∎∎∎∎∎∎∎∎∎∎∎∎∎∎∎∎∎∎∎∎∎∎∎∎∎∎∎∎∎∎∎∎∎∎∎∎\n",
      "  423.6000 -   467.8000 [   769]: ∎∎∎∎∎∎∎∎∎∎∎∎∎∎∎∎∎∎∎∎∎∎∎∎∎∎∎∎∎∎∎∎∎∎∎∎∎∎∎∎∎∎∎∎∎∎∎∎∎∎∎∎∎∎∎∎∎∎∎∎∎∎∎∎\n",
      "  467.8000 -   512.0000 [   357]: ∎∎∎∎∎∎∎∎∎∎∎∎∎∎∎∎∎∎∎∎∎∎∎∎∎∎∎∎∎\n",
      "Dropping key url - they are not in the passages\n",
      "Dropping key productId - they are not in the passages\n",
      "Dropping key filePath - they are not in the passages\n",
      "Dropping key deliverableLoio - they are not in the passages\n",
      "Dropping key app_name - they are not in the passages\n",
      "Dropping key courseGrainedProductId - they are not in the passages\n",
      "OK - exiting. Run with '--actions r'\n"
     ]
    },
    {
     "ename": "SystemExit",
     "evalue": "0",
     "output_type": "error",
     "traceback": [
      "An exception has occurred, use %tb to see the full traceback.\n",
      "\u001B[0;31mSystemExit\u001B[0m\u001B[0;31m:\u001B[0m 0\n"
     ]
    }
   ],
   "execution_count": 10
  },
  {
   "metadata": {
    "ExecuteTime": {
     "end_time": "2024-06-27T17:58:40.233486Z",
     "start_time": "2024-06-27T17:57:48.103707Z"
    }
   },
   "cell_type": "code",
   "source": [
    "sci_dense_configuration = sci_configuration\n",
    "sci_configuration['retriever'].update(\n",
    "    {\n",
    "        \"db_engine\": \"es-dense\",\n",
    "        \"model_name\": dense_encoder_model,\n",
    "        \"index_name\": f\"scifact_{dense_encoder_model.replace('/','_')}_512_100\",\n",
    "    }\n",
    ")\n",
    "ingest_and_test(\"data/scifact/corpus.jsonl\", \"data/scifact/question_config.json\", sci_dense_configuration)"
   ],
   "id": "49c68090190fe7c4",
   "outputs": [
    {
     "name": "stdout",
     "output_type": "stream",
     "text": [
      "=== done initializing model\n",
      "Hidden dimension for model: 384\n",
      "Cache filename is /home/raduf/.local/share/elastic_ingestion/data__scifact__corpus.jsonl_512_100_all_gte-small.jsonl.bz2\n",
      "Reading data/scifact/corpus.jsonl"
     ]
    },
    {
     "name": "stderr",
     "output_type": "stream",
     "text": [
      "Reading data/scifact/corpus.jsonl:: 5183it [00:00, 102919.54it/s]\n"
     ]
    },
    {
     "name": "stdout",
     "output_type": "stream",
     "text": [
      " done: 54 milliseconds\n"
     ]
    },
    {
     "name": "stderr",
     "output_type": "stream",
     "text": [
      "Reading docs:: 100%|██████████| 5183/5183 [00:09<00:00, 573.48it/s]\n"
     ]
    },
    {
     "name": "stdout",
     "output_type": "stream",
     "text": [
      "Processed in 9 seconds, 39 milliseconds\n"
     ]
    },
    {
     "name": "stderr",
     "output_type": "stream",
     "text": [
      "Computing statistics: 100%|██████████| 5720/5720 [00:00<00:00, 551020.19it/s]\n"
     ]
    },
    {
     "name": "stdout",
     "output_type": "stream",
     "text": [
      "============================================================\n",
      "Statistics:\n",
      "============================================================\n",
      "Number of documents:5183      \n",
      "Number of tiles:    5720      \n",
      "#tiles per document:1.10      \n",
      "                    Character-based:    Token-based:        \n",
      "  Minimum length:   221                 70                  \n",
      "  Maximum length:   2780                512                 \n",
      "  Average length:   1415.2              320.2               \n",
      "============================================================\n",
      "Char histogram:\n",
      "\n",
      "# NumSamples = 5720; Min = 221.00; Max = 2780.00\n",
      "# Mean = 1415.243182; Variance = 171130.316212; SD = 413.679001; Median 1397.000000\n",
      "# each ∎ represents a count of 17\n",
      "  221.0000 -   476.9000 [    29]: ∎\n",
      "  476.9000 -   732.8000 [   203]: ∎∎∎∎∎∎∎∎∎∎∎\n",
      "  732.8000 -   988.7000 [   648]: ∎∎∎∎∎∎∎∎∎∎∎∎∎∎∎∎∎∎∎∎∎∎∎∎∎∎∎∎∎∎∎∎∎∎∎∎∎∎\n",
      "  988.7000 -  1244.6000 [  1306]: ∎∎∎∎∎∎∎∎∎∎∎∎∎∎∎∎∎∎∎∎∎∎∎∎∎∎∎∎∎∎∎∎∎∎∎∎∎∎∎∎∎∎∎∎∎∎∎∎∎∎∎∎∎∎∎∎∎∎∎∎∎∎∎∎∎∎∎∎∎∎∎∎∎∎∎∎\n",
      " 1244.6000 -  1500.5000 [  1137]: ∎∎∎∎∎∎∎∎∎∎∎∎∎∎∎∎∎∎∎∎∎∎∎∎∎∎∎∎∎∎∎∎∎∎∎∎∎∎∎∎∎∎∎∎∎∎∎∎∎∎∎∎∎∎∎∎∎∎∎∎∎∎∎∎∎∎\n",
      " 1500.5000 -  1756.4000 [  1062]: ∎∎∎∎∎∎∎∎∎∎∎∎∎∎∎∎∎∎∎∎∎∎∎∎∎∎∎∎∎∎∎∎∎∎∎∎∎∎∎∎∎∎∎∎∎∎∎∎∎∎∎∎∎∎∎∎∎∎∎∎∎∎\n",
      " 1756.4000 -  2012.3000 [   913]: ∎∎∎∎∎∎∎∎∎∎∎∎∎∎∎∎∎∎∎∎∎∎∎∎∎∎∎∎∎∎∎∎∎∎∎∎∎∎∎∎∎∎∎∎∎∎∎∎∎∎∎∎∎\n",
      " 2012.3000 -  2268.2000 [   331]: ∎∎∎∎∎∎∎∎∎∎∎∎∎∎∎∎∎∎∎\n",
      " 2268.2000 -  2524.1000 [    77]: ∎∎∎∎\n",
      " 2524.1000 -  2780.0000 [    14]: \n",
      "Token histogram:\n",
      "\n",
      "# NumSamples = 5720; Min = 70.00; Max = 512.00\n",
      "# Mean = 320.238112; Variance = 9696.300296; SD = 98.469794; Median 315.000000\n",
      "# each ∎ represents a count of 12\n",
      "   70.0000 -   114.2000 [    74]: ∎∎∎∎∎∎\n",
      "  114.2000 -   158.4000 [   211]: ∎∎∎∎∎∎∎∎∎∎∎∎∎∎∎∎∎\n",
      "  158.4000 -   202.6000 [   406]: ∎∎∎∎∎∎∎∎∎∎∎∎∎∎∎∎∎∎∎∎∎∎∎∎∎∎∎∎∎∎∎∎∎\n",
      "  202.6000 -   246.8000 [   751]: ∎∎∎∎∎∎∎∎∎∎∎∎∎∎∎∎∎∎∎∎∎∎∎∎∎∎∎∎∎∎∎∎∎∎∎∎∎∎∎∎∎∎∎∎∎∎∎∎∎∎∎∎∎∎∎∎∎∎∎∎∎∎\n",
      "  246.8000 -   291.0000 [   971]: ∎∎∎∎∎∎∎∎∎∎∎∎∎∎∎∎∎∎∎∎∎∎∎∎∎∎∎∎∎∎∎∎∎∎∎∎∎∎∎∎∎∎∎∎∎∎∎∎∎∎∎∎∎∎∎∎∎∎∎∎∎∎∎∎∎∎∎∎∎∎∎∎∎∎∎∎∎∎∎∎\n",
      "  291.0000 -   335.2000 [   783]: ∎∎∎∎∎∎∎∎∎∎∎∎∎∎∎∎∎∎∎∎∎∎∎∎∎∎∎∎∎∎∎∎∎∎∎∎∎∎∎∎∎∎∎∎∎∎∎∎∎∎∎∎∎∎∎∎∎∎∎∎∎∎∎∎∎\n",
      "  335.2000 -   379.4000 [   717]: ∎∎∎∎∎∎∎∎∎∎∎∎∎∎∎∎∎∎∎∎∎∎∎∎∎∎∎∎∎∎∎∎∎∎∎∎∎∎∎∎∎∎∎∎∎∎∎∎∎∎∎∎∎∎∎∎∎∎∎\n",
      "  379.4000 -   423.6000 [   681]: ∎∎∎∎∎∎∎∎∎∎∎∎∎∎∎∎∎∎∎∎∎∎∎∎∎∎∎∎∎∎∎∎∎∎∎∎∎∎∎∎∎∎∎∎∎∎∎∎∎∎∎∎∎∎∎∎\n",
      "  423.6000 -   467.8000 [   769]: ∎∎∎∎∎∎∎∎∎∎∎∎∎∎∎∎∎∎∎∎∎∎∎∎∎∎∎∎∎∎∎∎∎∎∎∎∎∎∎∎∎∎∎∎∎∎∎∎∎∎∎∎∎∎∎∎∎∎∎∎∎∎∎∎\n",
      "  467.8000 -   512.0000 [   357]: ∎∎∎∎∎∎∎∎∎∎∎∎∎∎∎∎∎∎∎∎∎∎∎∎∎∎∎∎∎\n",
      "Dropping key url - they are not in the passages\n",
      "Dropping key productId - they are not in the passages\n",
      "Dropping key filePath - they are not in the passages\n",
      "Dropping key deliverableLoio - they are not in the passages\n",
      "Dropping key app_name - they are not in the passages\n",
      "Dropping key courseGrainedProductId - they are not in the passages\n"
     ]
    },
    {
     "name": "stderr",
     "output_type": "stream",
     "text": [
      "Ingesting dense documents: : 5760it [00:26, 216.12it/s]                        \n",
      "Reading data/scifact/queries.jsonl:: 1109it [00:00, 139915.27it/s]\n",
      "Processing queries: 100%|██████████| 231/231 [00:14<00:00, 16.09it/s]\n",
      "Evaluating questions: 100%|██████████| 231/231 [00:00<00:00, 490574.29it/s]\n",
      "Exception ignored in: <function DenseEmbeddingFunction.__del__ at 0x7f5e4579c280>\n",
      "Traceback (most recent call last):\n",
      "  File \"/ssd5/raduf/sandbox/docuverse/docuverse/utils/embedding_function.py\", line 43, in __del__\n",
      "    self.stop_pool()\n",
      "  File \"/ssd5/raduf/sandbox/docuverse/docuverse/utils/embedding_function.py\", line 53, in stop_pool\n",
      "    self.model.stop_multi_process_pool()\n",
      "TypeError: SentenceTransformer.stop_multi_process_pool() missing 1 required positional argument: 'pool'\n"
     ]
    },
    {
     "name": "stdout",
     "output_type": "stream",
     "text": [
      "Results:\n",
      " Model                                 M@1       M@3       M@5       M@10      MRR@1     MRR@3     MRR@5     MRR@10    \n",
      "scifact_thenlper_gte-small_512_100    0.0       0.0       0.0       0.0       0.0       0.0       0.0       0.0       \n",
      "\n"
     ]
    }
   ],
   "execution_count": 7
  },
  {
   "metadata": {},
   "cell_type": "code",
   "outputs": [],
   "execution_count": null,
   "source": "",
   "id": "4e13000bd6c1ec49"
  }
 ],
 "metadata": {
  "kernelspec": {
   "display_name": "Python 3",
   "language": "python",
   "name": "python3"
  },
  "language_info": {
   "codemirror_mode": {
    "name": "ipython",
    "version": 2
   },
   "file_extension": ".py",
   "mimetype": "text/x-python",
   "name": "python",
   "nbconvert_exporter": "python",
   "pygments_lexer": "ipython2",
   "version": "2.7.6"
  }
 },
 "nbformat": 4,
 "nbformat_minor": 5
}
