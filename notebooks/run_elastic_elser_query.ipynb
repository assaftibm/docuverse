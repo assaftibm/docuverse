{
 "cells": [
  {
   "cell_type": "code",
   "id": "initial_id",
   "metadata": {
    "collapsed": true,
    "jupyter": {
     "is_executing": true
    }
   },
   "source": [
    "from docuverse import SearchEngine\n",
    "from docuverse import DocUVerseConfig"
   ],
   "outputs": [],
   "execution_count": null
  },
  {
   "metadata": {
    "ExecuteTime": {
     "end_time": "2024-06-19T19:41:45.750114Z",
     "start_time": "2024-06-19T19:41:45.747789Z"
    }
   },
   "cell_type": "code",
   "source": [
    "query_config = {'id_header': 'id', 'text_header': 'question', 'relevant_header': 'doc-id-list', 'answers_header': 'answers',\n",
    "                'query_header': 'answers'}\n"
   ],
   "id": "6827e464550016fe",
   "outputs": [],
   "execution_count": 2
  }
 ],
 "metadata": {
  "kernelspec": {
   "display_name": "Python 3",
   "language": "python",
   "name": "python3"
  },
  "language_info": {
   "codemirror_mode": {
    "name": "ipython",
    "version": 2
   },
   "file_extension": ".py",
   "mimetype": "text/x-python",
   "name": "python",
   "nbconvert_exporter": "python",
   "pygments_lexer": "ipython2",
   "version": "2.7.6"
  }
 },
 "nbformat": 4,
 "nbformat_minor": 5
}
