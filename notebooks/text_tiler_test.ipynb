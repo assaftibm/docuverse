{
 "cells": [
  {
   "cell_type": "code",
   "id": "f513f4f0bbc79b25",
   "metadata": {
    "ExecuteTime": {
     "end_time": "2024-10-07T20:23:56.066920Z",
     "start_time": "2024-10-07T20:23:53.021005Z"
    }
   },
   "source": [
    "from sentence_transformers import SentenceTransformer\n",
    "from docuverse.utils import open_stream\n",
    "import pickle\n",
    "from tqdm.autonotebook import tqdm, trange\n",
    "from docuverse.utils.text_tiler import TextTiler"
   ],
   "outputs": [
    {
     "name": "stderr",
     "output_type": "stream",
     "text": [
      "/home/raduf/miniforge3/envs/docuverse/lib/python3.10/site-packages/sentence_transformers/cross_encoder/CrossEncoder.py:11: TqdmExperimentalWarning: Using `tqdm.autonotebook.tqdm` in notebook mode. Use `tqdm.tqdm` instead to force console mode (e.g. in jupyter console)\n",
      "  from tqdm.autonotebook import tqdm, trange\n"
     ]
    }
   ],
   "execution_count": 1
  },
  {
   "metadata": {
    "ExecuteTime": {
     "end_time": "2024-10-07T20:23:56.996833Z",
     "start_time": "2024-10-07T20:23:56.073586Z"
    }
   },
   "cell_type": "code",
   "source": [
    "model_name = \"thenlper/gte-small\"\n",
    "model = SentenceTransformer(model_name)\n",
    "max_size = 512\n",
    "stride = 100\n",
    "tiler = TextTiler(max_doc_size=max_size, stride=stride, tokenizer=model.tokenizer, aligned_on_sentences=True)"
   ],
   "id": "eab9fc0cb1a75545",
   "outputs": [
    {
     "name": "stderr",
     "output_type": "stream",
     "text": [
      "/home/raduf/miniforge3/envs/docuverse/lib/python3.10/site-packages/huggingface_hub/file_download.py:1132: FutureWarning: `resume_download` is deprecated and will be removed in version 1.0.0. Downloads always resume when possible. If you want to force a new download, use `force_download=True`.\n",
      "  warnings.warn(\n"
     ]
    }
   ],
   "execution_count": 2
  },
  {
   "metadata": {
    "collapsed": true,
    "ExecuteTime": {
     "end_time": "2024-10-07T20:24:57.236519Z",
     "start_time": "2024-10-07T20:24:08.289634Z"
    }
   },
   "cell_type": "code",
   "source": "data=pickle.load(open_stream(\"/home/raduf/.local/share/elastic_ingestion/benchmark__ibm_search__passages_combined_data_filtered.jsonl.gz_512_100_True_all_gte-small.pickle.xz\"))\n",
   "id": "initial_id",
   "outputs": [],
   "execution_count": 3
  },
  {
   "metadata": {
    "ExecuteTime": {
     "end_time": "2024-10-07T19:17:46.969654Z",
     "start_time": "2024-10-07T19:17:46.108692Z"
    }
   },
   "cell_type": "code",
   "source": "[i for i, d in enumerate(data) if len(d['text'])>6000]",
   "id": "1fc43649f9f01481",
   "outputs": [
    {
     "data": {
      "text/plain": [
       "[1163057, 3131340, 3131341, 3446877]"
      ]
     },
     "execution_count": 5,
     "metadata": {},
     "output_type": "execute_result"
    }
   ],
   "execution_count": 5
  },
  {
   "metadata": {
    "ExecuteTime": {
     "end_time": "2024-10-07T20:24:57.283761Z",
     "start_time": "2024-10-07T20:24:57.281346Z"
    }
   },
   "cell_type": "code",
   "source": [
    "# id = 1163057\n",
    "id = 1079292\n",
    "text = data[id]['text']\n",
    "title = data[id]['title']"
   ],
   "id": "5cd5bf94ce691d6",
   "outputs": [],
   "execution_count": 4
  },
  {
   "metadata": {
    "ExecuteTime": {
     "end_time": "2024-10-07T20:23:45.429023259Z",
     "start_time": "2024-10-07T20:14:39.335794Z"
    }
   },
   "cell_type": "code",
   "source": "res = tiler.split_text(text=text, title=title, tokenizer=model.tokenizer, title_in_text=text.find(title)>=0)",
   "id": "284c76e773746a13",
   "outputs": [],
   "execution_count": null
  },
  {
   "metadata": {
    "ExecuteTime": {
     "end_time": "2024-10-07T19:59:52.089189Z",
     "start_time": "2024-10-07T19:59:52.084472Z"
    }
   },
   "cell_type": "code",
   "source": "res[0][1]",
   "id": "f2c2c5adc35b6f7f",
   "outputs": [
    {
     "data": {
      "text/plain": [
       "'How To Summary How to calculate how long it may take to run a Data Collection Component (DCC) job in IBM Jazz Reporting Service (JRS). Objective Some DCC jobs can take a considerable time to run and this can effect the reports using the data warehouse and other processes which cannot run while the update is happening.\\xa0 You can get an estimate of the time so you can plan other options. Steps Start the DCC job first \\xa0 Open the log file for the job: Change and Configuration Management - Work Items for example and look for a pattern that looks like this: 10/26/2018 11:06:34,162 [dcc_etl_RTC_Workitem_RTCResourceGroup3_fetcher_0] INFO The fetcher of the resource \"RTC_WorkitemHistory_R : /rpt/repository/workitem?size=10 : /workitem/workItem\" about to send the query URL => (attempt 0) https://jazz.net/jazz/rpt/repository/workitem?async=true&id=_ubSfgNkwEeiZNuzuI6ookQ&fields=workitem%2FworkItem%5BprojectArea%2Farchived%3D%22false%22%5D%2F%28itemHistory%2F%28projectArea%2F%28uniqueId%7CitemId%29%7Cresolver%2FuniqueId%7Ccategory%2FitemId%7Cresolution%2F%28workflow%2Fid%7Cid%29%7Cseverity%2Fid%7Cstate%2F%28workflow%2Fid%7Cgroup%7Cid%29%7CmodifiedBy%2FuniqueId%7Ctype%2Fid%7CfoundIn%2FitemId%7Ctarget%2FitemId%7CteamArea%2FitemId%7Ccreator%2FuniqueId%7Cowner%2FuniqueId%7Cpriority%2Fid%7CallExtensions%2F%28itemValue%2F%28uniqueId%7CitemType%7CitemId%29%7Ctype%7Ckey%7ClongValue%7CintegerValue%7CdoubleValue%7ClargeStringValue%7CsmallStringValue%7CmediumStringValue%7CtimestampValue%7CbooleanValue%7CdecimalValue%29%7C%40href%7CsubscriberCount%7Cid%7CcreationDate%7Ctags%7Cmodified%7CdayModified%7CresolutionDate%7CuniqueId%7CdueDate%7CtimeSpent%7CintegerComplexity%7CstateId%7Csummary%7CactivationDate%7CcorrectedEstimate%7Cduration%7CcommentCount%7Cpredecessor%29%7CprojectArea%2Farchived%29&modifiedsince=2018-10-26T10%3A25%3A06.316-0400&size=10&pos=50 10/26/2018 11:06:33,751 [dcc_etl_RTC_Workitem_RTCResourceGroup3_fetcher_0] INFO The fetcher of the resource \"RTC_WorkitemHistory_R : /rpt/repository/workitem?size=10 : /workitem/workItem\" about to send the query URL => (attempt 0) https://jazz.net/jazz/rpt/repository/workitem?async=true&id=_ubSfgNkwEeiZNuzuI6ookQ&fields=workitem%2FworkItem%5BprojectArea%2Farchived%3D%22false%22%5D%2F%28itemHistory%2F%28projectArea%2F%28uniqueId%7CitemId%29%7Cresolver%2FuniqueId%7Ccategory%2FitemId%7Cresolution%2F%28workflow%2Fid%7Cid%29%7Cseverity%2Fid%7Cstate%2F%28workflow%2Fid%7Cgroup%7Cid%29%7CmodifiedBy%2FuniqueId%7Ctype%2Fid%7CfoundIn%2FitemId%7Ctarget%2FitemId%7CteamArea%2FitemId%7Ccreator%2FuniqueId%7Cowner%2FuniqueId%7Cpriority%2Fid%7CallExtensions%2F%28itemValue%2F%28uniqueId%7CitemType%7CitemId%29%7Ctype%7Ckey%7ClongValue%7CintegerValue%7CdoubleValue%7ClargeStringValue%7CsmallStringValue%7CmediumStringValue%7CtimestampValue%7CbooleanValue%7CdecimalValue%29%7C%40href%7CsubscriberCount%7Cid%7CcreationDate%7Ctags%7Cmodified%7CdayModified%7CresolutionDate%7CuniqueId%7CdueDate%7CtimeSpent%7CintegerComplexity%7CstateId%7Csummary%7CactivationDate%7CcorrectedEstimate%7Cduration%7CcommentCount%7Cpredecessor%29%7CprojectArea%2Farchived%29&modifiedsince=2018-10-26T10%3A25%3A06.316-0400&size=10&pos=30 10/26/2018 11:06:34,009 [dcc_etl_RTC_Workitem_RTCResourceGroup3_fetcher_0] INFO The fetcher of the resource \"RTC_WorkitemHistory_R : /rpt/repository/workitem?size=10 : /workitem/workItem\" about to send the query URL => (attempt 0) https://jazz.net/jazz/rpt/repository/workitem?async=true&id=_ubSfgNkwEeiZNuzuI6ookQ&fie=workitem%2FworkItem%5BprojectArea%2Farchived%3D%22false%22%5D%2F%28itemHistory%2F%28projectArea%2F%28uniqueId%7CitemId%29%7Cresolver%2FuniqueId%7Ccategory%2FitemId%7Cresolution%2F%28workflow%2Fid%7Cid%29%7Cseverity%2Fid%7Cstate%2F%28workflow%2Fid%7Cgroup%7Cid%29%7CmodifiedBy%2FuniqueId%7Ctype%2Fid%7CfoundIn%2FitemId%7Ctarget%2FitemId%7CteamArea%2FitemId%7Ccreator%2FuniqueId%7Cowner%2FuniqueId%7Cpriority%2Fid%7CallExtensions%2F%28itemValue%2F%28uniqueId%7CitemType%7CitemId%29%7Ctype%7Ckey%7ClongValue%7CintegerValue%7CdoubleValue%7ClargeStringValue%7CsmallStringValue%7CmediumStringValue%7CtimestampValue%7CbooleanValue%7CdecimalValue%29%7C%40href%7CsubscriberCount%7Cid%7CcreationDate%7Ctags%7Cmodified%7CdayModified%7CresolutionDate%7CuniqueId%7CdueDate%7CtimeSpent%7CintegerComplexity%7CstateId%7Csummary%7CactivationDate%7CcorrectedEstimate%7Cduration%7CcommentCount%7Cpredecessor%29%7CprojectArea%2Farchived%29&modifiedsince=2018-10-26T10%3A25%3A06.316-0400&size=10&pos=40 In the above case the DCC is loading the work item history 10 work items at a time. '"
      ]
     },
     "execution_count": 55,
     "metadata": {},
     "output_type": "execute_result"
    }
   ],
   "execution_count": 55
  },
  {
   "metadata": {
    "ExecuteTime": {
     "end_time": "2024-10-07T20:00:09.168296Z",
     "start_time": "2024-10-07T20:00:09.161385Z"
    }
   },
   "cell_type": "code",
   "source": "toks = model.tokenizer(res[0][1])",
   "id": "91e2d002eb3b9d76",
   "outputs": [],
   "execution_count": 56
  },
  {
   "metadata": {
    "ExecuteTime": {
     "end_time": "2024-10-07T20:00:38.370134Z",
     "start_time": "2024-10-07T20:00:38.367334Z"
    }
   },
   "cell_type": "code",
   "source": "len(toks['input_ids'])",
   "id": "2daae198a0c0476",
   "outputs": [
    {
     "data": {
      "text/plain": [
       "2066"
      ]
     },
     "execution_count": 58,
     "metadata": {},
     "output_type": "execute_result"
    }
   ],
   "execution_count": 58
  },
  {
   "metadata": {
    "ExecuteTime": {
     "end_time": "2024-10-07T19:57:59.541598Z",
     "start_time": "2024-10-07T19:57:59.084357Z"
    }
   },
   "cell_type": "code",
   "source": "{i: d['tlen'] for i, d in enumerate(data) if d['tlen']>512}",
   "id": "4c27a16398591e9b",
   "outputs": [
    {
     "data": {
      "text/plain": [
       "{1079292: 2082, 1079293: 874, 2618342: 1330}"
      ]
     },
     "execution_count": 50,
     "metadata": {},
     "output_type": "execute_result"
    }
   ],
   "execution_count": 50
  },
  {
   "metadata": {},
   "cell_type": "code",
   "outputs": [],
   "execution_count": null,
   "source": "",
   "id": "52ab30d8e0d5d641"
  }
 ],
 "metadata": {
  "kernelspec": {
   "display_name": "Python 3",
   "language": "python",
   "name": "python3"
  },
  "language_info": {
   "codemirror_mode": {
    "name": "ipython",
    "version": 2
   },
   "file_extension": ".py",
   "mimetype": "text/x-python",
   "name": "python",
   "nbconvert_exporter": "python",
   "pygments_lexer": "ipython2",
   "version": "2.7.6"
  }
 },
 "nbformat": 4,
 "nbformat_minor": 5
}
