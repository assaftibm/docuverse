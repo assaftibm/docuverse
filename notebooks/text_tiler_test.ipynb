{
 "cells": [
  {
   "cell_type": "code",
   "id": "f513f4f0bbc79b25",
   "metadata": {
    "ExecuteTime": {
     "end_time": "2024-11-22T03:45:04.887791Z",
     "start_time": "2024-11-22T03:45:04.885402Z"
    }
   },
   "source": [
    "from sentence_transformers import SentenceTransformer\n",
    "from docuverse.utils import open_stream, read_config_file\n",
    "import pickle\n",
    "from tqdm import tqdm, trange\n",
    "from docuverse.utils.text_tiler import TextTiler\n",
    "from docuverse.engines.search_data import SearchData\n",
    "from docuverse.engines.data_template import DataTemplate\n",
    "import os"
   ],
   "outputs": [],
   "execution_count": 16
  },
  {
   "metadata": {
    "ExecuteTime": {
     "end_time": "2024-11-22T04:00:15.765322Z",
     "start_time": "2024-11-22T04:00:14.083542Z"
    }
   },
   "cell_type": "code",
   "source": [
    "model_name = \"thenlper/gte-small\"\n",
    "model = SentenceTransformer(model_name)\n",
    "max_size = 512\n",
    "stride = 100\n",
    "tiler = TextTiler(max_doc_size=max_size, stride=stride, tokenizer=model.tokenizer, aligned_on_sentences=True)"
   ],
   "id": "eab9fc0cb1a75545",
   "outputs": [
    {
     "name": "stderr",
     "output_type": "stream",
     "text": [
      "/home/raduf/miniforge3/envs/docuverse/lib/python3.10/site-packages/huggingface_hub/file_download.py:1132: FutureWarning: `resume_download` is deprecated and will be removed in version 1.0.0. Downloads always resume when possible. If you want to force a new download, use `force_download=True`.\n",
      "  warnings.warn(\n"
     ]
    }
   ],
   "execution_count": 50
  },
  {
   "metadata": {
    "ExecuteTime": {
     "end_time": "2024-11-22T03:50:34.855116Z",
     "start_time": "2024-11-22T03:50:34.851930Z"
    }
   },
   "cell_type": "code",
   "source": [
    "\n",
    "datadir=\"data/clapnq_small\"\n",
    "clapnq_format=read_config_file(\"clapnq_data_format.yml\")\n",
    "clapnq_template=DataTemplate(clapnq_format['data_format'])"
   ],
   "id": "7bd8afacca249937",
   "outputs": [],
   "execution_count": 29
  },
  {
   "metadata": {
    "collapsed": true,
    "ExecuteTime": {
     "end_time": "2024-11-22T03:50:35.429333Z",
     "start_time": "2024-11-22T03:50:35.426601Z"
    }
   },
   "cell_type": "code",
   "source": "clapnq_template",
   "id": "initial_id",
   "outputs": [
    {
     "data": {
      "text/plain": [
       "DataTemplate(text_header={'id_header': 'id', 'text_header': 'text', 'title_header': 'title', 'extra_fields': None}, id_header=None, relevant_header='relevant', answers_header='answers', keep_fields=None, extra_fields=[], title_header='title', passage_header='passages', passage_text_header=None, passage_id_header=None, truth_id='query-id', truth_label='corpus-id')"
      ]
     },
     "execution_count": 30,
     "metadata": {},
     "output_type": "execute_result"
    }
   ],
   "execution_count": 30
  },
  {
   "metadata": {
    "ExecuteTime": {
     "end_time": "2024-11-22T03:54:20.094590Z",
     "start_time": "2024-11-22T03:54:20.087122Z"
    }
   },
   "cell_type": "code",
   "source": [
    "import pandas as pd\n",
    "data = pd.read_csv(os.path.join(datadir, \"passages.tsv\"), sep=\"\\t\")\n",
    "sents = data['text']"
   ],
   "id": "1fc43649f9f01481",
   "outputs": [],
   "execution_count": 32
  },
  {
   "metadata": {
    "ExecuteTime": {
     "end_time": "2024-11-22T03:59:37.677198Z",
     "start_time": "2024-11-22T03:59:37.662992Z"
    }
   },
   "cell_type": "code",
   "source": "tiled_data = [tiler.create_tiles(i, txt, '', max_doc_size=50, stride=10) for i, txt in enumerate(sents[:10])]",
   "id": "5cd5bf94ce691d6",
   "outputs": [],
   "execution_count": 48
  },
  {
   "metadata": {
    "ExecuteTime": {
     "end_time": "2024-11-22T03:59:38.713187Z",
     "start_time": "2024-11-22T03:59:38.709578Z"
    }
   },
   "cell_type": "code",
   "source": "tiled_data",
   "id": "284c76e773746a13",
   "outputs": [
    {
     "data": {
      "text/plain": [
       "[[{'id': '0-0-242',\n",
       "   'text': 'Egocentrism is the inability to differentiate between self and other . More specifically , it is the inability to untangle subjective schemas from objective reality ; an inability to understand or assume any perspective other than their own .'}],\n",
       " [{'id': '1-0-205',\n",
       "   'text': 'although egocentrism and narcissism appear similar, they are not the same. a person who is egocentric believes they are the center of attention, like a narcissist, but does not receive gratification by'},\n",
       "  {'id': '1-162-367',\n",
       "   'text': \"[CLS]ist, but does not receive gratification by one's own admiration. both egotists and narcissists are people whose egos are greatly influenced by the approval of others, while for egocentrists this may or\"},\n",
       "  {'id': '1-331-385',\n",
       "   'text': '[CLS], while for egocentrists this may or may not be true.'}],\n",
       " [{'id': '2-0-261',\n",
       "   'text': 'although egocentric behaviors are less prominent in adulthood, the existence of some forms of egocentrism in adulthood indicates that overcoming egocentrism may be a lifelong development that never achieves completion. adults appear to be less egocentric than'},\n",
       "  {'id': '2-208-442',\n",
       "   'text': 'completion. adults appear to be less egocentric than children because they are faster to correct from an initially egocentric perspective than children, not because they are less likely to initially adopt an egocentric perspective.'}],\n",
       " [{'id': '3-0-239',\n",
       "   'text': 'Therefore , egocentrism is found across the life span : in infancy early childhood , adolescence , and adulthood . It contributes to the human cognitive development by helping children develop theory of mind and self - identity formation .'}],\n",
       " [{'id': '4-0-249',\n",
       "   'text': 'the main concept infants and young children learn by beginning to show egocentrism is the fact that their thoughts, values, and behaviors are different from those of others, also known as the theory of mind. initially when children begin to have'},\n",
       "  {'id': '4-195-425',\n",
       "   'text': 'theory of mind. initially when children begin to have social interactions with others, mainly the caregivers, they misinterpret that they are one entity, because they are together for a long duration of time and the caregivers'},\n",
       "  {'id': '4-383-595',\n",
       "   'text': \"a long duration of time and the caregivers often provide for the children's needs. for example, a child may misattribute the act of their mother reaching to retrieve an object that they point to as a sign that\"},\n",
       "  {'id': '4-552-772',\n",
       "   'text': 'an object that they point to as a sign that they are the same entity, when in fact they are actually separate individuals. as early as 15 months old, children show a mix of egocentrism and theory of mind when an agent'},\n",
       "  {'id': '4-731-966',\n",
       "   'text': '[CLS]centrism and theory of mind when an agent acts inconsistently with how the children expect him to behave. in this study the children observed the experimenter place a toy inside one of two boxes, but did not see when the experimenter'},\n",
       "  {'id': '4-921-1158',\n",
       "   'text': 'boxes, but did not see when the experimenter removed the toy from the original box and placed it in the other box, due to obstruction by a screen. when the screen was removed the children watched the experimenter reach to take the toy'},\n",
       "  {'id': '4-1103-1341',\n",
       "   'text': \"children watched the experimenter reach to take the toy out of one of the boxes, yet because the children did not see the switching part, they looked at the experimenter's action much longer when she reached for the box opposite to the\"},\n",
       "  {'id': '4-1290-1547',\n",
       "   'text': \"longer when she reached for the box opposite to the one she originally put the toy in. not only does this show the existence of infants'memory capacity, but it also demonstrates how they have expectations based on their knowledge, as they are surprised\"},\n",
       "  {'id': '4-1486-1585',\n",
       "   'text': 'expectations based on their knowledge, as they are surprised when those expectations are not met.'}],\n",
       " [{'id': '5-0-257',\n",
       "   'text': 'according to george butterworth and margaret harris, during childhood, one is usually unable to distinguish between what is subjective and objective. according to piaget, ` ` an egocentric child assumes that other people see, hear, and feel exactly the'},\n",
       "  {'id': '5-211-285',\n",
       "   'text': \"other people see, hear, and feel exactly the same as the child does.''\"}],\n",
       " [{'id': '6-0-265',\n",
       "   'text': \"jean piaget ( 1896 - - 1980 ) developed a theory about the development of human intelligence, describing the stages of cognitive development. he claimed that early childhood is the time of pre - operational thought, characterized by children's inability to process\"},\n",
       "  {'id': '6-206-458',\n",
       "   'text': \"thought, characterized by children's inability to process logical thought. according to piaget, one of the main obstacles to logic that children possess includes centration, ` ` the tendency to focus on one aspect of a situation to the exclusion of\"},\n",
       "  {'id': '6-410-612',\n",
       "   'text': \"on one aspect of a situation to the exclusion of others.'' a particular type of centration is egocentrism - - literally, ` ` self - centeredness.'' piaget claimed that young children are egocentric,\"},\n",
       "  {'id': '6-561-814',\n",
       "   'text': 'piaget claimed that young children are egocentric, capable of contemplating the world only from their personal perspective. for example, a three - year - old presented his mother a model truck as her birthday present ; ` ` he had carefully wrapped the'},\n",
       "  {'id': '6-764-992',\n",
       "   'text': \"birthday present ; ` ` he had carefully wrapped the present and gave it to his mother with an expression that clearly showed he expected her to love it.'' the three - year - old boy had not chosen the present out of selfishness\"},\n",
       "  {'id': '6-943-1136',\n",
       "   'text': \"boy had not chosen the present out of selfishness or greediness, but he simply failed to realize that, from his mother's perspective, she might not enjoy the model car as much as he would.\"}],\n",
       " [{'id': '7-0-274',\n",
       "   'text': 'piaget was concerned with two aspects of egocentricity in children : language and morality. he believed that egocentric children use language primarily for communication with oneself. piaget observed that children would talk to themselves during play, and this egocentric'},\n",
       "  {'id': '7-222-456',\n",
       "   'text': \"talk to themselves during play, and this egocentric speech was merely the child's thoughts. he believed that this speech had no special function ; it was used as a way of accompanying and reinforcing the child's current activity.\"},\n",
       "  {'id': '7-413-640',\n",
       "   'text': \"reinforcing the child's current activity. he theorized that as the child matures cognitively and socially the amount of egocentric speech used would be reduced. however, vygotsky felt that egocentric speech has more meaning\"},\n",
       "  {'id': '7-589-830',\n",
       "   'text': \"[CLS]gotsky felt that egocentric speech has more meaning, as it allows the child's growth in social speech and high mental development. in addition to piaget's theory, he believed that when communicating with others, the child believes that\"},\n",
       "  {'id': '7-769-941',\n",
       "   'text': 'that when communicating with others, the child believes that others know everything about the topic of discussion and become frustrated when asked to give further detail.'}],\n",
       " [{'id': '8-0-215',\n",
       "   'text': \"piaget also believed that egocentrism affects the child's sense of morality. due to egocentrism, the child is only concerned with the final outcome of an event rather than another's intentions. for example, if\"},\n",
       "  {'id': '8-170-391',\n",
       "   'text': \"than another's intentions. for example, if someone breaks the child's toy, the child would not forgive the other and the child wouldn't be able to understand that the person who broke the toy did not intend to break\"},\n",
       "  {'id': '8-343-587',\n",
       "   'text': 'person who broke the toy did not intend to break it. this phenomenon can also be backed by the evidence from the findings of the case study by nelson, who studied the use of motives and outcomes by young children as aiding to form their moral'},\n",
       "  {'id': '8-531-600',\n",
       "   'text': 'outcomes by young children as aiding to form their moral judgements.'}],\n",
       " [{'id': '9-0-224',\n",
       "   'text': 'piaget did a test to investigate egocentrism called the mountains study. he put children in front of a simple plaster mountain range and then asked them to pick from four pictures the view that he, piaget, would see. the'},\n",
       "  {'id': '9-190-437',\n",
       "   'text': 'that he, piaget, would see. the younger children before age seven picked the picture of the view they themselves saw and were therefore found to lack the ability to appreciate a viewpoint different from their own. in other words, their way of'},\n",
       "  {'id': '9-396-652',\n",
       "   'text': 'their own. in other words, their way of reasoning was egocentric. only when entering the concrete - operational stage of development at age seven to twelve, children became less egocentric and could appreciate viewpoints other than their own. in other'},\n",
       "  {'id': '9-599-845',\n",
       "   'text': \"appreciate viewpoints other than their own. in other words, they were capable of cognitive perspective - taking. however, the mountains test has been criticized for judging only the child's visuo - spatial awareness, rather than egocentrism\"},\n",
       "  {'id': '9-800-1038',\n",
       "   'text': '- spatial awareness, rather than egocentrism. a follow up study involving police dolls showed that even young children were able to correctly say what the interviewer would see. it is thought that piaget overestimated the extent of ego'},\n",
       "  {'id': '9-995-1195',\n",
       "   'text': \"that piaget overestimated the extent of egocentrism in children. egocentrism is thus the child's inability to see other people's viewpoints, not to be confused with selfishness. the child at this\"},\n",
       "  {'id': '9-1147-1294',\n",
       "   'text': 'be confused with selfishness. the child at this stage of cognitive development assumes that their view of the world is the same as other peoples.'}]]"
      ]
     },
     "execution_count": 49,
     "metadata": {},
     "output_type": "execute_result"
    }
   ],
   "execution_count": 49
  }
 ],
 "metadata": {
  "kernelspec": {
   "display_name": "Python 3",
   "language": "python",
   "name": "python3"
  },
  "language_info": {
   "codemirror_mode": {
    "name": "ipython",
    "version": 2
   },
   "file_extension": ".py",
   "mimetype": "text/x-python",
   "name": "python",
   "nbconvert_exporter": "python",
   "pygments_lexer": "ipython2",
   "version": "2.7.6"
  }
 },
 "nbformat": 4,
 "nbformat_minor": 5
}
