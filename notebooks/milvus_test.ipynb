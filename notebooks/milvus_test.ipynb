{
 "cells": [
  {
   "cell_type": "code",
   "id": "initial_id",
   "metadata": {
    "collapsed": true,
    "ExecuteTime": {
     "end_time": "2024-08-26T15:47:19.226346Z",
     "start_time": "2024-08-26T15:47:17.969210Z"
    }
   },
   "source": [
    "from docuverse import SearchEngine, SearchResult, SearchQueries\n",
    "ymlconfig=\"../experiments/datamaze_ibmsw/setup.yaml\""
   ],
   "outputs": [],
   "execution_count": 1
  },
  {
   "metadata": {
    "ExecuteTime": {
     "end_time": "2024-08-26T15:50:21.717285Z",
     "start_time": "2024-08-26T15:50:21.704852Z"
    }
   },
   "cell_type": "code",
   "source": "engine = SearchEngine(ymlconfig)",
   "id": "ecdd6e798bb0ca99",
   "outputs": [],
   "execution_count": 7
  },
  {
   "metadata": {
    "ExecuteTime": {
     "end_time": "2024-08-26T15:47:40.971054Z",
     "start_time": "2024-08-26T15:47:40.968814Z"
    }
   },
   "cell_type": "code",
   "source": [
    "#text = [\"QRadar: How to sudo or su to root in QRadar\", \"Using Prometheus to monitor MQ channel status\"]\n",
    "text = [\"Using Prometheus to monitor MQ channel status\", \"fteCancelTransfer (cancel an MFT transfer)\", \"IBM Technology Expert Labs – Security\", \"what can I do with SPSS\"]"
   ],
   "id": "582306fd65685902",
   "outputs": [],
   "execution_count": 3
  },
  {
   "metadata": {
    "ExecuteTime": {
     "end_time": "2024-08-26T15:48:52.196056Z",
     "start_time": "2024-08-26T15:48:52.193425Z"
    }
   },
   "cell_type": "code",
   "source": "queries = [SearchQueries.Query(**{\"text\": t, \"template\":engine.config.query_template}) for t in text]",
   "id": "e802df22e660334e",
   "outputs": [],
   "execution_count": 5
  },
  {
   "metadata": {
    "ExecuteTime": {
     "end_time": "2024-08-26T15:48:56.048635Z",
     "start_time": "2024-08-26T15:48:56.022509Z"
    }
   },
   "cell_type": "code",
   "source": [
    "res = engine.search(queries=queries)\n",
    "res"
   ],
   "id": "efc3ac3632b1d0ef",
   "outputs": [
    {
     "ename": "AttributeError",
     "evalue": "'NoneType' object has no attribute 'reconnect_if_necessary'",
     "output_type": "error",
     "traceback": [
      "\u001B[0;31m---------------------------------------------------------------------------\u001B[0m",
      "\u001B[0;31mAttributeError\u001B[0m                            Traceback (most recent call last)",
      "Cell \u001B[0;32mIn[6], line 1\u001B[0m\n\u001B[0;32m----> 1\u001B[0m res \u001B[38;5;241m=\u001B[39m \u001B[43mengine\u001B[49m\u001B[38;5;241;43m.\u001B[39;49m\u001B[43msearch\u001B[49m\u001B[43m(\u001B[49m\u001B[43mqueries\u001B[49m\u001B[38;5;241;43m=\u001B[39;49m\u001B[43mqueries\u001B[49m\u001B[43m)\u001B[49m\n\u001B[1;32m      2\u001B[0m res\n",
      "File \u001B[0;32m/ssd5/raduf/sandbox/docuverse/docuverse/engines/search_engine.py:72\u001B[0m, in \u001B[0;36mSearchEngine.search\u001B[0;34m(self, queries)\u001B[0m\n\u001B[1;32m     70\u001B[0m answers, cache_file \u001B[38;5;241m=\u001B[39m \u001B[38;5;28mself\u001B[39m\u001B[38;5;241m.\u001B[39mread_cache_file(extension\u001B[38;5;241m=\u001B[39m\u001B[38;5;124m\"\u001B[39m\u001B[38;5;124m.retrieve.pkl.bz2\u001B[39m\u001B[38;5;124m\"\u001B[39m)\n\u001B[1;32m     71\u001B[0m \u001B[38;5;28;01mif\u001B[39;00m answers \u001B[38;5;129;01mis\u001B[39;00m \u001B[38;5;28;01mNone\u001B[39;00m:\n\u001B[0;32m---> 72\u001B[0m     \u001B[38;5;28;43mself\u001B[39;49m\u001B[38;5;241;43m.\u001B[39;49m\u001B[43mretriever\u001B[49m\u001B[38;5;241;43m.\u001B[39;49m\u001B[43mreconnect_if_necessary\u001B[49m()\n\u001B[1;32m     73\u001B[0m     answers \u001B[38;5;241m=\u001B[39m parallel_process(\u001B[38;5;28mself\u001B[39m\u001B[38;5;241m.\u001B[39mretriever\u001B[38;5;241m.\u001B[39msearch, queries,\n\u001B[1;32m     74\u001B[0m                                num_threads\u001B[38;5;241m=\u001B[39m\u001B[38;5;28mself\u001B[39m\u001B[38;5;241m.\u001B[39mconfig\u001B[38;5;241m.\u001B[39mnum_search_threads,\n\u001B[1;32m     75\u001B[0m                                msg\u001B[38;5;241m=\u001B[39m\u001B[38;5;124mf\u001B[39m\u001B[38;5;124m\"\u001B[39m\u001B[38;5;124mSearching documents:\u001B[39m\u001B[38;5;124m\"\u001B[39m)\n\u001B[1;32m     76\u001B[0m     \u001B[38;5;28mself\u001B[39m\u001B[38;5;241m.\u001B[39mwrite_necessary \u001B[38;5;241m=\u001B[39m \u001B[38;5;28;01mTrue\u001B[39;00m\n",
      "\u001B[0;31mAttributeError\u001B[0m: 'NoneType' object has no attribute 'reconnect_if_necessary'"
     ]
    }
   ],
   "execution_count": 6
  },
  {
   "metadata": {
    "ExecuteTime": {
     "end_time": "2024-08-15T20:40:41.177669Z",
     "start_time": "2024-08-15T20:40:41.174140Z"
    }
   },
   "cell_type": "code",
   "source": "[r['url'] for r in res[2]]",
   "id": "703ddc4206d9de05",
   "outputs": [
    {
     "data": {
      "text/plain": [
       "['https://www.ibm.com/docs/en/ssw_aix_73/security/aix_sec_expert.html',\n",
       " 'https://www.ibm.com/docs/en/ts3500-tape-library?topic=planning-security',\n",
       " 'https://www.ibm.com/docs/en/connect-direct/6.3.0?topic=prerequisites-expert-security-administrator',\n",
       " 'https://www.ibm.com/docs/en/storage-insights?topic=security-what-measures-are-built-in',\n",
       " 'https://www.ibm.com/docs/en/ts4500-tape-library/1.10.2?topic=planning-security',\n",
       " 'https://www.ibm.com/docs/en/zos/3.1.0?topic=tls-security-levels',\n",
       " 'https://www.ibm.com/docs/en/engineering-lifecycle-management-suite/lifecycle-management/7.0.3?topic=offerings-security',\n",
       " 'https://www.ibm.com/docs/en/randori?topic=technology-guidance',\n",
       " 'https://www.ibm.com/docs/en/aix/7.3?topic=expert-aix-security-high-level-security-scenario',\n",
       " 'https://www.ibm.com/docs/en/cloud-paks/cp-security/saas?topic=protecting-your-organization',\n",
       " 'https://www.ibm.com/docs/en/dtl/2.11.0?topic=planning-security',\n",
       " 'https://www.ibm.com/docs/en/i/7.5?topic=serving-security',\n",
       " 'https://www.ibm.com/docs/en/ts3500-tape-library?topic=procedures-web-security',\n",
       " 'https://www.ibm.com/docs/en/daefz/1.1.0?topic=customization-verify-security-requirements',\n",
       " 'https://www.ibm.com/docs/en/rdfi/9.8.0?topic=overview',\n",
       " 'https://www.ibm.com/docs/en/ibm-mq/9.4?topic=overview-cryptographic-security-protocols-tls',\n",
       " 'https://www.ibm.com/docs/en/aix/7.3?topic=expert-aix-security-security-hardening',\n",
       " 'https://www.ibm.com/docs/en/aix/7.3?topic=expert-aix-security-security-hardening',\n",
       " 'https://www.ibm.com/docs/en/ssw_ibm_i_75/rzain/rzainoverview.htm',\n",
       " 'https://www.ibm.com/docs/en/spems/6.2.3?topic=security-overview',\n",
       " 'https://www.ibm.com/docs/en/acfz/1.1.1?topic=overview-security',\n",
       " 'https://www.ibm.com/docs/en/dtl/2.11.0?topic=overview-transport-layer-security',\n",
       " 'https://www.ibm.com/docs/en/mas-cd/maximo-monitor/continuous-delivery?topic=reference-security',\n",
       " 'https://www.ibm.com/docs/en/storage-deep-archive?topic=planning-security',\n",
       " 'https://www.ibm.com/docs/en/sdk-java-technology/8?topic=guide-security',\n",
       " 'https://www.ibm.com/docs/en/cloud-paks/z-modernization-stack/2023.4?topic=guide-security',\n",
       " 'https://www.ibm.com/docs/en/b2bis?topic=security',\n",
       " 'https://www.ibm.com/docs/en/aix/7.3?topic=expert-aix-security-low-level-security-scenario',\n",
       " 'https://www.ibm.com/docs/en/spems/6.2.3?topic=security',\n",
       " 'https://www.ibm.com/docs/en/was-zos/9.0.5?topic=securing-security-resources-learning',\n",
       " 'https://www.ibm.com/docs/en/cta?topic=advisor-security-bulletins',\n",
       " 'https://www.ibm.com/docs/en/sig-and-i/10.0.2?topic=service-security-questions',\n",
       " 'https://www.ibm.com/docs/en/imdm/14.0?topic=home-notices',\n",
       " 'https://www.ibm.com/docs/en/imdmcdhsa/11.6.0?topic=home-notices',\n",
       " 'https://www.ibm.com/docs/en/aix/7.3?topic=4-security-profile-overview',\n",
       " 'https://www.ibm.com/docs/en/qradar-on-cloud?topic=privileges-uba-dormant-account-use-attempted',\n",
       " 'https://www.ibm.com/docs/en/warehouse-management/9.5.0?topic=components-security',\n",
       " 'https://www.ibm.com/docs/en/dtl/2.11.0?topic=settings-security',\n",
       " 'https://www.ibm.com/docs/en/cloud-paks/cp-management/2.3.x?topic=started-personas-use-cases',\n",
       " 'https://www.ibm.com/docs/en/aix/7.3?topic=expert-aix-security-medium-level-security-scenario']"
      ]
     },
     "execution_count": 16,
     "metadata": {},
     "output_type": "execute_result"
    }
   ],
   "execution_count": 16
  },
  {
   "metadata": {
    "ExecuteTime": {
     "end_time": "2024-08-26T15:51:01.565481Z",
     "start_time": "2024-08-26T15:51:01.561663Z"
    }
   },
   "cell_type": "code",
   "source": "ymlconfig",
   "id": "c81ea72c674f5ac1",
   "outputs": [
    {
     "data": {
      "text/plain": [
       "'../experiments/datamaze_ibmsw/setup.yaml'"
      ]
     },
     "execution_count": 10,
     "metadata": {},
     "output_type": "execute_result"
    }
   ],
   "execution_count": 10
  },
  {
   "metadata": {
    "ExecuteTime": {
     "end_time": "2024-08-26T15:52:13.244446Z",
     "start_time": "2024-08-26T15:52:13.240923Z"
    }
   },
   "cell_type": "code",
   "source": "engine.config.__dict__",
   "id": "f454ea6240bc7126",
   "outputs": [
    {
     "data": {
      "text/plain": [
       "{'evaluate': False,\n",
       " 'output_file': 'output/ibmsw-datamazemilvus-gte-small-512-100.json',\n",
       " 'input_queries': '/home/raduf/sandbox2/docuverse/benchmark/ibm_search/questions_combined_labels_with_dccs.csv',\n",
       " 'retrieve': True,\n",
       " 'input_passages': '/home/raduf/sandbox2/docuverse/benchmark/ibm_search/selected_docs.jsonl.bz2',\n",
       " 'update': False,\n",
       " 'ingest': False,\n",
       " 'params': HfArgumentParser(prog='ipykernel_launcher.py', usage=None, description=None, formatter_class=<class 'argparse.ArgumentDefaultsHelpFormatter'>, conflict_handler='error', add_help=True),\n",
       " 'retriever_config': RetrievalArguments(project_dir='/home/raduf/sandbox2/docuverse', model_name='/home/raduf/mnlp-models-rag/06302024/slate.30m.english.rtrvr', input_passages='/home/raduf/sandbox2/docuverse/benchmark/ibm_search/selected_docs.jsonl.bz2', input_queries='/home/raduf/sandbox2/docuverse/benchmark/ibm_search/questions_combined_labels_with_dccs.csv', hybrid='none', top_k=40, index_name='ibm_docs_slate', db_engine='milvus', model_on_server=False, doc_based=True, max_doc_length=512, stride=100, aligned_on_sentences=True, tile_overlap=None, ingestion_batch_size=40, title_handling='all', count_type='token', text_field='text', title_field='title', filters=None, filter_on=None, server='ibm_datamaze', lang='en', max_num_documents=None, max_num_questions=None, ignore_empty_questions=False, bulk_batch=128, num_candidates=1000, num_preprocessor_threads=10, num_search_threads=1, no_cache=False, duplicate_removal=None, rouge_duplicate_threshold=0.9, data_format='/home/raduf/sandbox2/docuverse/config/datamaze_format.yml', query_header_format=None, data_header_format=None, verbose=True, query_template=DataTemplate(text_header='text', id_header='id', relevant_header='id', answers_header='answers', keep_fields=None, extra_fields=None, title_header='title', passage_header='passages', passage_text_header=None, passage_id_header=None, truth_id='query-id', truth_label='corpus-id'), data_template=DataTemplate(text_header='content', id_header='doc_id', relevant_header='relevant', answers_header='answers', keep_fields=None, extra_fields=['url', 'digital_content_codes'], title_header='title', passage_header='passages', passage_text_header=None, passage_id_header=None, truth_id='query-id', truth_label='corpus-id')),\n",
       " 'reranker_config': RerankerArguments(reranker_model=None, reranker_batch_size=32, reranker_gpu_batch_size=128, reranker_combine_weight=1.0, reranker_combination_type='rrf', reranker_engine='dense', reranker_lowercase=False),\n",
       " 'eval_config': EvaluationArguments(compute_rouge=False, ranks='1,3,5,10,40', iranks=[1, 3, 5, 10, 40], eval_measure='match,mrr,ndcg'),\n",
       " 'run_config': EngineArguments(output_file='output/ibmsw-datamazemilvus-gte-small-512-100.json', actions='r', config=None, cache_dir=None, output_name=None, ingest=False, update=False, retrieve=True, evaluate=False, rerank=False),\n",
       " 'project_dir': '/home/raduf/sandbox2/docuverse',\n",
       " 'model_name': '/home/raduf/mnlp-models-rag/06302024/slate.30m.english.rtrvr',\n",
       " 'hybrid': 'none',\n",
       " 'top_k': 40,\n",
       " 'index_name': 'ibm_docs_slate',\n",
       " 'db_engine': 'milvus',\n",
       " 'model_on_server': False,\n",
       " 'doc_based': True,\n",
       " 'max_doc_length': 512,\n",
       " 'stride': 100,\n",
       " 'aligned_on_sentences': True,\n",
       " 'tile_overlap': None,\n",
       " 'ingestion_batch_size': 40,\n",
       " 'title_handling': 'all',\n",
       " 'count_type': 'token',\n",
       " 'text_field': 'text',\n",
       " 'title_field': 'title',\n",
       " 'filters': None,\n",
       " 'filter_on': None,\n",
       " 'server': 'ibm_datamaze',\n",
       " 'lang': 'en',\n",
       " 'max_num_documents': None,\n",
       " 'max_num_questions': None,\n",
       " 'ignore_empty_questions': False,\n",
       " 'bulk_batch': 128,\n",
       " 'num_candidates': 1000,\n",
       " 'num_preprocessor_threads': 10,\n",
       " 'num_search_threads': 1,\n",
       " 'no_cache': False,\n",
       " 'duplicate_removal': None,\n",
       " 'rouge_duplicate_threshold': 0.9,\n",
       " 'data_format': '/home/raduf/sandbox2/docuverse/config/datamaze_format.yml',\n",
       " 'query_header_format': None,\n",
       " 'data_header_format': None,\n",
       " 'verbose': True,\n",
       " 'query_template': DataTemplate(text_header='text', id_header='id', relevant_header='id', answers_header='answers', keep_fields=None, extra_fields=None, title_header='title', passage_header='passages', passage_text_header=None, passage_id_header=None, truth_id='query-id', truth_label='corpus-id'),\n",
       " 'data_template': DataTemplate(text_header='content', id_header='doc_id', relevant_header='relevant', answers_header='answers', keep_fields=None, extra_fields=['url', 'digital_content_codes'], title_header='title', passage_header='passages', passage_text_header=None, passage_id_header=None, truth_id='query-id', truth_label='corpus-id'),\n",
       " 'reranker_model': None,\n",
       " 'reranker_batch_size': 32,\n",
       " 'reranker_gpu_batch_size': 128,\n",
       " 'reranker_combine_weight': 1.0,\n",
       " 'reranker_combination_type': 'rrf',\n",
       " 'reranker_engine': 'dense',\n",
       " 'reranker_lowercase': False,\n",
       " 'compute_rouge': False,\n",
       " 'ranks': '1,3,5,10,40',\n",
       " 'iranks': [1, 3, 5, 10, 40],\n",
       " 'eval_measure': 'match,mrr,ndcg',\n",
       " 'actions': 'r',\n",
       " 'config': None,\n",
       " 'cache_dir': None,\n",
       " 'output_name': None,\n",
       " 'rerank': False}"
      ]
     },
     "execution_count": 13,
     "metadata": {},
     "output_type": "execute_result"
    }
   ],
   "execution_count": 13
  },
  {
   "metadata": {},
   "cell_type": "code",
   "outputs": [],
   "execution_count": null,
   "source": "",
   "id": "e0d6e5d44cfb6474"
  }
 ],
 "metadata": {
  "kernelspec": {
   "display_name": "Python 3",
   "language": "python",
   "name": "python3"
  },
  "language_info": {
   "codemirror_mode": {
    "name": "ipython",
    "version": 2
   },
   "file_extension": ".py",
   "mimetype": "text/x-python",
   "name": "python",
   "nbconvert_exporter": "python",
   "pygments_lexer": "ipython2",
   "version": "2.7.6"
  }
 },
 "nbformat": 4,
 "nbformat_minor": 5
}
