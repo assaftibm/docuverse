{
 "cells": [
  {
   "cell_type": "code",
   "id": "initial_id",
   "metadata": {
    "collapsed": true,
    "ExecuteTime": {
     "end_time": "2024-08-15T20:32:01.086804Z",
     "start_time": "2024-08-15T20:31:59.886338Z"
    }
   },
   "source": [
    "from docuverse import SearchEngine, SearchResult, SearchQueries\n",
    "ymlconfig=\"../experiments/datamaze_ibmsw/setup.yaml\""
   ],
   "outputs": [],
   "execution_count": 1
  },
  {
   "metadata": {
    "ExecuteTime": {
     "end_time": "2024-08-15T20:32:04.126427Z",
     "start_time": "2024-08-15T20:32:01.811448Z"
    }
   },
   "cell_type": "code",
   "source": "engine = SearchEngine(ymlconfig)",
   "id": "ecdd6e798bb0ca99",
   "outputs": [
    {
     "name": "stdout",
     "output_type": "stream",
     "text": [
      "=== done initializing model\n"
     ]
    }
   ],
   "execution_count": 2
  },
  {
   "metadata": {
    "ExecuteTime": {
     "end_time": "2024-08-15T20:39:46.449511Z",
     "start_time": "2024-08-15T20:39:46.447226Z"
    }
   },
   "cell_type": "code",
   "source": [
    "#text = [\"QRadar: How to sudo or su to root in QRadar\", \"Using Prometheus to monitor MQ channel status\"]\n",
    "text = [\"Using Prometheus to monitor MQ channel status\", \"fteCancelTransfer (cancel an MFT transfer)\", \"IBM Technology Expert Labs – Security\"]"
   ],
   "id": "582306fd65685902",
   "outputs": [],
   "execution_count": 12
  },
  {
   "metadata": {
    "ExecuteTime": {
     "end_time": "2024-08-15T20:39:47.421453Z",
     "start_time": "2024-08-15T20:39:47.419061Z"
    }
   },
   "cell_type": "code",
   "source": "queries = [SearchQueries.Query(**{\"text\": t}) for t in text]",
   "id": "e802df22e660334e",
   "outputs": [],
   "execution_count": 13
  },
  {
   "metadata": {
    "ExecuteTime": {
     "end_time": "2024-08-15T20:39:48.568414Z",
     "start_time": "2024-08-15T20:39:48.226963Z"
    }
   },
   "cell_type": "code",
   "source": [
    "res = engine.search(queries=queries)\n",
    "res"
   ],
   "id": "efc3ac3632b1d0ef",
   "outputs": [
    {
     "name": "stderr",
     "output_type": "stream",
     "text": [
      "Processing queries: 100%|██████████| 3/3 [00:00<00:00,  8.90it/s]\n"
     ]
    },
    {
     "data": {
      "text/plain": [
       "[<docuverse.engines.search_result.SearchResult at 0x7f1103bb6020>,\n",
       " <docuverse.engines.search_result.SearchResult at 0x7f1102c91960>,\n",
       " <docuverse.engines.search_result.SearchResult at 0x7f1102c72350>]"
      ]
     },
     "execution_count": 14,
     "metadata": {},
     "output_type": "execute_result"
    }
   ],
   "execution_count": 14
  },
  {
   "metadata": {
    "ExecuteTime": {
     "end_time": "2024-08-15T20:40:41.177669Z",
     "start_time": "2024-08-15T20:40:41.174140Z"
    }
   },
   "cell_type": "code",
   "source": "[r['url'] for r in res[2]]",
   "id": "703ddc4206d9de05",
   "outputs": [
    {
     "data": {
      "text/plain": [
       "['https://www.ibm.com/docs/en/ssw_aix_73/security/aix_sec_expert.html',\n",
       " 'https://www.ibm.com/docs/en/ts3500-tape-library?topic=planning-security',\n",
       " 'https://www.ibm.com/docs/en/connect-direct/6.3.0?topic=prerequisites-expert-security-administrator',\n",
       " 'https://www.ibm.com/docs/en/storage-insights?topic=security-what-measures-are-built-in',\n",
       " 'https://www.ibm.com/docs/en/ts4500-tape-library/1.10.2?topic=planning-security',\n",
       " 'https://www.ibm.com/docs/en/zos/3.1.0?topic=tls-security-levels',\n",
       " 'https://www.ibm.com/docs/en/engineering-lifecycle-management-suite/lifecycle-management/7.0.3?topic=offerings-security',\n",
       " 'https://www.ibm.com/docs/en/randori?topic=technology-guidance',\n",
       " 'https://www.ibm.com/docs/en/aix/7.3?topic=expert-aix-security-high-level-security-scenario',\n",
       " 'https://www.ibm.com/docs/en/cloud-paks/cp-security/saas?topic=protecting-your-organization',\n",
       " 'https://www.ibm.com/docs/en/dtl/2.11.0?topic=planning-security',\n",
       " 'https://www.ibm.com/docs/en/i/7.5?topic=serving-security',\n",
       " 'https://www.ibm.com/docs/en/ts3500-tape-library?topic=procedures-web-security',\n",
       " 'https://www.ibm.com/docs/en/daefz/1.1.0?topic=customization-verify-security-requirements',\n",
       " 'https://www.ibm.com/docs/en/rdfi/9.8.0?topic=overview',\n",
       " 'https://www.ibm.com/docs/en/ibm-mq/9.4?topic=overview-cryptographic-security-protocols-tls',\n",
       " 'https://www.ibm.com/docs/en/aix/7.3?topic=expert-aix-security-security-hardening',\n",
       " 'https://www.ibm.com/docs/en/aix/7.3?topic=expert-aix-security-security-hardening',\n",
       " 'https://www.ibm.com/docs/en/ssw_ibm_i_75/rzain/rzainoverview.htm',\n",
       " 'https://www.ibm.com/docs/en/spems/6.2.3?topic=security-overview',\n",
       " 'https://www.ibm.com/docs/en/acfz/1.1.1?topic=overview-security',\n",
       " 'https://www.ibm.com/docs/en/dtl/2.11.0?topic=overview-transport-layer-security',\n",
       " 'https://www.ibm.com/docs/en/mas-cd/maximo-monitor/continuous-delivery?topic=reference-security',\n",
       " 'https://www.ibm.com/docs/en/storage-deep-archive?topic=planning-security',\n",
       " 'https://www.ibm.com/docs/en/sdk-java-technology/8?topic=guide-security',\n",
       " 'https://www.ibm.com/docs/en/cloud-paks/z-modernization-stack/2023.4?topic=guide-security',\n",
       " 'https://www.ibm.com/docs/en/b2bis?topic=security',\n",
       " 'https://www.ibm.com/docs/en/aix/7.3?topic=expert-aix-security-low-level-security-scenario',\n",
       " 'https://www.ibm.com/docs/en/spems/6.2.3?topic=security',\n",
       " 'https://www.ibm.com/docs/en/was-zos/9.0.5?topic=securing-security-resources-learning',\n",
       " 'https://www.ibm.com/docs/en/cta?topic=advisor-security-bulletins',\n",
       " 'https://www.ibm.com/docs/en/sig-and-i/10.0.2?topic=service-security-questions',\n",
       " 'https://www.ibm.com/docs/en/imdm/14.0?topic=home-notices',\n",
       " 'https://www.ibm.com/docs/en/imdmcdhsa/11.6.0?topic=home-notices',\n",
       " 'https://www.ibm.com/docs/en/aix/7.3?topic=4-security-profile-overview',\n",
       " 'https://www.ibm.com/docs/en/qradar-on-cloud?topic=privileges-uba-dormant-account-use-attempted',\n",
       " 'https://www.ibm.com/docs/en/warehouse-management/9.5.0?topic=components-security',\n",
       " 'https://www.ibm.com/docs/en/dtl/2.11.0?topic=settings-security',\n",
       " 'https://www.ibm.com/docs/en/cloud-paks/cp-management/2.3.x?topic=started-personas-use-cases',\n",
       " 'https://www.ibm.com/docs/en/aix/7.3?topic=expert-aix-security-medium-level-security-scenario']"
      ]
     },
     "execution_count": 16,
     "metadata": {},
     "output_type": "execute_result"
    }
   ],
   "execution_count": 16
  },
  {
   "metadata": {},
   "cell_type": "code",
   "outputs": [],
   "execution_count": null,
   "source": "",
   "id": "c81ea72c674f5ac1"
  }
 ],
 "metadata": {
  "kernelspec": {
   "display_name": "Python 3",
   "language": "python",
   "name": "python3"
  },
  "language_info": {
   "codemirror_mode": {
    "name": "ipython",
    "version": 2
   },
   "file_extension": ".py",
   "mimetype": "text/x-python",
   "name": "python",
   "nbconvert_exporter": "python",
   "pygments_lexer": "ipython2",
   "version": "2.7.6"
  }
 },
 "nbformat": 4,
 "nbformat_minor": 5
}
