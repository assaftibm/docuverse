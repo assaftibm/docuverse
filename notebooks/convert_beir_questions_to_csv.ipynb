{
 "cells": [
  {
   "cell_type": "code",
   "id": "f97f9b26bab08e13",
   "metadata": {
    "ExecuteTime": {
     "end_time": "2024-10-23T22:50:22.900949Z",
     "start_time": "2024-10-23T22:50:22.898488Z"
    }
   },
   "source": [
    "from datasets.load import dataset_module_factory\n",
    "\n",
    "from docuverse.utils import open_stream\n",
    "import os\n",
    "import json\n",
    "import pandas as pd\n",
    "import random\n",
    "from docuverse.utils import get_param\n",
    "from tqdm._tqdm_notebook import tqdm\n",
    "import csv\n"
   ],
   "outputs": [],
   "execution_count": 155
  },
  {
   "metadata": {
    "ExecuteTime": {
     "end_time": "2024-10-23T22:44:11.144658Z",
     "start_time": "2024-10-23T22:44:11.140788Z"
    }
   },
   "cell_type": "code",
   "source": [
    "datadir=\"../benchmark/ibm_search\"\n",
    "query_file=os.path.join(datadir,\"queries.jsonl\")\n",
    "dev_file=os.path.join(datadir,\"qrels/dev.tsv\")\n",
    "corpus=os.path.join(datadir, \"corpus.jsonl.bz2\")"
   ],
   "id": "32790fcbd2312365",
   "outputs": [],
   "execution_count": 153
  },
  {
   "metadata": {
    "ExecuteTime": {
     "end_time": "2024-10-23T23:29:18.304081Z",
     "start_time": "2024-10-23T23:29:18.295467Z"
    }
   },
   "cell_type": "code",
   "source": [
    "queries=pd.read_json(open(query_file), lines=True)\n",
    "qtext2id = {}\n",
    "for i, q in enumerate(queries['_id']):\n",
    "    s = queries['text'][i].replace(\"\\\\\\\\n\", \" \").replace(\"\\\\n\", \" \").replace(\"\\n\", \" \")\n",
    "    \n",
    "    qtext2id[s] = q\n",
    "dev=pd.read_csv(dev_file, delimiter=\"\\t\")"
   ],
   "id": "a439d161d9ff06a0",
   "outputs": [],
   "execution_count": 189
  },
  {
   "metadata": {
    "ExecuteTime": {
     "end_time": "2024-10-23T23:17:12.777292Z",
     "start_time": "2024-10-23T23:17:12.773020Z"
    }
   },
   "cell_type": "code",
   "source": "qtext2id[\"i want to register myself for ibm service link to check the ptf's and apars\"]",
   "id": "2e0e6bac9cacb66b",
   "outputs": [
    {
     "data": {
      "text/plain": [
       "'test95'"
      ]
     },
     "execution_count": 174,
     "metadata": {},
     "output_type": "execute_result"
    }
   ],
   "execution_count": 174
  },
  {
   "metadata": {
    "ExecuteTime": {
     "end_time": "2024-10-23T22:57:46.416620Z",
     "start_time": "2024-10-23T22:55:42.215992Z"
    }
   },
   "cell_type": "code",
   "outputs": [
    {
     "data": {
      "text/plain": [
       "  0%|          | 0/1710114 [00:00<?, ?it/s]"
      ],
      "application/vnd.jupyter.widget-view+json": {
       "version_major": 2,
       "version_minor": 0,
       "model_id": "26000c37fcae4947ba6dab5cf5807f6e"
      }
     },
     "metadata": {},
     "output_type": "display_data"
    }
   ],
   "execution_count": 157,
   "source": [
    "\n",
    "docs = []\n",
    "id2pos = {}\n",
    "url2id = {}\n",
    "def read_id2url(file):\n",
    "    vals = {}\n",
    "    with open_stream(file) as inp:\n",
    "        for i, line in tqdm(enumerate(inp), total=1710114):\n",
    "            d = json.loads(line)\n",
    "            d['_id'] = d['_id'].split(\"-\")[0]\n",
    "            id2pos[int(d['_id'])] = i\n",
    "            url2id[get_param(d, \"metadata.url\")] = int(d['_id'])\n",
    "            docs.append(d)\n",
    "            vals[i] = {'url': d['metadata']['url'], 'dcc': d['metadata']['dcc']}\n",
    "            \n",
    "    return vals\n",
    "\n",
    "vals = read_id2url(corpus)"
   ],
   "id": "a6c9989db83ae018"
  },
  {
   "metadata": {
    "collapsed": true,
    "ExecuteTime": {
     "end_time": "2024-10-23T23:05:37.013088Z",
     "start_time": "2024-10-23T23:05:37.003299Z"
    }
   },
   "cell_type": "code",
   "source": [
    "test_documents = []\n",
    "with open(os.path.join(datadir, \"dev.csv\")) as inp:\n",
    "    r = csv.reader(inp, delimiter=\",\")\n",
    "    for line in r:\n",
    "        if line[0]=='query':\n",
    "            continue\n",
    "        urls = line[1].split(\",\")\n",
    "        for url in urls:\n",
    "            if url not in url2id:\n",
    "                print(f\"The url {url} is not in the corpus!\")\n",
    "            upos = url2id[url]\n",
    "            if upos not in test_documents:\n",
    "                test_documents.append(upos)"
   ],
   "id": "initial_id",
   "outputs": [],
   "execution_count": 165
  },
  {
   "metadata": {
    "ExecuteTime": {
     "end_time": "2024-10-23T23:08:16.146643Z",
     "start_time": "2024-10-23T23:08:15.745681Z"
    }
   },
   "cell_type": "code",
   "source": [
    "with open(os.path.join(datadir, \"dev.urls\")) as inp:\n",
    "    for line in inp:\n",
    "        url = line.strip()[1:-1]\n",
    "        if url not in url2id:\n",
    "            print(f\"The url {url} is not in the corpus!\")\n",
    "        upos = url2id[url]\n",
    "        if upos not in test_documents:\n",
    "            test_documents.append(upos)"
   ],
   "id": "c311d27af489d4fb",
   "outputs": [],
   "execution_count": 169
  },
  {
   "metadata": {
    "ExecuteTime": {
     "end_time": "2024-10-23T23:29:33.314103Z",
     "start_time": "2024-10-23T23:29:33.306990Z"
    }
   },
   "cell_type": "code",
   "source": [
    "with open(os.path.join(datadir, \"qrels/dev.fixed.csv\"), \"w\") as out, open(os.path.join(datadir, \"dev.csv\")) as inp:\n",
    "    w = csv.writer(out, delimiter=\"\\t\")\n",
    "    w.writerow([\"query-id\", \"corpus-id\", \"score\"])\n",
    "    r = csv.reader(inp, delimiter=\",\")\n",
    "    for line in r:\n",
    "        if line[0]=='query':\n",
    "            continue\n",
    "        urls = line[1].split(\",\")\n",
    "        line[0] = line[0].replace(\"\\\\n\", \" \")\n",
    "        if line[0] not in qtext2id:\n",
    "            print(f\"The query \\\"{line[0]}\\\" is not in the query file!\")\n",
    "        else:\n",
    "            qid = qtext2id[line[0]]\n",
    "            for url in urls:\n",
    "                if url not in url2id:\n",
    "                    print(f\"The url {url} is not in the corpus!\")\n",
    "                upos = url2id[url]\n",
    "                w.writerow([qid, upos, 1])\n",
    "                # print([qid, upos, 1])"
   ],
   "id": "9d16ef3df70c54c9",
   "outputs": [],
   "execution_count": 191
  },
  {
   "metadata": {
    "ExecuteTime": {
     "end_time": "2024-10-23T20:17:17.945485Z",
     "start_time": "2024-10-23T20:17:17.943252Z"
    }
   },
   "cell_type": "code",
   "source": "id2query = {q: i for i, q in enumerate(queries['_id'])}",
   "id": "e911360c2d047c7b",
   "outputs": [],
   "execution_count": 131
  },
  {
   "metadata": {
    "ExecuteTime": {
     "end_time": "2024-10-23T23:27:46.389219Z",
     "start_time": "2024-10-23T23:27:46.384816Z"
    }
   },
   "cell_type": "code",
   "source": "[(k,v) for k, v in qtext2id.items() if k.find(\"this system is currently in a hyperswap topology\")>=0]",
   "id": "8b1ba2db169748c9",
   "outputs": [
    {
     "data": {
      "text/plain": [
       "[(\"this system is currently in a hyperswap topology.  we need to move one iogrp (982) to a new data center.  i requested a procedure to complete the conversion from hs to standard.  below is the procedure i was given.   i need to confirm step 2.  should this be completed last  will steps 3, 4, 5 be impacted by the topology change  please confirm.  thank you!\\\\n\\\\n### from previous case opened a few months ago ###\\\\n\\\\nhere's the procedure for de-configuring hyperswap\\\\n\\\\nthis process is non-disruptive, as long as hosts and san are properly configured to allow access to vdisks at the site with the surviving volume copy.\\\\n\\\\nthe general procedure is as follows:\\\\n\\\\n 1. delete all active-active rcrelationships. do this by running 'rmvolumecopy -site x -removefcmaps <volume_name>', where x is the site whose copy you want to discard. this will automatically delete the active-active rcrelationship and change\\\\nvolumes.\\\\n\\\\ndo not use rmrcrelationship, as this will not change the host mappings so that the host is accessing the volume copy at the site you want to use.\\\\n\\\\n 2. change the system topology: chsystem -topology standard\\\\n 3. remove site id for all hosts: chhost -site nosite <host id>\\\\n 4.  remove site id for all nodes: chnode -site nosite <node id>\\\\n 5.  remove site id for all controllers: chcontroller -site nosite <controller id>\",\n",
       "  'test199')]"
      ]
     },
     "execution_count": 188,
     "metadata": {},
     "output_type": "execute_result"
    }
   ],
   "execution_count": 188
  },
  {
   "metadata": {
    "ExecuteTime": {
     "end_time": "2024-10-23T23:24:35.982380Z",
     "start_time": "2024-10-23T23:24:35.967002Z"
    }
   },
   "cell_type": "code",
   "source": "qtext2id['how do i upgrade \\\\nfrom one storage scale version to another']",
   "id": "624e2121ffa24653",
   "outputs": [
    {
     "ename": "KeyError",
     "evalue": "'how do i upgrade \\\\nfrom one storage scale version to another'",
     "output_type": "error",
     "traceback": [
      "\u001B[0;31m---------------------------------------------------------------------------\u001B[0m",
      "\u001B[0;31mKeyError\u001B[0m                                  Traceback (most recent call last)",
      "Cell \u001B[0;32mIn[182], line 1\u001B[0m\n\u001B[0;32m----> 1\u001B[0m \u001B[43mqtext2id\u001B[49m\u001B[43m[\u001B[49m\u001B[38;5;124;43m'\u001B[39;49m\u001B[38;5;124;43mhow do i upgrade \u001B[39;49m\u001B[38;5;130;43;01m\\\\\u001B[39;49;00m\u001B[38;5;124;43mnfrom one storage scale version to another\u001B[39;49m\u001B[38;5;124;43m'\u001B[39;49m\u001B[43m]\u001B[49m\n",
      "\u001B[0;31mKeyError\u001B[0m: 'how do i upgrade \\\\nfrom one storage scale version to another'"
     ]
    }
   ],
   "execution_count": 182
  },
  {
   "metadata": {
    "ExecuteTime": {
     "end_time": "2024-10-23T20:17:39.094712Z",
     "start_time": "2024-10-23T20:17:39.091055Z"
    }
   },
   "cell_type": "code",
   "outputs": [
    {
     "data": {
      "text/plain": [
       "98"
      ]
     },
     "execution_count": 132,
     "metadata": {},
     "output_type": "execute_result"
    }
   ],
   "execution_count": 132,
   "source": [
    "test_documents = []\n",
    "for i, q in enumerate(dev['query-id']):\n",
    "    if dev['corpus-id'][i] not in test_documents:\n",
    "        test_documents.append(dev['corpus-id'][i])"
   ],
   "id": "4f7e1f587cfaf3e7"
  },
  {
   "metadata": {
    "ExecuteTime": {
     "end_time": "2024-10-23T23:08:40.630646Z",
     "start_time": "2024-10-23T23:08:40.156850Z"
    }
   },
   "cell_type": "code",
   "source": [
    "\n",
    "print(f\"There are {len(test_documents)} test documents.\")\n",
    "while True:\n",
    "    j = random.randint(0, len(vals)-1)\n",
    "    j_id = int(docs[j]['_id'])\n",
    "    if j_id in test_documents:\n",
    "        continue\n",
    "    test_documents.append(j_id)\n",
    "    if len(test_documents) == 10000:\n",
    "        break\n",
    "print(f\"There are {len(test_documents)} selected documents.\")\n",
    "\n",
    "docmap = {}\n",
    "with open(os.path.join(datadir, \"corpus.10k.dev.jsonl\"), \"w\") as out:\n",
    "    for j, i in enumerate(test_documents): # enumerate(sorted(test_documents)):\n",
    "        print(json.dumps(docs[id2pos[i]]), file=out)\n"
   ],
   "id": "f853040e50213364",
   "outputs": [
    {
     "name": "stdout",
     "output_type": "stream",
     "text": [
      "There are 9734 test documents.\n",
      "There are 10000 selected documents.\n"
     ]
    }
   ],
   "execution_count": 171
  },
  {
   "metadata": {
    "ExecuteTime": {
     "end_time": "2024-10-23T20:43:52.952686Z",
     "start_time": "2024-10-23T20:43:52.948949Z"
    }
   },
   "cell_type": "code",
   "source": "docs[1502628]",
   "id": "ee9859ceae4fe3a3",
   "outputs": [
    {
     "data": {
      "text/plain": [
       "{'title': 'Spectrum Virtualize Remote Support IP addresses are changing',\n",
       " '_id': '1502629',\n",
       " 'text': 'News Abstract The Remote Support feature that allows IBM to remotely connect to Spectrum Virtualize products requires the device to initiate a connection back to IBM on a set of fixed IP addresses. The IP addresses used for this feature are changing in 2022. Important Update: The deadline for making this update is now earlier than previously announced. More details in the content section. Clients that use Remote Support need to update their product and any firewall, HTTP proxies, or Remote Support proxies to continue to use Remote Support without interruption. A number of other IBM Storage products are also affected by this change. Links to details about the other products are included at the end of the document. Content To continue to allow IBM to provide remote support for your Spectrum Virtualize system, you need to make some changes to your environment before the end of December 2022. Update: Due to an unexpected infrastructure change there will only be a single, non-redundant, remote support server available to support clients between 1 November 2022 and 31 December 2022.\\xa0 Clients are advised to update their environments to use the new servers before the end of October. There are also changes to Fix Central IP addresses that require changes before the next Remote Code Upgrade is scheduled. The new remote support IP addresses are active and ready to use.\\xa0 For security reasons they do not respond to ping requests. Spectrum Virtualize Configuration The Spectrum Virtualize configuration must be updated to add the new IP addresses. The simplest way to achieve this change is to download and run the software upgrade test utility v36.0 or higher, which updates the configuration automatically.\\xa0 Alternatively, use the mksystemsupportcenter -proxy no -ip X.X.X.X -port 22\\xa0 command to add the additional IP addresses manually. The list of currently configured remote support servers can be validated by using the lssystemsupportcenter command. Note:\\xa0 It is not possible to delete the default system support center servers (id 0 and 1). Remote Support Proxy IBM provides an optional product known as a Remote Support proxy that can be installed in your environment.\\xa0 This proxy coalesces the remote support traffic for multiple storage devices into a single server and tunnels the traffic through an HTTPS connection. Any Remote Support Proxy installations must be upgraded to v1.3.2.2 or higher Note:\\xa0 The Remote Support proxy was deprecated in Spectrum Virtualize 8.4.2 and higher.\\xa0 The newer releases of software can use an industry standard HTTP proxy instead of the Remote Support proxy. Firewall Configuration Any firewall holes that were created to allow connections to the current IP addresses must be updated with the new IP addresses. Source Target Port Protocol Direction Existing Remote Support Servers These firewall holes can be removed once new servers are configured and running The service IP address of every node or node canister 129.33.206.139 204.146.30.139 22 ssh Outbound only New Remote Support Servers The service IP address of every node or node canister 170.225.126.11 170.225.126.12 170.225.127.11 170.225.127.12 22 ssh Outbound only Note - Port 22 is used for direct connections, but any traffic routed through either an HTTP proxy or the dedicated remote support proxy use port 443 HTTP Proxy Configuration Any HTTP proxies that are used for Remote Support connections might need to update configurations to allow connections to the new IP addresses. IP address details The current IP addresses used for remote support are: 129.33.206.139 204.146.30.139 The new IP addresses for remote support are: 170.225.126.11 - xrsc-front-srv-1.southdata.ibm.com 170.225.126.12 - xrsc-front-srv-2.southdata.ibm.com 170.225.127.11 - xrsc-front-srv-3.eastdata.ibm.com 170.225.127.12 - xrsc-front-srv-4.eastdata.ibm.com Fix Central Code Download - Firewall Configuration IBM Announced in https://www.ibm.com/support/pages/node/6573219 that there would be a number of changes to some central support infrastructure.\\xa0 The only impact of this announcement for Spectrum Virtualize customers is related to downloading code directly from Fix Central as part of the Remote Code Load process. Systems running V8.4.1 or earlier that have configured their systems to use Remote Code Load might also need to update their firewall rules because the IP addresses of delivery04.dhe.ibm.com are changing. The only change required is to update firewall rules to permit connections to the replacement IP addresses Direct connection to Fix Central on port 22 was deprecated in V8.4.2.\\xa0 Systems running V8.4.2 or higher download code via esupport.ibm.com on port 443. The Fix Central DNS names were updated to point to the new IP addresses on 4 June 2022.\\xa0 Spectrum Virtualize devices use DNS to connect to Fix Central, therefore all connections will automatically be connecting to the new IP addresses. Source Target Port Protocol Direction Existing Fix Central IP addresses These IP addresses are no longer usable, so the firewall holes should be removed. The service IP address of every node or node canister 170.225.15.105 170.225.15.104 170.225.15.107 129.35.224.105 129.35.224.104 129.35.224.107 22 sftp Outbound only New Fix Central IP addresses The service IP address of every node or node canister 170.225.126.44 22 sftp Outbound only Additional IBM Support IP address changes that do not affect Spectrum Virtualize products. The following notification was sent out relating to additional IP address changes.\\xa0 These changes do not affect Spectrum Virtualize products https://www.ibm.com/support/pages/node/6587781 Other IBM Storage products that are also affected by this change The following products make use of the same infrastructure for providing remote dial-in capabilities and will be notifying their customers about any changes that might be required soon. This page will be updated with links to related documentation when it is available. TS7700 and TS4500 IBM XIV Gen2, IBM XIV Gen3, and IBM FlashSystem A9000/R systems DS8000: Most DS8000 systems are not affected.\\xa0 The DS8000 team will contact affected customers directly IBM FlashSystem 900 Cross-reference information Product Component Platform Version Edition IBM FlashSystem 7x00 A-Misc Platform Independent All Versions IBM FlashSystem 5000 A-Misc Platform Independent All Versions IBM Storwize V5000 A-Misc Platform Independent All Versions IBM Storwize V5000E A-Misc Platform Independent All Versions IBM FlashSystem 5x00 A-Misc Platform Independent All Versions SAN Volume Controller A-Misc Platform Independent All Versions IBM FlashSystem 9x00 A-Misc Platform Independent All Versions IBM FlashSystem 7x00 A-Misc Platform Independent IBM Storwize V7000 Flash Systems->Storwize->A-V7000 Platform Independent All Versions 6556434 6556434 The Remote Support feature that allows IBM to remotely connect to Spectrum Virtualize products requires the device to initiate a connection back to IBM on a set of fixed IP addresses. The IP addresses used for this feature are changing in 2022. Important Update: The deadline for making this update is now earlier than previously announced. More details in the content section. Clients that use Remote Support need to update their product and any firewall, HTTP proxies, or Remote Support proxies to conti ibm16556434 More support for: IBM FlashSystem 9x00 Arm Category: [\"a8m0z000000bqQKAAY\",\"a8m0z000000bqQoAAI\"] Component: [\"A-Misc\",\"\"] Software version: [\"All Versions\"] Operating system(s): [\"Platform Independent\"] Document number: 6556434',\n",
       " 'metadata': {'url': 'https://www.ibm.com/support/pages/node/6556434',\n",
       "  'description': 'The Remote Support feature that allows IBM to remotely connect to Spectrum Virtualize products requires the device to initiate a connection back to IBM on a set of fixed IP addresses. The IP addresses used for this feature are changing in 2022.\\r\\n\\r\\nImportant Update: The deadline for making this update is now earlier than previously announced. More details in the content section.\\r\\n\\r\\nClients that use Remote Support need to update their product and any firewall,  HTTP proxies, or Remote Support proxies to conti',\n",
       "  'dcc': ['SMTSLR9',\n",
       "   'STSLR9',\n",
       "   'SSA76Z4',\n",
       "   'ST3FR9',\n",
       "   'STHGUJ',\n",
       "   'STHGUL',\n",
       "   'STPVGU',\n",
       "   'HW206',\n",
       "   'HW200',\n",
       "   'HW000',\n",
       "   'HW29F',\n",
       "   'HW291',\n",
       "   'SIS0A52',\n",
       "   'SIS0ACG',\n",
       "   '4663A01',\n",
       "   '4663B01',\n",
       "   '4663A03',\n",
       "   '4663B04',\n",
       "   '4663B02',\n",
       "   '4663B05',\n",
       "   '4663A04',\n",
       "   '4663A02',\n",
       "   '4663A05',\n",
       "   '4663B03',\n",
       "   '5621IBC',\n",
       "   'SIS0AA9',\n",
       "   'SIS0AC8',\n",
       "   'SIS0AA5',\n",
       "   'SIS0AA6',\n",
       "   'SIS0A35'],\n",
       "  'chunk_num': 1}}"
      ]
     },
     "execution_count": 150,
     "metadata": {},
     "output_type": "execute_result"
    }
   ],
   "execution_count": 150
  },
  {
   "metadata": {
    "ExecuteTime": {
     "end_time": "2024-10-22T22:22:51.069555Z",
     "start_time": "2024-10-22T22:22:50.970483Z"
    }
   },
   "cell_type": "code",
   "source": [
    "# with open(os.path.join(datadir, \"qrels/dev.small.tsv\"), \"w\") as out:\n",
    "for i, _ in enumerate(dev['query-id']):\n",
    "    did = dev['corpus-id'][i]\n",
    "    # dev['corpus-id'][i] = docmap[did]\n",
    "    dev.loc[i, 'corpus-id'] = docmap[did]\n"
   ],
   "id": "8554b673df16eefc",
   "outputs": [],
   "execution_count": 115
  },
  {
   "metadata": {
    "ExecuteTime": {
     "end_time": "2024-10-22T22:22:51.847097Z",
     "start_time": "2024-10-22T22:22:51.843343Z"
    }
   },
   "cell_type": "code",
   "source": "dev.to_csv(os.path.join(datadir, \"qrels/dev.small.tsv\"), header=['query-id', 'corpus-id', 'score'], sep=\"\\t\", index=False)",
   "id": "8b086f6bd086fe9",
   "outputs": [],
   "execution_count": 116
  },
  {
   "metadata": {
    "ExecuteTime": {
     "end_time": "2024-10-22T22:05:05.777349Z",
     "start_time": "2024-10-22T22:05:05.774248Z"
    }
   },
   "cell_type": "code",
   "source": "dev.keys()",
   "id": "2d565f47822906d7",
   "outputs": [
    {
     "data": {
      "text/plain": [
       "Index(['query-id', 'corpus-id', 'score'], dtype='object')"
      ]
     },
     "execution_count": 112,
     "metadata": {},
     "output_type": "execute_result"
    }
   ],
   "execution_count": 112
  }
 ],
 "metadata": {
  "kernelspec": {
   "display_name": "Python 3",
   "language": "python",
   "name": "python3"
  },
  "language_info": {
   "codemirror_mode": {
    "name": "ipython",
    "version": 2
   },
   "file_extension": ".py",
   "mimetype": "text/x-python",
   "name": "python",
   "nbconvert_exporter": "python",
   "pygments_lexer": "ipython2",
   "version": "2.7.6"
  }
 },
 "nbformat": 4,
 "nbformat_minor": 5
}
