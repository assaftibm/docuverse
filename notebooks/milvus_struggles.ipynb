{
 "cells": [
  {
   "cell_type": "code",
   "id": "43ffdb9d853efc3d",
   "metadata": {
    "ExecuteTime": {
     "end_time": "2024-09-29T19:33:39.624884Z",
     "start_time": "2024-09-29T19:33:39.609239Z"
    }
   },
   "source": [
    "import pickle\n",
    "from docuverse.utils import open_stream\n",
    "cache_file=\"/home/raduf/.local/share/elastic_ingestion/benchmark__beir_dev__quora____en__corpus.small.jsonl_512_100_True_all_gte-small.pickle.xz\"\n",
    "import json\n",
    "data=pickle.load(open_stream(cache_file))\n",
    "questions = [\n",
    "    \"How can I get free gems in Clash of Clans?\",\n",
    "    \"How can I get free gems Clash of Clans?\",\n",
    "    \"How do you feel when someone upvotes your answer on Quora?\",\n",
    "    \"What are the best thriller movie in Hollywood?\",\n",
    "    \"What should someone do to overcome anxiety?\"\n",
    "]"
   ],
   "outputs": [],
   "execution_count": 15
  },
  {
   "metadata": {
    "ExecuteTime": {
     "end_time": "2024-09-29T18:57:35.654919Z",
     "start_time": "2024-09-29T18:57:35.287914Z"
    }
   },
   "cell_type": "code",
   "source": [
    "MODEL = (\"/home/raduf/sandbox2/docuverse/models/slate.30m.english.rtrvr-20240719T181101\")\n",
    "data_list = []\n",
    "from docuverse.utils.embeddings.dense_embedding_function import DenseEmbeddingFunction\n",
    "model = DenseEmbeddingFunction(MODEL)"
   ],
   "id": "f45fd3d0ac36f2ca",
   "outputs": [
    {
     "name": "stdout",
     "output_type": "stream",
     "text": [
      "=== done initializing model\n"
     ]
    }
   ],
   "execution_count": 4
  },
  {
   "metadata": {
    "ExecuteTime": {
     "end_time": "2024-09-29T18:58:12.753165Z",
     "start_time": "2024-09-29T18:58:10.601299Z"
    }
   },
   "cell_type": "code",
   "source": [
    "embeddings = model.encode([d['text'] for d in data], show_progress_bar=True)\n",
    "keys_to_keep = {\"text\"}\n",
    "data_list = [{**{k:v for k, v in d.items() if k in keys_to_keep}, '_id': d['id'], 'qembedding':embeddings[i]} for i,d in enumerate(data)]"
   ],
   "id": "eb6bc3fb8f32a6e4",
   "outputs": [
    {
     "data": {
      "text/plain": [
       "Batches:   0%|          | 0/301 [00:00<?, ?it/s]"
      ],
      "application/vnd.jupyter.widget-view+json": {
       "version_major": 2,
       "version_minor": 0,
       "model_id": "42cb99cad102437caeccd87a90f8351a"
      }
     },
     "metadata": {},
     "output_type": "display_data"
    }
   ],
   "execution_count": 5
  },
  {
   "metadata": {
    "ExecuteTime": {
     "end_time": "2024-09-29T18:58:58.558692Z",
     "start_time": "2024-09-29T18:58:58.555907Z"
    }
   },
   "cell_type": "code",
   "source": "data_list[0].keys()",
   "id": "9bf478efc4431868",
   "outputs": [
    {
     "data": {
      "text/plain": [
       "dict_keys(['text', '_id', 'qembedding'])"
      ]
     },
     "execution_count": 7,
     "metadata": {},
     "output_type": "execute_result"
    }
   ],
   "execution_count": 7
  },
  {
   "metadata": {
    "collapsed": true,
    "ExecuteTime": {
     "end_time": "2024-09-29T19:48:22.925103Z",
     "start_time": "2024-09-29T19:48:22.915022Z"
    }
   },
   "cell_type": "code",
   "source": [
    "\n",
    "from pymilvus import (\n",
    "    MilvusClient,\n",
    "    DataType\n",
    ")\n",
    "\n",
    "def test_search(vectors, vector_for_query=None, metric=\"IP\"):\n",
    "    truncate_dim = 384\n",
    "    collection_name = \"test\"\n",
    "    vector_field_name = \"qembedding\"\n",
    "\n",
    "    client = MilvusClient(\"test.db\")\n",
    "    schema = client.create_schema(auto_id=True, enable_dynamic_field=True, primary_field=\"id\")\n",
    "\n",
    "    schema.add_field(field_name=\"id\", datatype=DataType.INT64, is_primary=True)\n",
    "    schema.add_field(field_name=\"text\", datatype=DataType.VARCHAR, max_length=50000)\n",
    "    schema.add_field(field_name=\"_id\", datatype=DataType.VARCHAR, max_length=50000)\n",
    "    schema.add_field(field_name=vector_field_name, datatype=DataType.FLOAT_VECTOR, dim=truncate_dim)\n",
    "\n",
    "    index_params = client.prepare_index_params()\n",
    "    index_params.add_index(\n",
    "        field_name=vector_field_name,\n",
    "        index_type=\"FLAT\",\n",
    "        metric_type=metric,\n",
    "        params={\"nlist\": 1024}\n",
    "    )\n",
    "\n",
    "    if client.has_collection(collection_name=collection_name):\n",
    "        client.drop_collection(collection_name=collection_name)\n",
    "    client.create_collection(\n",
    "        collection_name=collection_name, schema=schema, index_params=index_params\n",
    "    )\n",
    "    if vector_for_query is None:\n",
    "        entities = vectors\n",
    "        test = vectors[0:3]\n",
    "    else:\n",
    "        entities = vectors\n",
    "        if isinstance(vector_for_query, list) and isinstance(vector_for_query[0], dict):\n",
    "            test = vector_for_query\n",
    "        else:\n",
    "            test = [{vector_field_name: e} for e in vector_for_query]\n",
    "    print(test[0].keys())\n",
    "    insert_result = client.insert(collection_name=collection_name, data=entities)\n",
    "    # print(insert_result)\n",
    "    return client.search(\n",
    "        collection_name=collection_name,\n",
    "        # data=[t[vector_field_name] for t in test],\n",
    "        data=test,\n",
    "        search_params={\"metric_type\": metric, \"params\": {\"nprobe\": 10}},\n",
    "        anns_field=vector_field_name,\n",
    "        limit=10,\n",
    "        output_fields=[\"text\", \"_id\"],\n",
    "    )\n",
    "\n",
    "def test_search1(vectors, vector_for_query=None, metric=\"IP\"):\n",
    "    truncate_dim = 4\n",
    "    collection_name = \"test\"\n",
    "    vector_field_name = \"qembedding\"\n",
    "\n",
    "    client = MilvusClient(\"test.db\")\n",
    "    schema = client.create_schema(auto_id=True, enable_dynamic_field=True, primary_field=\"id\")\n",
    "\n",
    "    schema.add_field(field_name=\"id\", datatype=DataType.INT64, is_primary=True)\n",
    "    schema.add_field(field_name=\"text\", datatype=DataType.VARCHAR, max_length=50000)\n",
    "    schema.add_field(field_name=\"_id\", datatype=DataType.VARCHAR, max_length=50000)\n",
    "    schema.add_field(field_name=vector_field_name, datatype=DataType.FLOAT_VECTOR, dim=truncate_dim)\n",
    "\n",
    "    index_params = client.prepare_index_params()\n",
    "    index_params.add_index(\n",
    "        field_name=vector_field_name,\n",
    "        index_type=\"FLAT\",\n",
    "        metric_type=metric,\n",
    "        params={\"nlist\": 1024}\n",
    "    )\n",
    "\n",
    "    if client.has_collection(collection_name=collection_name):\n",
    "        client.drop_collection(collection_name=collection_name)\n",
    "    client.create_collection(\n",
    "        collection_name=collection_name, schema=schema, index_params=index_params\n",
    "    )\n",
    "    if vector_for_query is None:\n",
    "        entities = vectors[:-2]\n",
    "        test = vectors[-2:]\n",
    "    else:\n",
    "        entities = vectors\n",
    "        test = vector_for_query\n",
    "    # entities = [\n",
    "    #     {\"source\": \"hello\", vector_field_name: vector_for_db}\n",
    "    # ]\n",
    "    insert_result = client.insert(collection_name=collection_name, data=entities)\n",
    "    print(insert_result)\n",
    "    return client.search(\n",
    "        collection_name=collection_name,\n",
    "        data=test,\n",
    "        search_params={\"metric_type\": metric, \"params\": {\"nprobe\": 10}},\n",
    "        anns_field=vector_field_name,\n",
    "        limit=10,\n",
    "        output_fields=[\"source\"],\n",
    "    )\n"
   ],
   "id": "initial_id",
   "outputs": [],
   "execution_count": 32
  },
  {
   "metadata": {
    "ExecuteTime": {
     "end_time": "2024-09-29T19:47:04.966134Z",
     "start_time": "2024-09-29T19:47:03.932329Z"
    }
   },
   "cell_type": "code",
   "outputs": [
    {
     "name": "stderr",
     "output_type": "stream",
     "text": [
      "RPC error: [search], <ParamError: (code=1, message=`search_data` value [{'qembedding': \"I was suddenly logged off Gmail. I can't remember my Gmail password and just realized the recovery email is no longer alive. What can I do?\"}, {'qembedding': \"I can't remember my Gmail password or my recovery email. How can I recover my e-mail?\"}, {'qembedding': 'What is a narcissistic personality disorder?'}, {'qembedding': 'What is narcissistic personality disorder?'}, {'qembedding': 'What is the greatest mystery of all time?'}, {'qembedding': 'What does the Quora website look like to members of Quora moderation?'}, {'qembedding': 'Is it possible to pursue many different things in life?'}, {'qembedding': 'No fanboys please, but who was the true batman, Christian Bale or Ben Affleck?'}, {'qembedding': 'What will be the impact of scrapping of ₹500 and ₹1000 rupee notes on the real estate market?'}, {'qembedding': 'What is the easiest way to become a billionaire($)?'}] is illegal)>, <Time:{'RPC start': '2024-09-29 15:47:04.481535', 'RPC error': '2024-09-29 15:47:04.481606'}>\n",
      "Failed to search collection: test\n"
     ]
    },
    {
     "ename": "ParamError",
     "evalue": "<ParamError: (code=1, message=`search_data` value [{'qembedding': \"I was suddenly logged off Gmail. I can't remember my Gmail password and just realized the recovery email is no longer alive. What can I do?\"}, {'qembedding': \"I can't remember my Gmail password or my recovery email. How can I recover my e-mail?\"}, {'qembedding': 'What is a narcissistic personality disorder?'}, {'qembedding': 'What is narcissistic personality disorder?'}, {'qembedding': 'What is the greatest mystery of all time?'}, {'qembedding': 'What does the Quora website look like to members of Quora moderation?'}, {'qembedding': 'Is it possible to pursue many different things in life?'}, {'qembedding': 'No fanboys please, but who was the true batman, Christian Bale or Ben Affleck?'}, {'qembedding': 'What will be the impact of scrapping of ₹500 and ₹1000 rupee notes on the real estate market?'}, {'qembedding': 'What is the easiest way to become a billionaire($)?'}] is illegal)>",
     "output_type": "error",
     "traceback": [
      "\u001B[0;31m---------------------------------------------------------------------------\u001B[0m",
      "\u001B[0;31mParamError\u001B[0m                                Traceback (most recent call last)",
      "    \u001B[0;31m[... skipping hidden 1 frame]\u001B[0m\n",
      "Cell \u001B[0;32mIn[30], line 2\u001B[0m\n\u001B[1;32m      1\u001B[0m questions\u001B[38;5;241m=\u001B[39m[d[\u001B[38;5;124m'\u001B[39m\u001B[38;5;124mtext\u001B[39m\u001B[38;5;124m'\u001B[39m] \u001B[38;5;28;01mfor\u001B[39;00m d \u001B[38;5;129;01min\u001B[39;00m data_list[\u001B[38;5;241m0\u001B[39m:\u001B[38;5;241m10\u001B[39m]]\n\u001B[0;32m----> 2\u001B[0m answers\u001B[38;5;241m=\u001B[39m\u001B[43mtest_search\u001B[49m\u001B[43m(\u001B[49m\u001B[43mdata_list\u001B[49m\u001B[43m[\u001B[49m\u001B[43m:\u001B[49m\u001B[38;5;241;43m20\u001B[39;49m\u001B[43m]\u001B[49m\u001B[43m,\u001B[49m\u001B[43m \u001B[49m\u001B[43mquestions\u001B[49m\u001B[43m)\u001B[49m\n",
      "Cell \u001B[0;32mIn[28], line 44\u001B[0m, in \u001B[0;36mtest_search\u001B[0;34m(vectors, vector_for_query, metric)\u001B[0m\n\u001B[1;32m     43\u001B[0m \u001B[38;5;66;03m# print(insert_result)\u001B[39;00m\n\u001B[0;32m---> 44\u001B[0m \u001B[38;5;28;01mreturn\u001B[39;00m \u001B[43mclient\u001B[49m\u001B[38;5;241;43m.\u001B[39;49m\u001B[43msearch\u001B[49m\u001B[43m(\u001B[49m\n\u001B[1;32m     45\u001B[0m \u001B[43m    \u001B[49m\u001B[43mcollection_name\u001B[49m\u001B[38;5;241;43m=\u001B[39;49m\u001B[43mcollection_name\u001B[49m\u001B[43m,\u001B[49m\n\u001B[1;32m     46\u001B[0m \u001B[43m    \u001B[49m\u001B[38;5;66;43;03m# data=[t[vector_field_name] for t in test],\u001B[39;49;00m\n\u001B[1;32m     47\u001B[0m \u001B[43m    \u001B[49m\u001B[43mdata\u001B[49m\u001B[38;5;241;43m=\u001B[39;49m\u001B[43mtest\u001B[49m\u001B[43m,\u001B[49m\n\u001B[1;32m     48\u001B[0m \u001B[43m    \u001B[49m\u001B[43msearch_params\u001B[49m\u001B[38;5;241;43m=\u001B[39;49m\u001B[43m{\u001B[49m\u001B[38;5;124;43m\"\u001B[39;49m\u001B[38;5;124;43mmetric_type\u001B[39;49m\u001B[38;5;124;43m\"\u001B[39;49m\u001B[43m:\u001B[49m\u001B[43m \u001B[49m\u001B[43mmetric\u001B[49m\u001B[43m,\u001B[49m\u001B[43m \u001B[49m\u001B[38;5;124;43m\"\u001B[39;49m\u001B[38;5;124;43mparams\u001B[39;49m\u001B[38;5;124;43m\"\u001B[39;49m\u001B[43m:\u001B[49m\u001B[43m \u001B[49m\u001B[43m{\u001B[49m\u001B[38;5;124;43m\"\u001B[39;49m\u001B[38;5;124;43mnprobe\u001B[39;49m\u001B[38;5;124;43m\"\u001B[39;49m\u001B[43m:\u001B[49m\u001B[43m \u001B[49m\u001B[38;5;241;43m10\u001B[39;49m\u001B[43m}\u001B[49m\u001B[43m}\u001B[49m\u001B[43m,\u001B[49m\n\u001B[1;32m     49\u001B[0m \u001B[43m    \u001B[49m\u001B[43manns_field\u001B[49m\u001B[38;5;241;43m=\u001B[39;49m\u001B[43mvector_field_name\u001B[49m\u001B[43m,\u001B[49m\n\u001B[1;32m     50\u001B[0m \u001B[43m    \u001B[49m\u001B[43mlimit\u001B[49m\u001B[38;5;241;43m=\u001B[39;49m\u001B[38;5;241;43m10\u001B[39;49m\u001B[43m,\u001B[49m\n\u001B[1;32m     51\u001B[0m \u001B[43m    \u001B[49m\u001B[43moutput_fields\u001B[49m\u001B[38;5;241;43m=\u001B[39;49m\u001B[43m[\u001B[49m\u001B[38;5;124;43m\"\u001B[39;49m\u001B[38;5;124;43mtext\u001B[39;49m\u001B[38;5;124;43m\"\u001B[39;49m\u001B[43m,\u001B[49m\u001B[43m \u001B[49m\u001B[38;5;124;43m\"\u001B[39;49m\u001B[38;5;124;43m_id\u001B[39;49m\u001B[38;5;124;43m\"\u001B[39;49m\u001B[43m]\u001B[49m\u001B[43m,\u001B[49m\n\u001B[1;32m     52\u001B[0m \u001B[43m\u001B[49m\u001B[43m)\u001B[49m\n",
      "File \u001B[0;32m~/miniforge3/envs/docuverse/lib/python3.10/site-packages/pymilvus/milvus_client/milvus_client.py:336\u001B[0m, in \u001B[0;36mMilvusClient.search\u001B[0;34m(self, collection_name, data, filter, limit, output_fields, search_params, timeout, partition_names, anns_field, **kwargs)\u001B[0m\n\u001B[1;32m    335\u001B[0m     logger\u001B[38;5;241m.\u001B[39merror(\u001B[38;5;124m\"\u001B[39m\u001B[38;5;124mFailed to search collection: \u001B[39m\u001B[38;5;132;01m%s\u001B[39;00m\u001B[38;5;124m\"\u001B[39m, collection_name)\n\u001B[0;32m--> 336\u001B[0m     \u001B[38;5;28;01mraise\u001B[39;00m ex \u001B[38;5;28;01mfrom\u001B[39;00m \u001B[38;5;21;01mex\u001B[39;00m\n\u001B[1;32m    338\u001B[0m ret \u001B[38;5;241m=\u001B[39m []\n",
      "File \u001B[0;32m~/miniforge3/envs/docuverse/lib/python3.10/site-packages/pymilvus/milvus_client/milvus_client.py:322\u001B[0m, in \u001B[0;36mMilvusClient.search\u001B[0;34m(self, collection_name, data, filter, limit, output_fields, search_params, timeout, partition_names, anns_field, **kwargs)\u001B[0m\n\u001B[1;32m    321\u001B[0m \u001B[38;5;28;01mtry\u001B[39;00m:\n\u001B[0;32m--> 322\u001B[0m     res \u001B[38;5;241m=\u001B[39m \u001B[43mconn\u001B[49m\u001B[38;5;241;43m.\u001B[39;49m\u001B[43msearch\u001B[49m\u001B[43m(\u001B[49m\n\u001B[1;32m    323\u001B[0m \u001B[43m        \u001B[49m\u001B[43mcollection_name\u001B[49m\u001B[43m,\u001B[49m\n\u001B[1;32m    324\u001B[0m \u001B[43m        \u001B[49m\u001B[43mdata\u001B[49m\u001B[43m,\u001B[49m\n\u001B[1;32m    325\u001B[0m \u001B[43m        \u001B[49m\u001B[43manns_field\u001B[49m\u001B[43m \u001B[49m\u001B[38;5;129;43;01mor\u001B[39;49;00m\u001B[43m \u001B[49m\u001B[38;5;124;43m\"\u001B[39;49m\u001B[38;5;124;43m\"\u001B[39;49m\u001B[43m,\u001B[49m\n\u001B[1;32m    326\u001B[0m \u001B[43m        \u001B[49m\u001B[43msearch_params\u001B[49m\u001B[43m \u001B[49m\u001B[38;5;129;43;01mor\u001B[39;49;00m\u001B[43m \u001B[49m\u001B[43m{\u001B[49m\u001B[43m}\u001B[49m\u001B[43m,\u001B[49m\n\u001B[1;32m    327\u001B[0m \u001B[43m        \u001B[49m\u001B[43mexpression\u001B[49m\u001B[38;5;241;43m=\u001B[39;49m\u001B[38;5;28;43mfilter\u001B[39;49m\u001B[43m,\u001B[49m\n\u001B[1;32m    328\u001B[0m \u001B[43m        \u001B[49m\u001B[43mlimit\u001B[49m\u001B[38;5;241;43m=\u001B[39;49m\u001B[43mlimit\u001B[49m\u001B[43m,\u001B[49m\n\u001B[1;32m    329\u001B[0m \u001B[43m        \u001B[49m\u001B[43moutput_fields\u001B[49m\u001B[38;5;241;43m=\u001B[39;49m\u001B[43moutput_fields\u001B[49m\u001B[43m,\u001B[49m\n\u001B[1;32m    330\u001B[0m \u001B[43m        \u001B[49m\u001B[43mpartition_names\u001B[49m\u001B[38;5;241;43m=\u001B[39;49m\u001B[43mpartition_names\u001B[49m\u001B[43m,\u001B[49m\n\u001B[1;32m    331\u001B[0m \u001B[43m        \u001B[49m\u001B[43mtimeout\u001B[49m\u001B[38;5;241;43m=\u001B[39;49m\u001B[43mtimeout\u001B[49m\u001B[43m,\u001B[49m\n\u001B[1;32m    332\u001B[0m \u001B[43m        \u001B[49m\u001B[38;5;241;43m*\u001B[39;49m\u001B[38;5;241;43m*\u001B[39;49m\u001B[43mkwargs\u001B[49m\u001B[43m,\u001B[49m\n\u001B[1;32m    333\u001B[0m \u001B[43m    \u001B[49m\u001B[43m)\u001B[49m\n\u001B[1;32m    334\u001B[0m \u001B[38;5;28;01mexcept\u001B[39;00m \u001B[38;5;167;01mException\u001B[39;00m \u001B[38;5;28;01mas\u001B[39;00m ex:\n",
      "File \u001B[0;32m~/miniforge3/envs/docuverse/lib/python3.10/site-packages/pymilvus/decorators.py:148\u001B[0m, in \u001B[0;36merror_handler.<locals>.wrapper.<locals>.handler\u001B[0;34m(*args, **kwargs)\u001B[0m\n\u001B[1;32m    147\u001B[0m     LOGGER\u001B[38;5;241m.\u001B[39merror(\u001B[38;5;124mf\u001B[39m\u001B[38;5;124m\"\u001B[39m\u001B[38;5;124mRPC error: [\u001B[39m\u001B[38;5;132;01m{\u001B[39;00minner_name\u001B[38;5;132;01m}\u001B[39;00m\u001B[38;5;124m], \u001B[39m\u001B[38;5;132;01m{\u001B[39;00me\u001B[38;5;132;01m}\u001B[39;00m\u001B[38;5;124m, <Time:\u001B[39m\u001B[38;5;132;01m{\u001B[39;00mrecord_dict\u001B[38;5;132;01m}\u001B[39;00m\u001B[38;5;124m>\u001B[39m\u001B[38;5;124m\"\u001B[39m)\n\u001B[0;32m--> 148\u001B[0m     \u001B[38;5;28;01mraise\u001B[39;00m e \u001B[38;5;28;01mfrom\u001B[39;00m \u001B[38;5;21;01me\u001B[39;00m\n\u001B[1;32m    149\u001B[0m \u001B[38;5;28;01mexcept\u001B[39;00m grpc\u001B[38;5;241m.\u001B[39mFutureTimeoutError \u001B[38;5;28;01mas\u001B[39;00m e:\n",
      "File \u001B[0;32m~/miniforge3/envs/docuverse/lib/python3.10/site-packages/pymilvus/decorators.py:144\u001B[0m, in \u001B[0;36merror_handler.<locals>.wrapper.<locals>.handler\u001B[0;34m(*args, **kwargs)\u001B[0m\n\u001B[1;32m    143\u001B[0m     record_dict[\u001B[38;5;124m\"\u001B[39m\u001B[38;5;124mRPC start\u001B[39m\u001B[38;5;124m\"\u001B[39m] \u001B[38;5;241m=\u001B[39m \u001B[38;5;28mstr\u001B[39m(datetime\u001B[38;5;241m.\u001B[39mdatetime\u001B[38;5;241m.\u001B[39mnow())\n\u001B[0;32m--> 144\u001B[0m     \u001B[38;5;28;01mreturn\u001B[39;00m \u001B[43mfunc\u001B[49m\u001B[43m(\u001B[49m\u001B[38;5;241;43m*\u001B[39;49m\u001B[43margs\u001B[49m\u001B[43m,\u001B[49m\u001B[43m \u001B[49m\u001B[38;5;241;43m*\u001B[39;49m\u001B[38;5;241;43m*\u001B[39;49m\u001B[43mkwargs\u001B[49m\u001B[43m)\u001B[49m\n\u001B[1;32m    145\u001B[0m \u001B[38;5;28;01mexcept\u001B[39;00m MilvusException \u001B[38;5;28;01mas\u001B[39;00m e:\n",
      "File \u001B[0;32m~/miniforge3/envs/docuverse/lib/python3.10/site-packages/pymilvus/decorators.py:183\u001B[0m, in \u001B[0;36mtracing_request.<locals>.wrapper.<locals>.handler\u001B[0;34m(self, *args, **kwargs)\u001B[0m\n\u001B[1;32m    182\u001B[0m     \u001B[38;5;28mself\u001B[39m\u001B[38;5;241m.\u001B[39mset_onetime_request_id(req_id)\n\u001B[0;32m--> 183\u001B[0m \u001B[38;5;28;01mreturn\u001B[39;00m \u001B[43mfunc\u001B[49m\u001B[43m(\u001B[49m\u001B[38;5;28;43mself\u001B[39;49m\u001B[43m,\u001B[49m\u001B[43m \u001B[49m\u001B[38;5;241;43m*\u001B[39;49m\u001B[43margs\u001B[49m\u001B[43m,\u001B[49m\u001B[43m \u001B[49m\u001B[38;5;241;43m*\u001B[39;49m\u001B[38;5;241;43m*\u001B[39;49m\u001B[43mkwargs\u001B[49m\u001B[43m)\u001B[49m\n",
      "File \u001B[0;32m~/miniforge3/envs/docuverse/lib/python3.10/site-packages/pymilvus/decorators.py:123\u001B[0m, in \u001B[0;36mretry_on_rpc_failure.<locals>.wrapper.<locals>.handler\u001B[0;34m(*args, **kwargs)\u001B[0m\n\u001B[1;32m    122\u001B[0m     \u001B[38;5;28;01melse\u001B[39;00m:\n\u001B[0;32m--> 123\u001B[0m         \u001B[38;5;28;01mraise\u001B[39;00m e \u001B[38;5;28;01mfrom\u001B[39;00m \u001B[38;5;21;01me\u001B[39;00m\n\u001B[1;32m    124\u001B[0m \u001B[38;5;28;01mexcept\u001B[39;00m \u001B[38;5;167;01mException\u001B[39;00m \u001B[38;5;28;01mas\u001B[39;00m e:\n",
      "File \u001B[0;32m~/miniforge3/envs/docuverse/lib/python3.10/site-packages/pymilvus/decorators.py:87\u001B[0m, in \u001B[0;36mretry_on_rpc_failure.<locals>.wrapper.<locals>.handler\u001B[0;34m(*args, **kwargs)\u001B[0m\n\u001B[1;32m     86\u001B[0m \u001B[38;5;28;01mtry\u001B[39;00m:\n\u001B[0;32m---> 87\u001B[0m     \u001B[38;5;28;01mreturn\u001B[39;00m \u001B[43mfunc\u001B[49m\u001B[43m(\u001B[49m\u001B[38;5;241;43m*\u001B[39;49m\u001B[43margs\u001B[49m\u001B[43m,\u001B[49m\u001B[43m \u001B[49m\u001B[38;5;241;43m*\u001B[39;49m\u001B[38;5;241;43m*\u001B[39;49m\u001B[43mkwargs\u001B[49m\u001B[43m)\u001B[49m\n\u001B[1;32m     88\u001B[0m \u001B[38;5;28;01mexcept\u001B[39;00m grpc\u001B[38;5;241m.\u001B[39mRpcError \u001B[38;5;28;01mas\u001B[39;00m e:\n\u001B[1;32m     89\u001B[0m     \u001B[38;5;66;03m# Do not retry on these codes\u001B[39;00m\n",
      "File \u001B[0;32m~/miniforge3/envs/docuverse/lib/python3.10/site-packages/pymilvus/client/grpc_handler.py:778\u001B[0m, in \u001B[0;36mGrpcHandler.search\u001B[0;34m(self, collection_name, data, anns_field, param, limit, expression, partition_names, output_fields, round_decimal, timeout, **kwargs)\u001B[0m\n\u001B[1;32m    763\u001B[0m \u001B[38;5;129m@retry_on_rpc_failure\u001B[39m(retry_on_inconsistent_requery\u001B[38;5;241m=\u001B[39m\u001B[38;5;28;01mTrue\u001B[39;00m)\n\u001B[1;32m    764\u001B[0m \u001B[38;5;28;01mdef\u001B[39;00m \u001B[38;5;21msearch\u001B[39m(\n\u001B[1;32m    765\u001B[0m     \u001B[38;5;28mself\u001B[39m,\n\u001B[0;32m   (...)\u001B[0m\n\u001B[1;32m    776\u001B[0m     \u001B[38;5;241m*\u001B[39m\u001B[38;5;241m*\u001B[39mkwargs,\n\u001B[1;32m    777\u001B[0m ):\n\u001B[0;32m--> 778\u001B[0m     \u001B[43mcheck_pass_param\u001B[49m\u001B[43m(\u001B[49m\n\u001B[1;32m    779\u001B[0m \u001B[43m        \u001B[49m\u001B[43mlimit\u001B[49m\u001B[38;5;241;43m=\u001B[39;49m\u001B[43mlimit\u001B[49m\u001B[43m,\u001B[49m\n\u001B[1;32m    780\u001B[0m \u001B[43m        \u001B[49m\u001B[43mround_decimal\u001B[49m\u001B[38;5;241;43m=\u001B[39;49m\u001B[43mround_decimal\u001B[49m\u001B[43m,\u001B[49m\n\u001B[1;32m    781\u001B[0m \u001B[43m        \u001B[49m\u001B[43manns_field\u001B[49m\u001B[38;5;241;43m=\u001B[39;49m\u001B[43manns_field\u001B[49m\u001B[43m,\u001B[49m\n\u001B[1;32m    782\u001B[0m \u001B[43m        \u001B[49m\u001B[43msearch_data\u001B[49m\u001B[38;5;241;43m=\u001B[39;49m\u001B[43mdata\u001B[49m\u001B[43m,\u001B[49m\n\u001B[1;32m    783\u001B[0m \u001B[43m        \u001B[49m\u001B[43mpartition_name_array\u001B[49m\u001B[38;5;241;43m=\u001B[39;49m\u001B[43mpartition_names\u001B[49m\u001B[43m,\u001B[49m\n\u001B[1;32m    784\u001B[0m \u001B[43m        \u001B[49m\u001B[43moutput_fields\u001B[49m\u001B[38;5;241;43m=\u001B[39;49m\u001B[43moutput_fields\u001B[49m\u001B[43m,\u001B[49m\n\u001B[1;32m    785\u001B[0m \u001B[43m        \u001B[49m\u001B[43mguarantee_timestamp\u001B[49m\u001B[38;5;241;43m=\u001B[39;49m\u001B[43mkwargs\u001B[49m\u001B[38;5;241;43m.\u001B[39;49m\u001B[43mget\u001B[49m\u001B[43m(\u001B[49m\u001B[38;5;124;43m\"\u001B[39;49m\u001B[38;5;124;43mguarantee_timestamp\u001B[39;49m\u001B[38;5;124;43m\"\u001B[39;49m\u001B[43m,\u001B[49m\u001B[43m \u001B[49m\u001B[38;5;28;43;01mNone\u001B[39;49;00m\u001B[43m)\u001B[49m\u001B[43m,\u001B[49m\n\u001B[1;32m    786\u001B[0m \u001B[43m        \u001B[49m\u001B[43mtimeout\u001B[49m\u001B[38;5;241;43m=\u001B[39;49m\u001B[43mtimeout\u001B[49m\u001B[43m,\u001B[49m\n\u001B[1;32m    787\u001B[0m \u001B[43m    \u001B[49m\u001B[43m)\u001B[49m\n\u001B[1;32m    789\u001B[0m     request \u001B[38;5;241m=\u001B[39m Prepare\u001B[38;5;241m.\u001B[39msearch_requests_with_expr(\n\u001B[1;32m    790\u001B[0m         collection_name,\n\u001B[1;32m    791\u001B[0m         data,\n\u001B[0;32m   (...)\u001B[0m\n\u001B[1;32m    799\u001B[0m         \u001B[38;5;241m*\u001B[39m\u001B[38;5;241m*\u001B[39mkwargs,\n\u001B[1;32m    800\u001B[0m     )\n",
      "File \u001B[0;32m~/miniforge3/envs/docuverse/lib/python3.10/site-packages/pymilvus/client/check.py:337\u001B[0m, in \u001B[0;36mcheck_pass_param\u001B[0;34m(*_args, **kwargs)\u001B[0m\n\u001B[1;32m    336\u001B[0m \u001B[38;5;28;01mfor\u001B[39;00m key, value \u001B[38;5;129;01min\u001B[39;00m kwargs\u001B[38;5;241m.\u001B[39mitems():\n\u001B[0;32m--> 337\u001B[0m     \u001B[43mchecker\u001B[49m\u001B[38;5;241;43m.\u001B[39;49m\u001B[43mcheck\u001B[49m\u001B[43m(\u001B[49m\u001B[43mkey\u001B[49m\u001B[43m,\u001B[49m\u001B[43m \u001B[49m\u001B[43mvalue\u001B[49m\u001B[43m)\u001B[49m\n",
      "File \u001B[0;32m~/miniforge3/envs/docuverse/lib/python3.10/site-packages/pymilvus/client/check.py:323\u001B[0m, in \u001B[0;36mParamChecker.check\u001B[0;34m(self, key, value)\u001B[0m\n\u001B[1;32m    322\u001B[0m     \u001B[38;5;28;01mif\u001B[39;00m \u001B[38;5;129;01mnot\u001B[39;00m \u001B[38;5;28mself\u001B[39m\u001B[38;5;241m.\u001B[39mcheck_dict[key](value):\n\u001B[0;32m--> 323\u001B[0m         \u001B[43m_raise_param_error\u001B[49m\u001B[43m(\u001B[49m\u001B[43mkey\u001B[49m\u001B[43m,\u001B[49m\u001B[43m \u001B[49m\u001B[43mvalue\u001B[49m\u001B[43m)\u001B[49m\n\u001B[1;32m    324\u001B[0m \u001B[38;5;28;01melse\u001B[39;00m:\n",
      "File \u001B[0;32m~/miniforge3/envs/docuverse/lib/python3.10/site-packages/pymilvus/client/check.py:213\u001B[0m, in \u001B[0;36m_raise_param_error\u001B[0;34m(param_name, param_value)\u001B[0m\n\u001B[1;32m    212\u001B[0m \u001B[38;5;28;01mdef\u001B[39;00m \u001B[38;5;21m_raise_param_error\u001B[39m(param_name: \u001B[38;5;28mstr\u001B[39m, param_value: Any) \u001B[38;5;241m-\u001B[39m\u001B[38;5;241m>\u001B[39m \u001B[38;5;28;01mNone\u001B[39;00m:\n\u001B[0;32m--> 213\u001B[0m     \u001B[38;5;28;01mraise\u001B[39;00m ParamError(message\u001B[38;5;241m=\u001B[39m\u001B[38;5;124mf\u001B[39m\u001B[38;5;124m\"\u001B[39m\u001B[38;5;124m`\u001B[39m\u001B[38;5;132;01m{\u001B[39;00mparam_name\u001B[38;5;132;01m}\u001B[39;00m\u001B[38;5;124m` value \u001B[39m\u001B[38;5;132;01m{\u001B[39;00mparam_value\u001B[38;5;132;01m}\u001B[39;00m\u001B[38;5;124m is illegal\u001B[39m\u001B[38;5;124m\"\u001B[39m)\n",
      "\u001B[0;31mParamError\u001B[0m: <ParamError: (code=1, message=`search_data` value [{'qembedding': \"I was suddenly logged off Gmail. I can't remember my Gmail password and just realized the recovery email is no longer alive. What can I do?\"}, {'qembedding': \"I can't remember my Gmail password or my recovery email. How can I recover my e-mail?\"}, {'qembedding': 'What is a narcissistic personality disorder?'}, {'qembedding': 'What is narcissistic personality disorder?'}, {'qembedding': 'What is the greatest mystery of all time?'}, {'qembedding': 'What does the Quora website look like to members of Quora moderation?'}, {'qembedding': 'Is it possible to pursue many different things in life?'}, {'qembedding': 'No fanboys please, but who was the true batman, Christian Bale or Ben Affleck?'}, {'qembedding': 'What will be the impact of scrapping of ₹500 and ₹1000 rupee notes on the real estate market?'}, {'qembedding': 'What is the easiest way to become a billionaire($)?'}] is illegal)>",
      "\nThe above exception was the direct cause of the following exception:\n",
      "\u001B[0;31mParamError\u001B[0m                                Traceback (most recent call last)",
      "    \u001B[0;31m[... skipping hidden 1 frame]\u001B[0m\n",
      "Cell \u001B[0;32mIn[30], line 2\u001B[0m\n\u001B[1;32m      1\u001B[0m questions\u001B[38;5;241m=\u001B[39m[d[\u001B[38;5;124m'\u001B[39m\u001B[38;5;124mtext\u001B[39m\u001B[38;5;124m'\u001B[39m] \u001B[38;5;28;01mfor\u001B[39;00m d \u001B[38;5;129;01min\u001B[39;00m data_list[\u001B[38;5;241m0\u001B[39m:\u001B[38;5;241m10\u001B[39m]]\n\u001B[0;32m----> 2\u001B[0m answers\u001B[38;5;241m=\u001B[39m\u001B[43mtest_search\u001B[49m\u001B[43m(\u001B[49m\u001B[43mdata_list\u001B[49m\u001B[43m[\u001B[49m\u001B[43m:\u001B[49m\u001B[38;5;241;43m20\u001B[39;49m\u001B[43m]\u001B[49m\u001B[43m,\u001B[49m\u001B[43m \u001B[49m\u001B[43mquestions\u001B[49m\u001B[43m)\u001B[49m\n",
      "Cell \u001B[0;32mIn[28], line 44\u001B[0m, in \u001B[0;36mtest_search\u001B[0;34m(vectors, vector_for_query, metric)\u001B[0m\n\u001B[1;32m     43\u001B[0m \u001B[38;5;66;03m# print(insert_result)\u001B[39;00m\n\u001B[0;32m---> 44\u001B[0m \u001B[38;5;28;01mreturn\u001B[39;00m \u001B[43mclient\u001B[49m\u001B[38;5;241;43m.\u001B[39;49m\u001B[43msearch\u001B[49m\u001B[43m(\u001B[49m\n\u001B[1;32m     45\u001B[0m \u001B[43m    \u001B[49m\u001B[43mcollection_name\u001B[49m\u001B[38;5;241;43m=\u001B[39;49m\u001B[43mcollection_name\u001B[49m\u001B[43m,\u001B[49m\n\u001B[1;32m     46\u001B[0m \u001B[43m    \u001B[49m\u001B[38;5;66;43;03m# data=[t[vector_field_name] for t in test],\u001B[39;49;00m\n\u001B[1;32m     47\u001B[0m \u001B[43m    \u001B[49m\u001B[43mdata\u001B[49m\u001B[38;5;241;43m=\u001B[39;49m\u001B[43mtest\u001B[49m\u001B[43m,\u001B[49m\n\u001B[1;32m     48\u001B[0m \u001B[43m    \u001B[49m\u001B[43msearch_params\u001B[49m\u001B[38;5;241;43m=\u001B[39;49m\u001B[43m{\u001B[49m\u001B[38;5;124;43m\"\u001B[39;49m\u001B[38;5;124;43mmetric_type\u001B[39;49m\u001B[38;5;124;43m\"\u001B[39;49m\u001B[43m:\u001B[49m\u001B[43m \u001B[49m\u001B[43mmetric\u001B[49m\u001B[43m,\u001B[49m\u001B[43m \u001B[49m\u001B[38;5;124;43m\"\u001B[39;49m\u001B[38;5;124;43mparams\u001B[39;49m\u001B[38;5;124;43m\"\u001B[39;49m\u001B[43m:\u001B[49m\u001B[43m \u001B[49m\u001B[43m{\u001B[49m\u001B[38;5;124;43m\"\u001B[39;49m\u001B[38;5;124;43mnprobe\u001B[39;49m\u001B[38;5;124;43m\"\u001B[39;49m\u001B[43m:\u001B[49m\u001B[43m \u001B[49m\u001B[38;5;241;43m10\u001B[39;49m\u001B[43m}\u001B[49m\u001B[43m}\u001B[49m\u001B[43m,\u001B[49m\n\u001B[1;32m     49\u001B[0m \u001B[43m    \u001B[49m\u001B[43manns_field\u001B[49m\u001B[38;5;241;43m=\u001B[39;49m\u001B[43mvector_field_name\u001B[49m\u001B[43m,\u001B[49m\n\u001B[1;32m     50\u001B[0m \u001B[43m    \u001B[49m\u001B[43mlimit\u001B[49m\u001B[38;5;241;43m=\u001B[39;49m\u001B[38;5;241;43m10\u001B[39;49m\u001B[43m,\u001B[49m\n\u001B[1;32m     51\u001B[0m \u001B[43m    \u001B[49m\u001B[43moutput_fields\u001B[49m\u001B[38;5;241;43m=\u001B[39;49m\u001B[43m[\u001B[49m\u001B[38;5;124;43m\"\u001B[39;49m\u001B[38;5;124;43mtext\u001B[39;49m\u001B[38;5;124;43m\"\u001B[39;49m\u001B[43m,\u001B[49m\u001B[43m \u001B[49m\u001B[38;5;124;43m\"\u001B[39;49m\u001B[38;5;124;43m_id\u001B[39;49m\u001B[38;5;124;43m\"\u001B[39;49m\u001B[43m]\u001B[49m\u001B[43m,\u001B[49m\n\u001B[1;32m     52\u001B[0m \u001B[43m\u001B[49m\u001B[43m)\u001B[49m\n",
      "File \u001B[0;32m~/miniforge3/envs/docuverse/lib/python3.10/site-packages/pymilvus/milvus_client/milvus_client.py:336\u001B[0m, in \u001B[0;36mMilvusClient.search\u001B[0;34m(self, collection_name, data, filter, limit, output_fields, search_params, timeout, partition_names, anns_field, **kwargs)\u001B[0m\n\u001B[1;32m    335\u001B[0m     logger\u001B[38;5;241m.\u001B[39merror(\u001B[38;5;124m\"\u001B[39m\u001B[38;5;124mFailed to search collection: \u001B[39m\u001B[38;5;132;01m%s\u001B[39;00m\u001B[38;5;124m\"\u001B[39m, collection_name)\n\u001B[0;32m--> 336\u001B[0m     \u001B[38;5;28;01mraise\u001B[39;00m ex \u001B[38;5;28;01mfrom\u001B[39;00m \u001B[38;5;21;01mex\u001B[39;00m\n\u001B[1;32m    338\u001B[0m ret \u001B[38;5;241m=\u001B[39m []\n",
      "File \u001B[0;32m~/miniforge3/envs/docuverse/lib/python3.10/site-packages/pymilvus/milvus_client/milvus_client.py:322\u001B[0m, in \u001B[0;36mMilvusClient.search\u001B[0;34m(self, collection_name, data, filter, limit, output_fields, search_params, timeout, partition_names, anns_field, **kwargs)\u001B[0m\n\u001B[1;32m    321\u001B[0m \u001B[38;5;28;01mtry\u001B[39;00m:\n\u001B[0;32m--> 322\u001B[0m     res \u001B[38;5;241m=\u001B[39m \u001B[43mconn\u001B[49m\u001B[38;5;241;43m.\u001B[39;49m\u001B[43msearch\u001B[49m\u001B[43m(\u001B[49m\n\u001B[1;32m    323\u001B[0m \u001B[43m        \u001B[49m\u001B[43mcollection_name\u001B[49m\u001B[43m,\u001B[49m\n\u001B[1;32m    324\u001B[0m \u001B[43m        \u001B[49m\u001B[43mdata\u001B[49m\u001B[43m,\u001B[49m\n\u001B[1;32m    325\u001B[0m \u001B[43m        \u001B[49m\u001B[43manns_field\u001B[49m\u001B[43m \u001B[49m\u001B[38;5;129;43;01mor\u001B[39;49;00m\u001B[43m \u001B[49m\u001B[38;5;124;43m\"\u001B[39;49m\u001B[38;5;124;43m\"\u001B[39;49m\u001B[43m,\u001B[49m\n\u001B[1;32m    326\u001B[0m \u001B[43m        \u001B[49m\u001B[43msearch_params\u001B[49m\u001B[43m \u001B[49m\u001B[38;5;129;43;01mor\u001B[39;49;00m\u001B[43m \u001B[49m\u001B[43m{\u001B[49m\u001B[43m}\u001B[49m\u001B[43m,\u001B[49m\n\u001B[1;32m    327\u001B[0m \u001B[43m        \u001B[49m\u001B[43mexpression\u001B[49m\u001B[38;5;241;43m=\u001B[39;49m\u001B[38;5;28;43mfilter\u001B[39;49m\u001B[43m,\u001B[49m\n\u001B[1;32m    328\u001B[0m \u001B[43m        \u001B[49m\u001B[43mlimit\u001B[49m\u001B[38;5;241;43m=\u001B[39;49m\u001B[43mlimit\u001B[49m\u001B[43m,\u001B[49m\n\u001B[1;32m    329\u001B[0m \u001B[43m        \u001B[49m\u001B[43moutput_fields\u001B[49m\u001B[38;5;241;43m=\u001B[39;49m\u001B[43moutput_fields\u001B[49m\u001B[43m,\u001B[49m\n\u001B[1;32m    330\u001B[0m \u001B[43m        \u001B[49m\u001B[43mpartition_names\u001B[49m\u001B[38;5;241;43m=\u001B[39;49m\u001B[43mpartition_names\u001B[49m\u001B[43m,\u001B[49m\n\u001B[1;32m    331\u001B[0m \u001B[43m        \u001B[49m\u001B[43mtimeout\u001B[49m\u001B[38;5;241;43m=\u001B[39;49m\u001B[43mtimeout\u001B[49m\u001B[43m,\u001B[49m\n\u001B[1;32m    332\u001B[0m \u001B[43m        \u001B[49m\u001B[38;5;241;43m*\u001B[39;49m\u001B[38;5;241;43m*\u001B[39;49m\u001B[43mkwargs\u001B[49m\u001B[43m,\u001B[49m\n\u001B[1;32m    333\u001B[0m \u001B[43m    \u001B[49m\u001B[43m)\u001B[49m\n\u001B[1;32m    334\u001B[0m \u001B[38;5;28;01mexcept\u001B[39;00m \u001B[38;5;167;01mException\u001B[39;00m \u001B[38;5;28;01mas\u001B[39;00m ex:\n",
      "File \u001B[0;32m~/miniforge3/envs/docuverse/lib/python3.10/site-packages/pymilvus/decorators.py:148\u001B[0m, in \u001B[0;36merror_handler.<locals>.wrapper.<locals>.handler\u001B[0;34m(*args, **kwargs)\u001B[0m\n\u001B[1;32m    147\u001B[0m     LOGGER\u001B[38;5;241m.\u001B[39merror(\u001B[38;5;124mf\u001B[39m\u001B[38;5;124m\"\u001B[39m\u001B[38;5;124mRPC error: [\u001B[39m\u001B[38;5;132;01m{\u001B[39;00minner_name\u001B[38;5;132;01m}\u001B[39;00m\u001B[38;5;124m], \u001B[39m\u001B[38;5;132;01m{\u001B[39;00me\u001B[38;5;132;01m}\u001B[39;00m\u001B[38;5;124m, <Time:\u001B[39m\u001B[38;5;132;01m{\u001B[39;00mrecord_dict\u001B[38;5;132;01m}\u001B[39;00m\u001B[38;5;124m>\u001B[39m\u001B[38;5;124m\"\u001B[39m)\n\u001B[0;32m--> 148\u001B[0m     \u001B[38;5;28;01mraise\u001B[39;00m e \u001B[38;5;28;01mfrom\u001B[39;00m \u001B[38;5;21;01me\u001B[39;00m\n\u001B[1;32m    149\u001B[0m \u001B[38;5;28;01mexcept\u001B[39;00m grpc\u001B[38;5;241m.\u001B[39mFutureTimeoutError \u001B[38;5;28;01mas\u001B[39;00m e:\n",
      "File \u001B[0;32m~/miniforge3/envs/docuverse/lib/python3.10/site-packages/pymilvus/decorators.py:144\u001B[0m, in \u001B[0;36merror_handler.<locals>.wrapper.<locals>.handler\u001B[0;34m(*args, **kwargs)\u001B[0m\n\u001B[1;32m    143\u001B[0m     record_dict[\u001B[38;5;124m\"\u001B[39m\u001B[38;5;124mRPC start\u001B[39m\u001B[38;5;124m\"\u001B[39m] \u001B[38;5;241m=\u001B[39m \u001B[38;5;28mstr\u001B[39m(datetime\u001B[38;5;241m.\u001B[39mdatetime\u001B[38;5;241m.\u001B[39mnow())\n\u001B[0;32m--> 144\u001B[0m     \u001B[38;5;28;01mreturn\u001B[39;00m \u001B[43mfunc\u001B[49m\u001B[43m(\u001B[49m\u001B[38;5;241;43m*\u001B[39;49m\u001B[43margs\u001B[49m\u001B[43m,\u001B[49m\u001B[43m \u001B[49m\u001B[38;5;241;43m*\u001B[39;49m\u001B[38;5;241;43m*\u001B[39;49m\u001B[43mkwargs\u001B[49m\u001B[43m)\u001B[49m\n\u001B[1;32m    145\u001B[0m \u001B[38;5;28;01mexcept\u001B[39;00m MilvusException \u001B[38;5;28;01mas\u001B[39;00m e:\n",
      "File \u001B[0;32m~/miniforge3/envs/docuverse/lib/python3.10/site-packages/pymilvus/decorators.py:183\u001B[0m, in \u001B[0;36mtracing_request.<locals>.wrapper.<locals>.handler\u001B[0;34m(self, *args, **kwargs)\u001B[0m\n\u001B[1;32m    182\u001B[0m     \u001B[38;5;28mself\u001B[39m\u001B[38;5;241m.\u001B[39mset_onetime_request_id(req_id)\n\u001B[0;32m--> 183\u001B[0m \u001B[38;5;28;01mreturn\u001B[39;00m \u001B[43mfunc\u001B[49m\u001B[43m(\u001B[49m\u001B[38;5;28;43mself\u001B[39;49m\u001B[43m,\u001B[49m\u001B[43m \u001B[49m\u001B[38;5;241;43m*\u001B[39;49m\u001B[43margs\u001B[49m\u001B[43m,\u001B[49m\u001B[43m \u001B[49m\u001B[38;5;241;43m*\u001B[39;49m\u001B[38;5;241;43m*\u001B[39;49m\u001B[43mkwargs\u001B[49m\u001B[43m)\u001B[49m\n",
      "File \u001B[0;32m~/miniforge3/envs/docuverse/lib/python3.10/site-packages/pymilvus/decorators.py:123\u001B[0m, in \u001B[0;36mretry_on_rpc_failure.<locals>.wrapper.<locals>.handler\u001B[0;34m(*args, **kwargs)\u001B[0m\n\u001B[1;32m    122\u001B[0m     \u001B[38;5;28;01melse\u001B[39;00m:\n\u001B[0;32m--> 123\u001B[0m         \u001B[38;5;28;01mraise\u001B[39;00m e \u001B[38;5;28;01mfrom\u001B[39;00m \u001B[38;5;21;01me\u001B[39;00m\n\u001B[1;32m    124\u001B[0m \u001B[38;5;28;01mexcept\u001B[39;00m \u001B[38;5;167;01mException\u001B[39;00m \u001B[38;5;28;01mas\u001B[39;00m e:\n",
      "File \u001B[0;32m~/miniforge3/envs/docuverse/lib/python3.10/site-packages/pymilvus/decorators.py:87\u001B[0m, in \u001B[0;36mretry_on_rpc_failure.<locals>.wrapper.<locals>.handler\u001B[0;34m(*args, **kwargs)\u001B[0m\n\u001B[1;32m     86\u001B[0m \u001B[38;5;28;01mtry\u001B[39;00m:\n\u001B[0;32m---> 87\u001B[0m     \u001B[38;5;28;01mreturn\u001B[39;00m \u001B[43mfunc\u001B[49m\u001B[43m(\u001B[49m\u001B[38;5;241;43m*\u001B[39;49m\u001B[43margs\u001B[49m\u001B[43m,\u001B[49m\u001B[43m \u001B[49m\u001B[38;5;241;43m*\u001B[39;49m\u001B[38;5;241;43m*\u001B[39;49m\u001B[43mkwargs\u001B[49m\u001B[43m)\u001B[49m\n\u001B[1;32m     88\u001B[0m \u001B[38;5;28;01mexcept\u001B[39;00m grpc\u001B[38;5;241m.\u001B[39mRpcError \u001B[38;5;28;01mas\u001B[39;00m e:\n\u001B[1;32m     89\u001B[0m     \u001B[38;5;66;03m# Do not retry on these codes\u001B[39;00m\n",
      "File \u001B[0;32m~/miniforge3/envs/docuverse/lib/python3.10/site-packages/pymilvus/client/grpc_handler.py:778\u001B[0m, in \u001B[0;36mGrpcHandler.search\u001B[0;34m(self, collection_name, data, anns_field, param, limit, expression, partition_names, output_fields, round_decimal, timeout, **kwargs)\u001B[0m\n\u001B[1;32m    763\u001B[0m \u001B[38;5;129m@retry_on_rpc_failure\u001B[39m(retry_on_inconsistent_requery\u001B[38;5;241m=\u001B[39m\u001B[38;5;28;01mTrue\u001B[39;00m)\n\u001B[1;32m    764\u001B[0m \u001B[38;5;28;01mdef\u001B[39;00m \u001B[38;5;21msearch\u001B[39m(\n\u001B[1;32m    765\u001B[0m     \u001B[38;5;28mself\u001B[39m,\n\u001B[0;32m   (...)\u001B[0m\n\u001B[1;32m    776\u001B[0m     \u001B[38;5;241m*\u001B[39m\u001B[38;5;241m*\u001B[39mkwargs,\n\u001B[1;32m    777\u001B[0m ):\n\u001B[0;32m--> 778\u001B[0m     \u001B[43mcheck_pass_param\u001B[49m\u001B[43m(\u001B[49m\n\u001B[1;32m    779\u001B[0m \u001B[43m        \u001B[49m\u001B[43mlimit\u001B[49m\u001B[38;5;241;43m=\u001B[39;49m\u001B[43mlimit\u001B[49m\u001B[43m,\u001B[49m\n\u001B[1;32m    780\u001B[0m \u001B[43m        \u001B[49m\u001B[43mround_decimal\u001B[49m\u001B[38;5;241;43m=\u001B[39;49m\u001B[43mround_decimal\u001B[49m\u001B[43m,\u001B[49m\n\u001B[1;32m    781\u001B[0m \u001B[43m        \u001B[49m\u001B[43manns_field\u001B[49m\u001B[38;5;241;43m=\u001B[39;49m\u001B[43manns_field\u001B[49m\u001B[43m,\u001B[49m\n\u001B[1;32m    782\u001B[0m \u001B[43m        \u001B[49m\u001B[43msearch_data\u001B[49m\u001B[38;5;241;43m=\u001B[39;49m\u001B[43mdata\u001B[49m\u001B[43m,\u001B[49m\n\u001B[1;32m    783\u001B[0m \u001B[43m        \u001B[49m\u001B[43mpartition_name_array\u001B[49m\u001B[38;5;241;43m=\u001B[39;49m\u001B[43mpartition_names\u001B[49m\u001B[43m,\u001B[49m\n\u001B[1;32m    784\u001B[0m \u001B[43m        \u001B[49m\u001B[43moutput_fields\u001B[49m\u001B[38;5;241;43m=\u001B[39;49m\u001B[43moutput_fields\u001B[49m\u001B[43m,\u001B[49m\n\u001B[1;32m    785\u001B[0m \u001B[43m        \u001B[49m\u001B[43mguarantee_timestamp\u001B[49m\u001B[38;5;241;43m=\u001B[39;49m\u001B[43mkwargs\u001B[49m\u001B[38;5;241;43m.\u001B[39;49m\u001B[43mget\u001B[49m\u001B[43m(\u001B[49m\u001B[38;5;124;43m\"\u001B[39;49m\u001B[38;5;124;43mguarantee_timestamp\u001B[39;49m\u001B[38;5;124;43m\"\u001B[39;49m\u001B[43m,\u001B[49m\u001B[43m \u001B[49m\u001B[38;5;28;43;01mNone\u001B[39;49;00m\u001B[43m)\u001B[49m\u001B[43m,\u001B[49m\n\u001B[1;32m    786\u001B[0m \u001B[43m        \u001B[49m\u001B[43mtimeout\u001B[49m\u001B[38;5;241;43m=\u001B[39;49m\u001B[43mtimeout\u001B[49m\u001B[43m,\u001B[49m\n\u001B[1;32m    787\u001B[0m \u001B[43m    \u001B[49m\u001B[43m)\u001B[49m\n\u001B[1;32m    789\u001B[0m     request \u001B[38;5;241m=\u001B[39m Prepare\u001B[38;5;241m.\u001B[39msearch_requests_with_expr(\n\u001B[1;32m    790\u001B[0m         collection_name,\n\u001B[1;32m    791\u001B[0m         data,\n\u001B[0;32m   (...)\u001B[0m\n\u001B[1;32m    799\u001B[0m         \u001B[38;5;241m*\u001B[39m\u001B[38;5;241m*\u001B[39mkwargs,\n\u001B[1;32m    800\u001B[0m     )\n",
      "File \u001B[0;32m~/miniforge3/envs/docuverse/lib/python3.10/site-packages/pymilvus/client/check.py:337\u001B[0m, in \u001B[0;36mcheck_pass_param\u001B[0;34m(*_args, **kwargs)\u001B[0m\n\u001B[1;32m    336\u001B[0m \u001B[38;5;28;01mfor\u001B[39;00m key, value \u001B[38;5;129;01min\u001B[39;00m kwargs\u001B[38;5;241m.\u001B[39mitems():\n\u001B[0;32m--> 337\u001B[0m     \u001B[43mchecker\u001B[49m\u001B[38;5;241;43m.\u001B[39;49m\u001B[43mcheck\u001B[49m\u001B[43m(\u001B[49m\u001B[43mkey\u001B[49m\u001B[43m,\u001B[49m\u001B[43m \u001B[49m\u001B[43mvalue\u001B[49m\u001B[43m)\u001B[49m\n",
      "File \u001B[0;32m~/miniforge3/envs/docuverse/lib/python3.10/site-packages/pymilvus/client/check.py:323\u001B[0m, in \u001B[0;36mParamChecker.check\u001B[0;34m(self, key, value)\u001B[0m\n\u001B[1;32m    322\u001B[0m     \u001B[38;5;28;01mif\u001B[39;00m \u001B[38;5;129;01mnot\u001B[39;00m \u001B[38;5;28mself\u001B[39m\u001B[38;5;241m.\u001B[39mcheck_dict[key](value):\n\u001B[0;32m--> 323\u001B[0m         \u001B[43m_raise_param_error\u001B[49m\u001B[43m(\u001B[49m\u001B[43mkey\u001B[49m\u001B[43m,\u001B[49m\u001B[43m \u001B[49m\u001B[43mvalue\u001B[49m\u001B[43m)\u001B[49m\n\u001B[1;32m    324\u001B[0m \u001B[38;5;28;01melse\u001B[39;00m:\n",
      "File \u001B[0;32m~/miniforge3/envs/docuverse/lib/python3.10/site-packages/pymilvus/client/check.py:213\u001B[0m, in \u001B[0;36m_raise_param_error\u001B[0;34m(param_name, param_value)\u001B[0m\n\u001B[1;32m    212\u001B[0m \u001B[38;5;28;01mdef\u001B[39;00m \u001B[38;5;21m_raise_param_error\u001B[39m(param_name: \u001B[38;5;28mstr\u001B[39m, param_value: Any) \u001B[38;5;241m-\u001B[39m\u001B[38;5;241m>\u001B[39m \u001B[38;5;28;01mNone\u001B[39;00m:\n\u001B[0;32m--> 213\u001B[0m     \u001B[38;5;28;01mraise\u001B[39;00m ParamError(message\u001B[38;5;241m=\u001B[39m\u001B[38;5;124mf\u001B[39m\u001B[38;5;124m\"\u001B[39m\u001B[38;5;124m`\u001B[39m\u001B[38;5;132;01m{\u001B[39;00mparam_name\u001B[38;5;132;01m}\u001B[39;00m\u001B[38;5;124m` value \u001B[39m\u001B[38;5;132;01m{\u001B[39;00mparam_value\u001B[38;5;132;01m}\u001B[39;00m\u001B[38;5;124m is illegal\u001B[39m\u001B[38;5;124m\"\u001B[39m)\n",
      "\u001B[0;31mParamError\u001B[0m: <ParamError: (code=1, message=`search_data` value [{'qembedding': \"I was suddenly logged off Gmail. I can't remember my Gmail password and just realized the recovery email is no longer alive. What can I do?\"}, {'qembedding': \"I can't remember my Gmail password or my recovery email. How can I recover my e-mail?\"}, {'qembedding': 'What is a narcissistic personality disorder?'}, {'qembedding': 'What is narcissistic personality disorder?'}, {'qembedding': 'What is the greatest mystery of all time?'}, {'qembedding': 'What does the Quora website look like to members of Quora moderation?'}, {'qembedding': 'Is it possible to pursue many different things in life?'}, {'qembedding': 'No fanboys please, but who was the true batman, Christian Bale or Ben Affleck?'}, {'qembedding': 'What will be the impact of scrapping of ₹500 and ₹1000 rupee notes on the real estate market?'}, {'qembedding': 'What is the easiest way to become a billionaire($)?'}] is illegal)>",
      "\nThe above exception was the direct cause of the following exception:\n",
      "\u001B[0;31mParamError\u001B[0m                                Traceback (most recent call last)",
      "Cell \u001B[0;32mIn[30], line 2\u001B[0m\n\u001B[1;32m      1\u001B[0m questions\u001B[38;5;241m=\u001B[39m[d[\u001B[38;5;124m'\u001B[39m\u001B[38;5;124mtext\u001B[39m\u001B[38;5;124m'\u001B[39m] \u001B[38;5;28;01mfor\u001B[39;00m d \u001B[38;5;129;01min\u001B[39;00m data_list[\u001B[38;5;241m0\u001B[39m:\u001B[38;5;241m10\u001B[39m]]\n\u001B[0;32m----> 2\u001B[0m answers\u001B[38;5;241m=\u001B[39m\u001B[43mtest_search\u001B[49m\u001B[43m(\u001B[49m\u001B[43mdata_list\u001B[49m\u001B[43m[\u001B[49m\u001B[43m:\u001B[49m\u001B[38;5;241;43m20\u001B[39;49m\u001B[43m]\u001B[49m\u001B[43m,\u001B[49m\u001B[43m \u001B[49m\u001B[43mquestions\u001B[49m\u001B[43m)\u001B[49m\n",
      "Cell \u001B[0;32mIn[28], line 44\u001B[0m, in \u001B[0;36mtest_search\u001B[0;34m(vectors, vector_for_query, metric)\u001B[0m\n\u001B[1;32m     42\u001B[0m insert_result \u001B[38;5;241m=\u001B[39m client\u001B[38;5;241m.\u001B[39minsert(collection_name\u001B[38;5;241m=\u001B[39mcollection_name, data\u001B[38;5;241m=\u001B[39mentities)\n\u001B[1;32m     43\u001B[0m \u001B[38;5;66;03m# print(insert_result)\u001B[39;00m\n\u001B[0;32m---> 44\u001B[0m \u001B[38;5;28;01mreturn\u001B[39;00m \u001B[43mclient\u001B[49m\u001B[38;5;241;43m.\u001B[39;49m\u001B[43msearch\u001B[49m\u001B[43m(\u001B[49m\n\u001B[1;32m     45\u001B[0m \u001B[43m    \u001B[49m\u001B[43mcollection_name\u001B[49m\u001B[38;5;241;43m=\u001B[39;49m\u001B[43mcollection_name\u001B[49m\u001B[43m,\u001B[49m\n\u001B[1;32m     46\u001B[0m \u001B[43m    \u001B[49m\u001B[38;5;66;43;03m# data=[t[vector_field_name] for t in test],\u001B[39;49;00m\n\u001B[1;32m     47\u001B[0m \u001B[43m    \u001B[49m\u001B[43mdata\u001B[49m\u001B[38;5;241;43m=\u001B[39;49m\u001B[43mtest\u001B[49m\u001B[43m,\u001B[49m\n\u001B[1;32m     48\u001B[0m \u001B[43m    \u001B[49m\u001B[43msearch_params\u001B[49m\u001B[38;5;241;43m=\u001B[39;49m\u001B[43m{\u001B[49m\u001B[38;5;124;43m\"\u001B[39;49m\u001B[38;5;124;43mmetric_type\u001B[39;49m\u001B[38;5;124;43m\"\u001B[39;49m\u001B[43m:\u001B[49m\u001B[43m \u001B[49m\u001B[43mmetric\u001B[49m\u001B[43m,\u001B[49m\u001B[43m \u001B[49m\u001B[38;5;124;43m\"\u001B[39;49m\u001B[38;5;124;43mparams\u001B[39;49m\u001B[38;5;124;43m\"\u001B[39;49m\u001B[43m:\u001B[49m\u001B[43m \u001B[49m\u001B[43m{\u001B[49m\u001B[38;5;124;43m\"\u001B[39;49m\u001B[38;5;124;43mnprobe\u001B[39;49m\u001B[38;5;124;43m\"\u001B[39;49m\u001B[43m:\u001B[49m\u001B[43m \u001B[49m\u001B[38;5;241;43m10\u001B[39;49m\u001B[43m}\u001B[49m\u001B[43m}\u001B[49m\u001B[43m,\u001B[49m\n\u001B[1;32m     49\u001B[0m \u001B[43m    \u001B[49m\u001B[43manns_field\u001B[49m\u001B[38;5;241;43m=\u001B[39;49m\u001B[43mvector_field_name\u001B[49m\u001B[43m,\u001B[49m\n\u001B[1;32m     50\u001B[0m \u001B[43m    \u001B[49m\u001B[43mlimit\u001B[49m\u001B[38;5;241;43m=\u001B[39;49m\u001B[38;5;241;43m10\u001B[39;49m\u001B[43m,\u001B[49m\n\u001B[1;32m     51\u001B[0m \u001B[43m    \u001B[49m\u001B[43moutput_fields\u001B[49m\u001B[38;5;241;43m=\u001B[39;49m\u001B[43m[\u001B[49m\u001B[38;5;124;43m\"\u001B[39;49m\u001B[38;5;124;43mtext\u001B[39;49m\u001B[38;5;124;43m\"\u001B[39;49m\u001B[43m,\u001B[49m\u001B[43m \u001B[49m\u001B[38;5;124;43m\"\u001B[39;49m\u001B[38;5;124;43m_id\u001B[39;49m\u001B[38;5;124;43m\"\u001B[39;49m\u001B[43m]\u001B[49m\u001B[43m,\u001B[49m\n\u001B[1;32m     52\u001B[0m \u001B[43m\u001B[49m\u001B[43m)\u001B[49m\n",
      "File \u001B[0;32m~/miniforge3/envs/docuverse/lib/python3.10/site-packages/pymilvus/milvus_client/milvus_client.py:336\u001B[0m, in \u001B[0;36mMilvusClient.search\u001B[0;34m(self, collection_name, data, filter, limit, output_fields, search_params, timeout, partition_names, anns_field, **kwargs)\u001B[0m\n\u001B[1;32m    334\u001B[0m \u001B[38;5;28;01mexcept\u001B[39;00m \u001B[38;5;167;01mException\u001B[39;00m \u001B[38;5;28;01mas\u001B[39;00m ex:\n\u001B[1;32m    335\u001B[0m     logger\u001B[38;5;241m.\u001B[39merror(\u001B[38;5;124m\"\u001B[39m\u001B[38;5;124mFailed to search collection: \u001B[39m\u001B[38;5;132;01m%s\u001B[39;00m\u001B[38;5;124m\"\u001B[39m, collection_name)\n\u001B[0;32m--> 336\u001B[0m     \u001B[38;5;28;01mraise\u001B[39;00m ex \u001B[38;5;28;01mfrom\u001B[39;00m \u001B[38;5;21;01mex\u001B[39;00m\n\u001B[1;32m    338\u001B[0m ret \u001B[38;5;241m=\u001B[39m []\n\u001B[1;32m    339\u001B[0m \u001B[38;5;28;01mfor\u001B[39;00m hits \u001B[38;5;129;01min\u001B[39;00m res:\n",
      "File \u001B[0;32m~/miniforge3/envs/docuverse/lib/python3.10/site-packages/pymilvus/milvus_client/milvus_client.py:322\u001B[0m, in \u001B[0;36mMilvusClient.search\u001B[0;34m(self, collection_name, data, filter, limit, output_fields, search_params, timeout, partition_names, anns_field, **kwargs)\u001B[0m\n\u001B[1;32m    320\u001B[0m conn \u001B[38;5;241m=\u001B[39m \u001B[38;5;28mself\u001B[39m\u001B[38;5;241m.\u001B[39m_get_connection()\n\u001B[1;32m    321\u001B[0m \u001B[38;5;28;01mtry\u001B[39;00m:\n\u001B[0;32m--> 322\u001B[0m     res \u001B[38;5;241m=\u001B[39m \u001B[43mconn\u001B[49m\u001B[38;5;241;43m.\u001B[39;49m\u001B[43msearch\u001B[49m\u001B[43m(\u001B[49m\n\u001B[1;32m    323\u001B[0m \u001B[43m        \u001B[49m\u001B[43mcollection_name\u001B[49m\u001B[43m,\u001B[49m\n\u001B[1;32m    324\u001B[0m \u001B[43m        \u001B[49m\u001B[43mdata\u001B[49m\u001B[43m,\u001B[49m\n\u001B[1;32m    325\u001B[0m \u001B[43m        \u001B[49m\u001B[43manns_field\u001B[49m\u001B[43m \u001B[49m\u001B[38;5;129;43;01mor\u001B[39;49;00m\u001B[43m \u001B[49m\u001B[38;5;124;43m\"\u001B[39;49m\u001B[38;5;124;43m\"\u001B[39;49m\u001B[43m,\u001B[49m\n\u001B[1;32m    326\u001B[0m \u001B[43m        \u001B[49m\u001B[43msearch_params\u001B[49m\u001B[43m \u001B[49m\u001B[38;5;129;43;01mor\u001B[39;49;00m\u001B[43m \u001B[49m\u001B[43m{\u001B[49m\u001B[43m}\u001B[49m\u001B[43m,\u001B[49m\n\u001B[1;32m    327\u001B[0m \u001B[43m        \u001B[49m\u001B[43mexpression\u001B[49m\u001B[38;5;241;43m=\u001B[39;49m\u001B[38;5;28;43mfilter\u001B[39;49m\u001B[43m,\u001B[49m\n\u001B[1;32m    328\u001B[0m \u001B[43m        \u001B[49m\u001B[43mlimit\u001B[49m\u001B[38;5;241;43m=\u001B[39;49m\u001B[43mlimit\u001B[49m\u001B[43m,\u001B[49m\n\u001B[1;32m    329\u001B[0m \u001B[43m        \u001B[49m\u001B[43moutput_fields\u001B[49m\u001B[38;5;241;43m=\u001B[39;49m\u001B[43moutput_fields\u001B[49m\u001B[43m,\u001B[49m\n\u001B[1;32m    330\u001B[0m \u001B[43m        \u001B[49m\u001B[43mpartition_names\u001B[49m\u001B[38;5;241;43m=\u001B[39;49m\u001B[43mpartition_names\u001B[49m\u001B[43m,\u001B[49m\n\u001B[1;32m    331\u001B[0m \u001B[43m        \u001B[49m\u001B[43mtimeout\u001B[49m\u001B[38;5;241;43m=\u001B[39;49m\u001B[43mtimeout\u001B[49m\u001B[43m,\u001B[49m\n\u001B[1;32m    332\u001B[0m \u001B[43m        \u001B[49m\u001B[38;5;241;43m*\u001B[39;49m\u001B[38;5;241;43m*\u001B[39;49m\u001B[43mkwargs\u001B[49m\u001B[43m,\u001B[49m\n\u001B[1;32m    333\u001B[0m \u001B[43m    \u001B[49m\u001B[43m)\u001B[49m\n\u001B[1;32m    334\u001B[0m \u001B[38;5;28;01mexcept\u001B[39;00m \u001B[38;5;167;01mException\u001B[39;00m \u001B[38;5;28;01mas\u001B[39;00m ex:\n\u001B[1;32m    335\u001B[0m     logger\u001B[38;5;241m.\u001B[39merror(\u001B[38;5;124m\"\u001B[39m\u001B[38;5;124mFailed to search collection: \u001B[39m\u001B[38;5;132;01m%s\u001B[39;00m\u001B[38;5;124m\"\u001B[39m, collection_name)\n",
      "File \u001B[0;32m~/miniforge3/envs/docuverse/lib/python3.10/site-packages/pymilvus/decorators.py:148\u001B[0m, in \u001B[0;36merror_handler.<locals>.wrapper.<locals>.handler\u001B[0;34m(*args, **kwargs)\u001B[0m\n\u001B[1;32m    146\u001B[0m     record_dict[\u001B[38;5;124m\"\u001B[39m\u001B[38;5;124mRPC error\u001B[39m\u001B[38;5;124m\"\u001B[39m] \u001B[38;5;241m=\u001B[39m \u001B[38;5;28mstr\u001B[39m(datetime\u001B[38;5;241m.\u001B[39mdatetime\u001B[38;5;241m.\u001B[39mnow())\n\u001B[1;32m    147\u001B[0m     LOGGER\u001B[38;5;241m.\u001B[39merror(\u001B[38;5;124mf\u001B[39m\u001B[38;5;124m\"\u001B[39m\u001B[38;5;124mRPC error: [\u001B[39m\u001B[38;5;132;01m{\u001B[39;00minner_name\u001B[38;5;132;01m}\u001B[39;00m\u001B[38;5;124m], \u001B[39m\u001B[38;5;132;01m{\u001B[39;00me\u001B[38;5;132;01m}\u001B[39;00m\u001B[38;5;124m, <Time:\u001B[39m\u001B[38;5;132;01m{\u001B[39;00mrecord_dict\u001B[38;5;132;01m}\u001B[39;00m\u001B[38;5;124m>\u001B[39m\u001B[38;5;124m\"\u001B[39m)\n\u001B[0;32m--> 148\u001B[0m     \u001B[38;5;28;01mraise\u001B[39;00m e \u001B[38;5;28;01mfrom\u001B[39;00m \u001B[38;5;21;01me\u001B[39;00m\n\u001B[1;32m    149\u001B[0m \u001B[38;5;28;01mexcept\u001B[39;00m grpc\u001B[38;5;241m.\u001B[39mFutureTimeoutError \u001B[38;5;28;01mas\u001B[39;00m e:\n\u001B[1;32m    150\u001B[0m     record_dict[\u001B[38;5;124m\"\u001B[39m\u001B[38;5;124mgRPC timeout\u001B[39m\u001B[38;5;124m\"\u001B[39m] \u001B[38;5;241m=\u001B[39m \u001B[38;5;28mstr\u001B[39m(datetime\u001B[38;5;241m.\u001B[39mdatetime\u001B[38;5;241m.\u001B[39mnow())\n",
      "File \u001B[0;32m~/miniforge3/envs/docuverse/lib/python3.10/site-packages/pymilvus/decorators.py:144\u001B[0m, in \u001B[0;36merror_handler.<locals>.wrapper.<locals>.handler\u001B[0;34m(*args, **kwargs)\u001B[0m\n\u001B[1;32m    142\u001B[0m \u001B[38;5;28;01mtry\u001B[39;00m:\n\u001B[1;32m    143\u001B[0m     record_dict[\u001B[38;5;124m\"\u001B[39m\u001B[38;5;124mRPC start\u001B[39m\u001B[38;5;124m\"\u001B[39m] \u001B[38;5;241m=\u001B[39m \u001B[38;5;28mstr\u001B[39m(datetime\u001B[38;5;241m.\u001B[39mdatetime\u001B[38;5;241m.\u001B[39mnow())\n\u001B[0;32m--> 144\u001B[0m     \u001B[38;5;28;01mreturn\u001B[39;00m \u001B[43mfunc\u001B[49m\u001B[43m(\u001B[49m\u001B[38;5;241;43m*\u001B[39;49m\u001B[43margs\u001B[49m\u001B[43m,\u001B[49m\u001B[43m \u001B[49m\u001B[38;5;241;43m*\u001B[39;49m\u001B[38;5;241;43m*\u001B[39;49m\u001B[43mkwargs\u001B[49m\u001B[43m)\u001B[49m\n\u001B[1;32m    145\u001B[0m \u001B[38;5;28;01mexcept\u001B[39;00m MilvusException \u001B[38;5;28;01mas\u001B[39;00m e:\n\u001B[1;32m    146\u001B[0m     record_dict[\u001B[38;5;124m\"\u001B[39m\u001B[38;5;124mRPC error\u001B[39m\u001B[38;5;124m\"\u001B[39m] \u001B[38;5;241m=\u001B[39m \u001B[38;5;28mstr\u001B[39m(datetime\u001B[38;5;241m.\u001B[39mdatetime\u001B[38;5;241m.\u001B[39mnow())\n",
      "File \u001B[0;32m~/miniforge3/envs/docuverse/lib/python3.10/site-packages/pymilvus/decorators.py:183\u001B[0m, in \u001B[0;36mtracing_request.<locals>.wrapper.<locals>.handler\u001B[0;34m(self, *args, **kwargs)\u001B[0m\n\u001B[1;32m    181\u001B[0m \u001B[38;5;28;01mif\u001B[39;00m req_id:\n\u001B[1;32m    182\u001B[0m     \u001B[38;5;28mself\u001B[39m\u001B[38;5;241m.\u001B[39mset_onetime_request_id(req_id)\n\u001B[0;32m--> 183\u001B[0m \u001B[38;5;28;01mreturn\u001B[39;00m \u001B[43mfunc\u001B[49m\u001B[43m(\u001B[49m\u001B[38;5;28;43mself\u001B[39;49m\u001B[43m,\u001B[49m\u001B[43m \u001B[49m\u001B[38;5;241;43m*\u001B[39;49m\u001B[43margs\u001B[49m\u001B[43m,\u001B[49m\u001B[43m \u001B[49m\u001B[38;5;241;43m*\u001B[39;49m\u001B[38;5;241;43m*\u001B[39;49m\u001B[43mkwargs\u001B[49m\u001B[43m)\u001B[49m\n",
      "File \u001B[0;32m~/miniforge3/envs/docuverse/lib/python3.10/site-packages/pymilvus/decorators.py:123\u001B[0m, in \u001B[0;36mretry_on_rpc_failure.<locals>.wrapper.<locals>.handler\u001B[0;34m(*args, **kwargs)\u001B[0m\n\u001B[1;32m    121\u001B[0m         back_off \u001B[38;5;241m=\u001B[39m \u001B[38;5;28mmin\u001B[39m(back_off \u001B[38;5;241m*\u001B[39m back_off_multiplier, max_back_off)\n\u001B[1;32m    122\u001B[0m     \u001B[38;5;28;01melse\u001B[39;00m:\n\u001B[0;32m--> 123\u001B[0m         \u001B[38;5;28;01mraise\u001B[39;00m e \u001B[38;5;28;01mfrom\u001B[39;00m \u001B[38;5;21;01me\u001B[39;00m\n\u001B[1;32m    124\u001B[0m \u001B[38;5;28;01mexcept\u001B[39;00m \u001B[38;5;167;01mException\u001B[39;00m \u001B[38;5;28;01mas\u001B[39;00m e:\n\u001B[1;32m    125\u001B[0m     \u001B[38;5;28;01mraise\u001B[39;00m e \u001B[38;5;28;01mfrom\u001B[39;00m \u001B[38;5;21;01me\u001B[39;00m\n",
      "File \u001B[0;32m~/miniforge3/envs/docuverse/lib/python3.10/site-packages/pymilvus/decorators.py:87\u001B[0m, in \u001B[0;36mretry_on_rpc_failure.<locals>.wrapper.<locals>.handler\u001B[0;34m(*args, **kwargs)\u001B[0m\n\u001B[1;32m     85\u001B[0m \u001B[38;5;28;01mwhile\u001B[39;00m \u001B[38;5;28;01mTrue\u001B[39;00m:\n\u001B[1;32m     86\u001B[0m     \u001B[38;5;28;01mtry\u001B[39;00m:\n\u001B[0;32m---> 87\u001B[0m         \u001B[38;5;28;01mreturn\u001B[39;00m \u001B[43mfunc\u001B[49m\u001B[43m(\u001B[49m\u001B[38;5;241;43m*\u001B[39;49m\u001B[43margs\u001B[49m\u001B[43m,\u001B[49m\u001B[43m \u001B[49m\u001B[38;5;241;43m*\u001B[39;49m\u001B[38;5;241;43m*\u001B[39;49m\u001B[43mkwargs\u001B[49m\u001B[43m)\u001B[49m\n\u001B[1;32m     88\u001B[0m     \u001B[38;5;28;01mexcept\u001B[39;00m grpc\u001B[38;5;241m.\u001B[39mRpcError \u001B[38;5;28;01mas\u001B[39;00m e:\n\u001B[1;32m     89\u001B[0m         \u001B[38;5;66;03m# Do not retry on these codes\u001B[39;00m\n\u001B[1;32m     90\u001B[0m         \u001B[38;5;28;01mif\u001B[39;00m e\u001B[38;5;241m.\u001B[39mcode() \u001B[38;5;129;01min\u001B[39;00m IGNORE_RETRY_CODES:\n",
      "File \u001B[0;32m~/miniforge3/envs/docuverse/lib/python3.10/site-packages/pymilvus/client/grpc_handler.py:778\u001B[0m, in \u001B[0;36mGrpcHandler.search\u001B[0;34m(self, collection_name, data, anns_field, param, limit, expression, partition_names, output_fields, round_decimal, timeout, **kwargs)\u001B[0m\n\u001B[1;32m    763\u001B[0m \u001B[38;5;129m@retry_on_rpc_failure\u001B[39m(retry_on_inconsistent_requery\u001B[38;5;241m=\u001B[39m\u001B[38;5;28;01mTrue\u001B[39;00m)\n\u001B[1;32m    764\u001B[0m \u001B[38;5;28;01mdef\u001B[39;00m \u001B[38;5;21msearch\u001B[39m(\n\u001B[1;32m    765\u001B[0m     \u001B[38;5;28mself\u001B[39m,\n\u001B[0;32m   (...)\u001B[0m\n\u001B[1;32m    776\u001B[0m     \u001B[38;5;241m*\u001B[39m\u001B[38;5;241m*\u001B[39mkwargs,\n\u001B[1;32m    777\u001B[0m ):\n\u001B[0;32m--> 778\u001B[0m     \u001B[43mcheck_pass_param\u001B[49m\u001B[43m(\u001B[49m\n\u001B[1;32m    779\u001B[0m \u001B[43m        \u001B[49m\u001B[43mlimit\u001B[49m\u001B[38;5;241;43m=\u001B[39;49m\u001B[43mlimit\u001B[49m\u001B[43m,\u001B[49m\n\u001B[1;32m    780\u001B[0m \u001B[43m        \u001B[49m\u001B[43mround_decimal\u001B[49m\u001B[38;5;241;43m=\u001B[39;49m\u001B[43mround_decimal\u001B[49m\u001B[43m,\u001B[49m\n\u001B[1;32m    781\u001B[0m \u001B[43m        \u001B[49m\u001B[43manns_field\u001B[49m\u001B[38;5;241;43m=\u001B[39;49m\u001B[43manns_field\u001B[49m\u001B[43m,\u001B[49m\n\u001B[1;32m    782\u001B[0m \u001B[43m        \u001B[49m\u001B[43msearch_data\u001B[49m\u001B[38;5;241;43m=\u001B[39;49m\u001B[43mdata\u001B[49m\u001B[43m,\u001B[49m\n\u001B[1;32m    783\u001B[0m \u001B[43m        \u001B[49m\u001B[43mpartition_name_array\u001B[49m\u001B[38;5;241;43m=\u001B[39;49m\u001B[43mpartition_names\u001B[49m\u001B[43m,\u001B[49m\n\u001B[1;32m    784\u001B[0m \u001B[43m        \u001B[49m\u001B[43moutput_fields\u001B[49m\u001B[38;5;241;43m=\u001B[39;49m\u001B[43moutput_fields\u001B[49m\u001B[43m,\u001B[49m\n\u001B[1;32m    785\u001B[0m \u001B[43m        \u001B[49m\u001B[43mguarantee_timestamp\u001B[49m\u001B[38;5;241;43m=\u001B[39;49m\u001B[43mkwargs\u001B[49m\u001B[38;5;241;43m.\u001B[39;49m\u001B[43mget\u001B[49m\u001B[43m(\u001B[49m\u001B[38;5;124;43m\"\u001B[39;49m\u001B[38;5;124;43mguarantee_timestamp\u001B[39;49m\u001B[38;5;124;43m\"\u001B[39;49m\u001B[43m,\u001B[49m\u001B[43m \u001B[49m\u001B[38;5;28;43;01mNone\u001B[39;49;00m\u001B[43m)\u001B[49m\u001B[43m,\u001B[49m\n\u001B[1;32m    786\u001B[0m \u001B[43m        \u001B[49m\u001B[43mtimeout\u001B[49m\u001B[38;5;241;43m=\u001B[39;49m\u001B[43mtimeout\u001B[49m\u001B[43m,\u001B[49m\n\u001B[1;32m    787\u001B[0m \u001B[43m    \u001B[49m\u001B[43m)\u001B[49m\n\u001B[1;32m    789\u001B[0m     request \u001B[38;5;241m=\u001B[39m Prepare\u001B[38;5;241m.\u001B[39msearch_requests_with_expr(\n\u001B[1;32m    790\u001B[0m         collection_name,\n\u001B[1;32m    791\u001B[0m         data,\n\u001B[0;32m   (...)\u001B[0m\n\u001B[1;32m    799\u001B[0m         \u001B[38;5;241m*\u001B[39m\u001B[38;5;241m*\u001B[39mkwargs,\n\u001B[1;32m    800\u001B[0m     )\n\u001B[1;32m    801\u001B[0m     \u001B[38;5;28;01mreturn\u001B[39;00m \u001B[38;5;28mself\u001B[39m\u001B[38;5;241m.\u001B[39m_execute_search(request, timeout, round_decimal\u001B[38;5;241m=\u001B[39mround_decimal, \u001B[38;5;241m*\u001B[39m\u001B[38;5;241m*\u001B[39mkwargs)\n",
      "File \u001B[0;32m~/miniforge3/envs/docuverse/lib/python3.10/site-packages/pymilvus/client/check.py:337\u001B[0m, in \u001B[0;36mcheck_pass_param\u001B[0;34m(*_args, **kwargs)\u001B[0m\n\u001B[1;32m    335\u001B[0m checker \u001B[38;5;241m=\u001B[39m _get_param_checker()\n\u001B[1;32m    336\u001B[0m \u001B[38;5;28;01mfor\u001B[39;00m key, value \u001B[38;5;129;01min\u001B[39;00m kwargs\u001B[38;5;241m.\u001B[39mitems():\n\u001B[0;32m--> 337\u001B[0m     \u001B[43mchecker\u001B[49m\u001B[38;5;241;43m.\u001B[39;49m\u001B[43mcheck\u001B[49m\u001B[43m(\u001B[49m\u001B[43mkey\u001B[49m\u001B[43m,\u001B[49m\u001B[43m \u001B[49m\u001B[43mvalue\u001B[49m\u001B[43m)\u001B[49m\n",
      "File \u001B[0;32m~/miniforge3/envs/docuverse/lib/python3.10/site-packages/pymilvus/client/check.py:323\u001B[0m, in \u001B[0;36mParamChecker.check\u001B[0;34m(self, key, value)\u001B[0m\n\u001B[1;32m    321\u001B[0m \u001B[38;5;28;01mif\u001B[39;00m key \u001B[38;5;129;01min\u001B[39;00m \u001B[38;5;28mself\u001B[39m\u001B[38;5;241m.\u001B[39mcheck_dict:\n\u001B[1;32m    322\u001B[0m     \u001B[38;5;28;01mif\u001B[39;00m \u001B[38;5;129;01mnot\u001B[39;00m \u001B[38;5;28mself\u001B[39m\u001B[38;5;241m.\u001B[39mcheck_dict[key](value):\n\u001B[0;32m--> 323\u001B[0m         \u001B[43m_raise_param_error\u001B[49m\u001B[43m(\u001B[49m\u001B[43mkey\u001B[49m\u001B[43m,\u001B[49m\u001B[43m \u001B[49m\u001B[43mvalue\u001B[49m\u001B[43m)\u001B[49m\n\u001B[1;32m    324\u001B[0m \u001B[38;5;28;01melse\u001B[39;00m:\n\u001B[1;32m    325\u001B[0m     \u001B[38;5;28;01mraise\u001B[39;00m ParamError(message\u001B[38;5;241m=\u001B[39m\u001B[38;5;124mf\u001B[39m\u001B[38;5;124m\"\u001B[39m\u001B[38;5;124munknown param `\u001B[39m\u001B[38;5;132;01m{\u001B[39;00mkey\u001B[38;5;132;01m}\u001B[39;00m\u001B[38;5;124m`\u001B[39m\u001B[38;5;124m\"\u001B[39m)\n",
      "File \u001B[0;32m~/miniforge3/envs/docuverse/lib/python3.10/site-packages/pymilvus/client/check.py:213\u001B[0m, in \u001B[0;36m_raise_param_error\u001B[0;34m(param_name, param_value)\u001B[0m\n\u001B[1;32m    212\u001B[0m \u001B[38;5;28;01mdef\u001B[39;00m \u001B[38;5;21m_raise_param_error\u001B[39m(param_name: \u001B[38;5;28mstr\u001B[39m, param_value: Any) \u001B[38;5;241m-\u001B[39m\u001B[38;5;241m>\u001B[39m \u001B[38;5;28;01mNone\u001B[39;00m:\n\u001B[0;32m--> 213\u001B[0m     \u001B[38;5;28;01mraise\u001B[39;00m ParamError(message\u001B[38;5;241m=\u001B[39m\u001B[38;5;124mf\u001B[39m\u001B[38;5;124m\"\u001B[39m\u001B[38;5;124m`\u001B[39m\u001B[38;5;132;01m{\u001B[39;00mparam_name\u001B[38;5;132;01m}\u001B[39;00m\u001B[38;5;124m` value \u001B[39m\u001B[38;5;132;01m{\u001B[39;00mparam_value\u001B[38;5;132;01m}\u001B[39;00m\u001B[38;5;124m is illegal\u001B[39m\u001B[38;5;124m\"\u001B[39m)\n",
      "\u001B[0;31mParamError\u001B[0m: <ParamError: (code=1, message=`search_data` value [{'qembedding': \"I was suddenly logged off Gmail. I can't remember my Gmail password and just realized the recovery email is no longer alive. What can I do?\"}, {'qembedding': \"I can't remember my Gmail password or my recovery email. How can I recover my e-mail?\"}, {'qembedding': 'What is a narcissistic personality disorder?'}, {'qembedding': 'What is narcissistic personality disorder?'}, {'qembedding': 'What is the greatest mystery of all time?'}, {'qembedding': 'What does the Quora website look like to members of Quora moderation?'}, {'qembedding': 'Is it possible to pursue many different things in life?'}, {'qembedding': 'No fanboys please, but who was the true batman, Christian Bale or Ben Affleck?'}, {'qembedding': 'What will be the impact of scrapping of ₹500 and ₹1000 rupee notes on the real estate market?'}, {'qembedding': 'What is the easiest way to become a billionaire($)?'}] is illegal)>"
     ]
    }
   ],
   "execution_count": 30,
   "source": [
    "def test_search(vectors, vector_for_query=None, metric=\"IP\"):\n",
    "    truncate_dim = 384\n",
    "    collection_name = \"test\"\n",
    "    vector_field_name = \"qembedding\"\n",
    "\n",
    "    client = MilvusClient(\"test.db\")\n",
    "    schema = client.create_schema(auto_id=True, enable_dynamic_field=True, primary_field=\"id\")\n",
    "\n",
    "    schema.add_field(field_name=\"id\", datatype=DataType.INT64, is_primary=True)\n",
    "    schema.add_field(field_name=\"text\", datatype=DataType.VARCHAR, max_length=50000)\n",
    "    schema.add_field(field_name=\"_id\", datatype=DataType.VARCHAR, max_length=50000)\n",
    "    schema.add_field(field_name=vector_field_name, datatype=DataType.FLOAT_VECTOR, dim=truncate_dim)\n",
    "\n",
    "    index_params = client.prepare_index_params()\n",
    "    index_params.add_index(\n",
    "        field_name=vector_field_name,\n",
    "        index_type=\"FLAT\",\n",
    "        metric_type=metric,\n",
    "        params={\"nlist\": 1024}\n",
    "    )\n",
    "\n",
    "    if client.has_collection(collection_name=collection_name):\n",
    "        client.drop_collection(collection_name=collection_name)\n",
    "    client.create_collection(\n",
    "        collection_name=collection_name, schema=schema, index_params=index_params\n",
    "    )\n",
    "    if vector_for_query is None:\n",
    "        entities = vectors\n",
    "        test = vectors[0:3]\n",
    "    else:\n",
    "        entities = vectors\n",
    "        if isinstance(vector_for_query, list) and isinstance(vector_for_query[0], dict):\n",
    "            test = vector_for_query\n",
    "        else:\n",
    "            test = [{vector_field_name: e} for e in vector_for_query]\n",
    "    print(test[0].keys())\n",
    "    insert_result = client.insert(collection_name=collection_name, data=entities)\n",
    "    # print(insert_result)\n",
    "    return client.search(\n",
    "        collection_name=collection_name,\n",
    "        # data=[t[vector_field_name] for t in test],\n",
    "        data=test,\n",
    "        search_params={\"metric_type\": metric, \"params\": {\"nprobe\": 10}},\n",
    "        anns_field=vector_field_name,\n",
    "        limit=10,\n",
    "        output_fields=[\"text\", \"_id\"],\n",
    "    )\n",
    "    \n",
    "questions=[d['text'] for d in data_list[0:10]]\n",
    "answers=test_search(data_list[:20], questions)\n"
   ],
   "id": "7e2d654b567fa607"
  },
  {
   "metadata": {
    "ExecuteTime": {
     "end_time": "2024-09-29T19:41:21.153292Z",
     "start_time": "2024-09-29T19:41:21.149577Z"
    }
   },
   "cell_type": "code",
   "source": [
    "for q, res in zip(questions, answers):\n",
    "    print(f\"Question: {q['text']}\")\n",
    "    if len(res) == 0:\n",
    "        print(\"  ** No results found. **\")\n",
    "    else:\n",
    "        for r in res:\n",
    "            print({'id': r['entity']['_id'], 'answer': r['entity']['text'], 'score': r['distance']})\n",
    "        print(\"\\n\")"
   ],
   "id": "ad68616c9f766dce",
   "outputs": [
    {
     "name": "stdout",
     "output_type": "stream",
     "text": [
      "Question: I was suddenly logged off Gmail. I can't remember my Gmail password and just realized the recovery email is no longer alive. What can I do?\n",
      "{'id': '117-0-139', 'answer': \"I was suddenly logged off Gmail. I can't remember my Gmail password and just realized the recovery email is no longer alive. What can I do?\", 'score': 1.000000238418579}\n",
      "{'id': '106577-0-51', 'answer': 'What is the best music to listen to while studying?', 'score': 0.9982950091362}\n",
      "{'id': '348001-0-30', 'answer': 'What is New Zealand known for?', 'score': 0.7475979328155518}\n",
      "{'id': '383079-0-123', 'answer': 'How many days will it take to dispatch pan card after application has received at income tax office for further processing?', 'score': 0.741649866104126}\n",
      "{'id': '124606-0-30', 'answer': 'How do I play cards by myself?', 'score': 0.7245960235595703}\n",
      "{'id': '416946-0-42', 'answer': 'What are the best ways to confront a liar?', 'score': 0.6999878883361816}\n",
      "{'id': '471345-0-108', 'answer': \"I am a engineering graduate. But I've an interest in becoming a counselor. Which are the degrees I can take?\", 'score': 0.6922494173049927}\n",
      "{'id': '430122-0-46', 'answer': 'What are some temperate forest biotic factors?', 'score': 0.6873601675033569}\n",
      "{'id': '54267-0-50', 'answer': 'Will the currency ban in India affect the economy?', 'score': 0.6857984662055969}\n",
      "{'id': '67630-0-62', 'answer': 'What are the lessons that we can learn from vikings tv series?', 'score': 0.683742880821228}\n",
      "\n",
      "\n",
      "Question: I can't remember my Gmail password or my recovery email. How can I recover my e-mail?\n",
      "{'id': '118-0-85', 'answer': \"I can't remember my Gmail password or my recovery email. How can I recover my e-mail?\", 'score': 0.9999998807907104}\n",
      "{'id': '6953-0-89', 'answer': 'How do I reset my gmail password when they are not highlighting my recovery email option?', 'score': 0.9038186073303223}\n",
      "{'id': '462488-0-33', 'answer': 'How can you treat beet allergies?', 'score': 0.8444210290908813}\n",
      "{'id': '63435-0-39', 'answer': 'How do you sleep on Christmas Eve? Why?', 'score': 0.8213344812393188}\n",
      "{'id': '404899-0-64', 'answer': 'How can I get out of a, \"I don\\'t feel like doing anything\" mood?', 'score': 0.8197672367095947}\n",
      "{'id': '379024-0-48', 'answer': 'Why do adults decide to bully some other adults?', 'score': 0.8007814288139343}\n",
      "{'id': '34045-0-50', 'answer': 'How can Indian Muslims become a majority in India?', 'score': 0.7427231073379517}\n",
      "{'id': '218527-0-33', 'answer': 'What are some underrated singers?', 'score': 0.7404377460479736}\n",
      "{'id': '432995-0-42', 'answer': 'What are the best open world games for PC?', 'score': 0.7361065149307251}\n",
      "{'id': '462705-0-42', 'answer': 'Is China aggressive in its foreign policy?', 'score': 0.735986590385437}\n",
      "\n",
      "\n",
      "Question: What is a narcissistic personality disorder?\n",
      "{'id': '143-0-44', 'answer': 'What is a narcissistic personality disorder?', 'score': 0.9999999403953552}\n",
      "{'id': '297041-0-41', 'answer': 'How often does a female cat go into heat?', 'score': 0.7306797504425049}\n",
      "{'id': '500845-0-37', 'answer': 'Does not eating help you lose weight?', 'score': 0.7298770546913147}\n",
      "{'id': '152316-0-53', 'answer': 'Which is the best android device to buy under ₹15000?', 'score': 0.7212789058685303}\n",
      "{'id': '278121-0-58', 'answer': 'What is the reason for increase in divorce rates in India?', 'score': 0.7181110978126526}\n",
      "{'id': '216022-0-48', 'answer': 'What does the future of deep learning look like?', 'score': 0.7151085138320923}\n",
      "{'id': '76147-0-105', 'answer': 'Buying Cars: Are Mazda, Subaru (sans Subaru BRZ), Mitsubishi, and Nissan as reliable as Honda and Toyota?', 'score': 0.7134867906570435}\n",
      "{'id': '139374-0-53', 'answer': 'How do I sell my domain name which I recently bought?', 'score': 0.7119213938713074}\n",
      "{'id': '392964-0-92', 'answer': 'If a massive asteroid hit earth, would it be more catastrophic if it hit land or open ocean?', 'score': 0.7117234468460083}\n",
      "{'id': '271056-0-58', 'answer': 'What do college students do to cool off or relieve stress?', 'score': 0.7091359496116638}\n",
      "\n",
      "\n"
     ]
    }
   ],
   "execution_count": 24
  },
  {
   "metadata": {
    "ExecuteTime": {
     "end_time": "2024-09-29T19:38:15.762704Z",
     "start_time": "2024-09-29T19:38:15.758954Z"
    }
   },
   "cell_type": "code",
   "source": "questions[0]['text']",
   "id": "7048dbf2917945d6",
   "outputs": [
    {
     "data": {
      "text/plain": [
       "\"I was suddenly logged off Gmail. I can't remember my Gmail password and just realized the recovery email is no longer alive. What can I do?\""
      ]
     },
     "execution_count": 23,
     "metadata": {},
     "output_type": "execute_result"
    }
   ],
   "execution_count": 23
  },
  {
   "metadata": {
    "ExecuteTime": {
     "end_time": "2024-09-29T21:05:26.206606Z",
     "start_time": "2024-09-29T21:05:26.200007Z"
    }
   },
   "cell_type": "code",
   "source": "client = MilvusClient(\"http://localhost:19530\")",
   "id": "957466cbf74cf262",
   "outputs": [],
   "execution_count": 37
  },
  {
   "metadata": {
    "ExecuteTime": {
     "end_time": "2024-09-29T21:06:33.815466Z",
     "start_time": "2024-09-29T21:06:33.809965Z"
    }
   },
   "cell_type": "code",
   "source": "client.list_collections()",
   "id": "6f61be4f7f188c67",
   "outputs": [
    {
     "data": {
      "text/plain": [
       "['beir_msmarco_milvus_bm25_512_100_08292024',\n",
       " 'beir_hotpotqa_milvus_bm25_512_100_08292024',\n",
       " 'beir_quora_new_milvus_hybrid_512_100_08292024',\n",
       " 'beir_quora_small_milvus_dense_512_100_08292024',\n",
       " 'huggingface_test1',\n",
       " 'ibmsw_gte_small_256_50_1889300',\n",
       " 'beir_dbpedia_entity_milvus_bm25_512_100_08292024',\n",
       " 'beir_quora_new_milvus_dense_512_100_08292024',\n",
       " 'test',\n",
       " 'ibmsw_gte_small_512_30_1889300',\n",
       " 'huggingface_test2',\n",
       " 'nfcorpus_milvus_bm25_512_50_1889300',\n",
       " 'beir_fiqa_milvus_bm25_512_100_08292024',\n",
       " 'beir_quora_milvus_bm25_512_100_08292024',\n",
       " 'beir_ibmsw_milvus_bm25_512_100_08292024',\n",
       " 'huggingface_test',\n",
       " 'ibmsw_gte_small_512_100_1889300',\n",
       " 'ibmsw_gte_small_512_50_1889300',\n",
       " 'beir_fever_milvus_bm25_512_100_08292024',\n",
       " 'ibmsw_gte_small_512_50_09272024']"
      ]
     },
     "execution_count": 39,
     "metadata": {},
     "output_type": "execute_result"
    }
   ],
   "execution_count": 39
  },
  {
   "metadata": {
    "ExecuteTime": {
     "end_time": "2024-09-30T00:45:10.438627Z",
     "start_time": "2024-09-30T00:45:10.432720Z"
    }
   },
   "cell_type": "code",
   "source": "client.get_collection_stats(\"test3\")",
   "id": "2f48b1df86d2405b",
   "outputs": [
    {
     "data": {
      "text/plain": [
       "{'row_count': 0}"
      ]
     },
     "execution_count": 87,
     "metadata": {},
     "output_type": "execute_result"
    }
   ],
   "execution_count": 87
  },
  {
   "metadata": {
    "ExecuteTime": {
     "end_time": "2024-09-29T21:07:25.782344Z",
     "start_time": "2024-09-29T21:07:25.777397Z"
    }
   },
   "cell_type": "code",
   "source": "client.list_indexes(\"test\")",
   "id": "35c88abb42ec27ee",
   "outputs": [
    {
     "data": {
      "text/plain": [
       "['qembedding']"
      ]
     },
     "execution_count": 41,
     "metadata": {},
     "output_type": "execute_result"
    }
   ],
   "execution_count": 41
  },
  {
   "metadata": {
    "ExecuteTime": {
     "end_time": "2024-09-30T00:44:35.949504Z",
     "start_time": "2024-09-30T00:44:35.943176Z"
    }
   },
   "cell_type": "code",
   "source": "client.describe_collection(\"test1\")",
   "id": "ff02cdb2180427e9",
   "outputs": [
    {
     "data": {
      "text/plain": [
       "{'collection_name': 'test1',\n",
       " 'auto_id': True,\n",
       " 'num_shards': 1,\n",
       " 'description': '',\n",
       " 'fields': [{'field_id': 100,\n",
       "   'name': 'id',\n",
       "   'description': '',\n",
       "   'type': <DataType.INT64: 5>,\n",
       "   'params': {},\n",
       "   'auto_id': True,\n",
       "   'is_primary': True},\n",
       "  {'field_id': 101,\n",
       "   'name': 'text',\n",
       "   'description': '',\n",
       "   'type': <DataType.VARCHAR: 21>,\n",
       "   'params': {'max_length': 50000}},\n",
       "  {'field_id': 102,\n",
       "   'name': '_id',\n",
       "   'description': '',\n",
       "   'type': <DataType.VARCHAR: 21>,\n",
       "   'params': {'max_length': 50000}},\n",
       "  {'field_id': 103,\n",
       "   'name': 'qembedding',\n",
       "   'description': '',\n",
       "   'type': <DataType.FLOAT_VECTOR: 101>,\n",
       "   'params': {'dim': 384}}],\n",
       " 'aliases': [],\n",
       " 'collection_id': 452890847312229091,\n",
       " 'consistency_level': 2,\n",
       " 'properties': {},\n",
       " 'num_partitions': 1,\n",
       " 'enable_dynamic_field': True}"
      ]
     },
     "execution_count": 83,
     "metadata": {},
     "output_type": "execute_result"
    }
   ],
   "execution_count": 83
  },
  {
   "metadata": {
    "ExecuteTime": {
     "end_time": "2024-09-29T21:11:48.130103Z",
     "start_time": "2024-09-29T21:11:48.124206Z"
    }
   },
   "cell_type": "code",
   "source": [
    "from pymilvus import utility, connections\n",
    "connections.connect(host=\"localhost\", port='19530')"
   ],
   "id": "714668e48e6dfe0e",
   "outputs": [],
   "execution_count": 47
  },
  {
   "metadata": {
    "ExecuteTime": {
     "end_time": "2024-09-30T00:44:17.147596Z",
     "start_time": "2024-09-30T00:44:17.141745Z"
    }
   },
   "cell_type": "code",
   "source": "utility.index_building_progress(\"test2\", \"qembedding\")\n",
   "id": "2e222e8300df790b",
   "outputs": [
    {
     "data": {
      "text/plain": [
       "{'total_rows': 0,\n",
       " 'indexed_rows': 0,\n",
       " 'pending_index_rows': 0,\n",
       " 'state': 'Finished'}"
      ]
     },
     "execution_count": 81,
     "metadata": {},
     "output_type": "execute_result"
    }
   ],
   "execution_count": 81
  },
  {
   "metadata": {
    "ExecuteTime": {
     "end_time": "2024-09-29T23:00:17.083164Z",
     "start_time": "2024-09-29T23:00:17.078467Z"
    }
   },
   "cell_type": "code",
   "source": "client.get_collection_stats(\"test\")",
   "id": "30b44288ce939be8",
   "outputs": [
    {
     "data": {
      "text/plain": [
       "{'row_count': 9617}"
      ]
     },
     "execution_count": 66,
     "metadata": {},
     "output_type": "execute_result"
    }
   ],
   "execution_count": 66
  },
  {
   "metadata": {
    "ExecuteTime": {
     "end_time": "2024-09-30T00:44:00.277774Z",
     "start_time": "2024-09-30T00:44:00.272159Z"
    }
   },
   "cell_type": "code",
   "source": "client.describe_index(\"test1\", \"qembedding\")",
   "id": "83e292160e5718e",
   "outputs": [
    {
     "data": {
      "text/plain": [
       "{'nlist': '1024',\n",
       " 'index_type': 'FLAT',\n",
       " 'metric_type': 'IP',\n",
       " 'field_name': 'qembedding',\n",
       " 'index_name': 'qembedding',\n",
       " 'total_rows': 0,\n",
       " 'indexed_rows': 0,\n",
       " 'pending_index_rows': 0,\n",
       " 'state': 'Finished'}"
      ]
     },
     "execution_count": 78,
     "metadata": {},
     "output_type": "execute_result"
    }
   ],
   "execution_count": 78
  },
  {
   "metadata": {
    "ExecuteTime": {
     "end_time": "2024-09-30T00:36:01.474248Z",
     "start_time": "2024-09-30T00:36:01.467898Z"
    }
   },
   "cell_type": "code",
   "source": "client.drop_collection(\"test3\")",
   "id": "c15198d6c0000aab",
   "outputs": [],
   "execution_count": 76
  },
  {
   "metadata": {},
   "cell_type": "code",
   "outputs": [],
   "execution_count": null,
   "source": "",
   "id": "3529eb0d064b7581"
  }
 ],
 "metadata": {
  "kernelspec": {
   "display_name": "Python 3",
   "language": "python",
   "name": "python3"
  },
  "language_info": {
   "codemirror_mode": {
    "name": "ipython",
    "version": 2
   },
   "file_extension": ".py",
   "mimetype": "text/x-python",
   "name": "python",
   "nbconvert_exporter": "python",
   "pygments_lexer": "ipython2",
   "version": "2.7.6"
  }
 },
 "nbformat": 4,
 "nbformat_minor": 5
}
