{
 "cells": [
  {
   "cell_type": "code",
   "id": "43ffdb9d853efc3d",
   "metadata": {
    "ExecuteTime": {
     "end_time": "2024-09-30T13:58:47.681632Z",
     "start_time": "2024-09-30T13:58:47.641930Z"
    }
   },
   "source": [
    "import pickle\n",
    "from docuverse.utils import open_stream\n",
    "from pymilvus import (\n",
    "    MilvusClient,\n",
    "    DataType,\n",
    "    connections,\n",
    "    utility\n",
    ")\n",
    "\n",
    "\n",
    "cache_file=\"/home/raduf/.local/share/elastic_ingestion/benchmark__beir_dev__quora____en__corpus.small.jsonl_512_100_True_all_gte-small.pickle.xz\"\n",
    "import json\n",
    "data=pickle.load(open_stream(cache_file))\n",
    "questions = [\n",
    "    \"How can I get free gems in Clash of Clans?\",\n",
    "    \"How can I get free gems Clash of Clans?\",\n",
    "    \"How do you feel when someone upvotes your answer on Quora?\",\n",
    "    \"What are the best thriller movie in Hollywood?\",\n",
    "    \"What should someone do to overcome anxiety?\"\n",
    "]"
   ],
   "outputs": [],
   "execution_count": 10
  },
  {
   "metadata": {
    "ExecuteTime": {
     "end_time": "2024-09-30T13:54:45.018224Z",
     "start_time": "2024-09-30T13:54:42.121441Z"
    }
   },
   "cell_type": "code",
   "source": [
    "MODEL = (\"/home/raduf/sandbox2/docuverse/models/slate.30m.english.rtrvr\")\n",
    "data_list = []\n",
    "from docuverse.utils.embeddings.dense_embedding_function import DenseEmbeddingFunction\n",
    "model = DenseEmbeddingFunction(MODEL)"
   ],
   "id": "f45fd3d0ac36f2ca",
   "outputs": [
    {
     "name": "stdout",
     "output_type": "stream",
     "text": [
      "=== done initializing model\n"
     ]
    }
   ],
   "execution_count": 2
  },
  {
   "metadata": {
    "ExecuteTime": {
     "end_time": "2024-09-30T13:54:47.647671Z",
     "start_time": "2024-09-30T13:54:45.093913Z"
    }
   },
   "cell_type": "code",
   "source": [
    "embeddings = model.encode([d['text'] for d in data], show_progress_bar=True)\n",
    "keys_to_keep = {\"text\"}\n",
    "data_list = [{**{k:v for k, v in d.items() if k in keys_to_keep}, '_id': d['id'], 'qembedding':embeddings[i]} for i,d in enumerate(data)]"
   ],
   "id": "eb6bc3fb8f32a6e4",
   "outputs": [
    {
     "data": {
      "text/plain": [
       "Batches:   0%|          | 0/301 [00:00<?, ?it/s]"
      ],
      "application/vnd.jupyter.widget-view+json": {
       "version_major": 2,
       "version_minor": 0,
       "model_id": "453e7e9637324de48442283635fed7ed"
      }
     },
     "metadata": {},
     "output_type": "display_data"
    }
   ],
   "execution_count": 3
  },
  {
   "metadata": {
    "ExecuteTime": {
     "end_time": "2024-09-30T13:54:47.661378Z",
     "start_time": "2024-09-30T13:54:47.658211Z"
    }
   },
   "cell_type": "code",
   "source": "data_list[0].keys()",
   "id": "9bf478efc4431868",
   "outputs": [
    {
     "data": {
      "text/plain": [
       "dict_keys(['text', '_id', 'qembedding'])"
      ]
     },
     "execution_count": 4,
     "metadata": {},
     "output_type": "execute_result"
    }
   ],
   "execution_count": 4
  },
  {
   "metadata": {
    "ExecuteTime": {
     "end_time": "2024-09-30T14:22:58.650118Z",
     "start_time": "2024-09-30T14:22:58.627569Z"
    }
   },
   "cell_type": "code",
   "source": [
    "def test_search(vectors, vector_for_query=None, metric=\"IP\", reingest=False, milvus_server_addr=\"test.db\",\n",
    "                use_connections=False, ingest_batch_size=-1, collection_name=\"test3\", vector_field_name=\"qembedding\"):\n",
    "    truncate_dim = 384\n",
    "    if ingest_batch_size < 0:\n",
    "        ingest_batch_size = len(vectors)\n",
    "\n",
    "    if vector_for_query is None:\n",
    "        entities = vectors\n",
    "        test = vectors[0:3]\n",
    "    else:\n",
    "        entities = vectors\n",
    "        if isinstance(vector_for_query, list) and isinstance(vector_for_query[0], dict):\n",
    "            test = [d[vector_field_name] for d in vector_for_query]# [{vector_field_name: e} for e in vector_for_query]\n",
    "        else:\n",
    "            test = vector_for_query\n",
    "\n",
    "    if use_connections:\n",
    "        client = connections\n",
    "        init, host, port = milvus_server_addr.split(\":\")\n",
    "        host = host.replace(\"//\", \"\")\n",
    "        client.connect(host=host, port=port)\n",
    "        client1 = MilvusClient(milvus_server_addr)\n",
    "    else:\n",
    "        client = MilvusClient(milvus_server_addr)\n",
    "        client1 = client\n",
    "\n",
    "\n",
    "    if reingest or not client.has_collection(collection_name=collection_name):\n",
    "        schema = client1.create_schema(auto_id=True, enable_dynamic_field=True, primary_field=\"id\")\n",
    "\n",
    "        schema.add_field(field_name=\"id\", datatype=DataType.INT64, is_primary=True)\n",
    "        schema.add_field(field_name=\"text\", datatype=DataType.VARCHAR, max_length=50000)\n",
    "        schema.add_field(field_name=\"_id\", datatype=DataType.VARCHAR, max_length=50000)\n",
    "        schema.add_field(field_name=vector_field_name, datatype=DataType.FLOAT_VECTOR, dim=truncate_dim)\n",
    "\n",
    "        index_params = client1.prepare_index_params()\n",
    "        index_params.add_index(\n",
    "            field_name=vector_field_name,\n",
    "            index_type=\"FLAT\",\n",
    "            metric_type=metric,\n",
    "            index_name=vector_field_name,\n",
    "            params={\"nlist\": 1024}\n",
    "        )\n",
    "\n",
    "        client1.drop_collection(collection_name=collection_name)\n",
    "        client.create_collection(\n",
    "            collection_name=collection_name, schema=schema, index_params=index_params\n",
    "        )\n",
    "        for i in range(0, len(vectors), ingest_batch_size):\n",
    "            client.insert(collection_name=collection_name, data=entities[i:i + ingest_batch_size])\n",
    "        # insert_result = client.insert(collection_name=collection_name, data=entities)\n",
    "        # print({k: v for k, v in insert_result.items() if k != 'ids'})\n",
    "        client.load_collection(collection_name=collection_name)\n",
    "        ingested_items = 0\n",
    "        connections.connect(host=\"localhost\", port=19530)\n",
    "        utility.wait_for_index_building_complete(collection_name=collection_name, index_name=vector_field_name)\n",
    "        # print(\n",
    "        #     client.count_entities(collection_name=collection_name)\n",
    "        # )\n",
    "        tm = timer()\n",
    "        start = time.time()\n",
    "        while ingested_items < len(vectors)-1:\n",
    "            res = client.get_collection_stats(collection_name=collection_name)\n",
    "            ingested_items = res[\"row_count\"]\n",
    "            print(f\"{tm.time_since_beginning()}: Currently ingested items: {ingested_items}\")\n",
    "            time.sleep(10)\n",
    "        print(f\"Ingested in {tm.time_since_beginning()} seconds.\")\n",
    "        print(client.list_indexes(collection_name=collection_name))\n",
    "        print(client.describe_index(collection_name=collection_name, index_name=vector_field_name))\n",
    "\n",
    "    return client.search(\n",
    "        collection_name=collection_name,\n",
    "        # data=[t[vector_field_name] for t in test],\n",
    "        data=test,\n",
    "        #data=test,\n",
    "        search_params={\"metric_type\": metric, \"params\": {\"nprobe\": 100, \"efSearch\": 128}},\n",
    "        # anns_field=vector_field_name,\n",
    "        limit=10,\n",
    "        output_fields=[\"text\", \"_id\"],\n",
    "    )\n",
    "\n",
    "def print_answer(q, res):\n",
    "    print(f\"Question: {q['text'] if isinstance(q, dict) else q}\")\n",
    "    if len(res) == 0:\n",
    "        print(\"  ** No results found. **\")\n",
    "    else:\n",
    "        for r in res:\n",
    "            print({'id': r['entity']['_id'], 'answer': r['entity']['text'], 'score': r['distance']})\n",
    "        print(\"\\n\")\n",
    "\n",
    "def test_setup(milvus_server_addr=\"test.db\", reingest=False, use_connections=False, collection_name=\"test3\", vector_field_name=\"qembedding\", metric=\"IP\"):\n",
    "    global questions, score\n",
    "    print(f\"Testing {milvus_server_addr}\")\n",
    "    questions = data_list\n",
    "    answers = test_search(data_list, questions, reingest=reingest, milvus_server_addr=milvus_server_addr,\n",
    "                          use_connections=use_connections, collection_name=collection_name, vector_field_name=vector_field_name,\n",
    "                          metric=metric)\n",
    "    score = 0\n",
    "    total = len(questions)\n",
    "\n",
    "    for q, res in zip(questions, answers):\n",
    "        print(res)\n",
    "        if isinstance(q, dict):\n",
    "            if q['_id'] in [r['entity']['_id'] for r in res[0:3]]:\n",
    "                score += 1\n",
    "            else:\n",
    "                if len(res) > 0:\n",
    "                    print_answer(q, res)\n",
    "        else:\n",
    "            print_answer(q, res)\n",
    "    print(f\"Score: {score * 1.0 / total:.2f}\")\n",
    "\n"
   ],
   "id": "7e2d654b567fa607",
   "outputs": [],
   "execution_count": 27
  },
  {
   "metadata": {
    "ExecuteTime": {
     "end_time": "2024-09-30T14:23:01.044099Z",
     "start_time": "2024-09-30T14:22:59.671353Z"
    }
   },
   "cell_type": "code",
   "source": [
    "online_milvus = \"http://localhost:19530\"\n",
    "file_milvus = \"test.db\"\n",
    "use_connections = True\n",
    "conns = {\n",
    "    \"quora_docuverse\": (\"beir_quora_small_milvus_dense_512_100_08292024\", \"embeddings\", \"COSINE\"),\n",
    "    \"test\": (\"test3\", \"qembedding\", \"IP\")\n",
    "}\n",
    "test = conns[\"quora_docuverse\"]\n",
    "keys_to_keep = {\"text\"}\n",
    "data_list = [{**{k:v for k, v in d.items() if k in keys_to_keep}, '_id': d['id'], test[1]:embeddings[i]} for i,d in enumerate(data)]\n",
    "test_setup(online_milvus, reingest=False, use_connections=False, collection_name=test[0], vector_field_name=test[1], metric=test[2])"
   ],
   "id": "289724795b11faa2",
   "outputs": [
    {
     "name": "stdout",
     "output_type": "stream",
     "text": [
      "Testing http://localhost:19530\n",
      "[{'id': 452755057875654967, 'distance': 0.07759928703308105, 'entity': {'text': 'Why does my cat like to jump on my leg?'}}, {'id': 452755057875651688, 'distance': 0.07471269369125366, 'entity': {'text': 'What is Brahmakumaris?'}}, {'id': 452755057875652495, 'distance': 0.06591494381427765, 'entity': {'text': 'Do coffee cure headaches?'}}, {'id': 452755057875650110, 'distance': 0.06302182376384735, 'entity': {'text': 'Is (space-) time quantized or continuous?'}}, {'id': 452755057875650941, 'distance': 0.06174270436167717, 'entity': {'text': 'I know the email account used for Facebook but I forgot my password and the phone number I used is no longer active. How do I recover it?'}}, {'id': 452755057875648732, 'distance': 0.06101927161216736, 'entity': {'text': 'Will India end up having a Muslim majority in the future? What will be the social, economical and political consequences if that happens?'}}, {'id': 452755057875648202, 'distance': 0.06068558245897293, 'entity': {'text': 'How many hours/days does jury duty take up?'}}, {'id': 452755057875646875, 'distance': 0.057796068489551544, 'entity': {'text': 'How much can I spend on rent in Manhattan if my yearly salary is $1 million?'}}, {'id': 452755057875647848, 'distance': 0.05558745563030243, 'entity': {'text': 'What are the highlights of recent Paris Agreement on Climate Change?'}}, {'id': 452755057875648324, 'distance': 0.05557963624596596, 'entity': {'text': 'What is the best way to avoid questions needing improvement on Quora?'}}]\n"
     ]
    },
    {
     "ename": "KeyError",
     "evalue": "'_id'",
     "output_type": "error",
     "traceback": [
      "\u001B[0;31m---------------------------------------------------------------------------\u001B[0m",
      "\u001B[0;31mKeyError\u001B[0m                                  Traceback (most recent call last)",
      "Cell \u001B[0;32mIn[28], line 11\u001B[0m\n\u001B[1;32m      9\u001B[0m keys_to_keep \u001B[38;5;241m=\u001B[39m {\u001B[38;5;124m\"\u001B[39m\u001B[38;5;124mtext\u001B[39m\u001B[38;5;124m\"\u001B[39m}\n\u001B[1;32m     10\u001B[0m data_list \u001B[38;5;241m=\u001B[39m [{\u001B[38;5;241m*\u001B[39m\u001B[38;5;241m*\u001B[39m{k:v \u001B[38;5;28;01mfor\u001B[39;00m k, v \u001B[38;5;129;01min\u001B[39;00m d\u001B[38;5;241m.\u001B[39mitems() \u001B[38;5;28;01mif\u001B[39;00m k \u001B[38;5;129;01min\u001B[39;00m keys_to_keep}, \u001B[38;5;124m'\u001B[39m\u001B[38;5;124m_id\u001B[39m\u001B[38;5;124m'\u001B[39m: d[\u001B[38;5;124m'\u001B[39m\u001B[38;5;124mid\u001B[39m\u001B[38;5;124m'\u001B[39m], test[\u001B[38;5;241m1\u001B[39m]:embeddings[i]} \u001B[38;5;28;01mfor\u001B[39;00m i,d \u001B[38;5;129;01min\u001B[39;00m \u001B[38;5;28menumerate\u001B[39m(data)]\n\u001B[0;32m---> 11\u001B[0m \u001B[43mtest_setup\u001B[49m\u001B[43m(\u001B[49m\u001B[43monline_milvus\u001B[49m\u001B[43m,\u001B[49m\u001B[43m \u001B[49m\u001B[43mreingest\u001B[49m\u001B[38;5;241;43m=\u001B[39;49m\u001B[38;5;28;43;01mFalse\u001B[39;49;00m\u001B[43m,\u001B[49m\u001B[43m \u001B[49m\u001B[43muse_connections\u001B[49m\u001B[38;5;241;43m=\u001B[39;49m\u001B[38;5;28;43;01mFalse\u001B[39;49;00m\u001B[43m,\u001B[49m\u001B[43m \u001B[49m\u001B[43mcollection_name\u001B[49m\u001B[38;5;241;43m=\u001B[39;49m\u001B[43mtest\u001B[49m\u001B[43m[\u001B[49m\u001B[38;5;241;43m0\u001B[39;49m\u001B[43m]\u001B[49m\u001B[43m,\u001B[49m\u001B[43m \u001B[49m\u001B[43mvector_field_name\u001B[49m\u001B[38;5;241;43m=\u001B[39;49m\u001B[43mtest\u001B[49m\u001B[43m[\u001B[49m\u001B[38;5;241;43m1\u001B[39;49m\u001B[43m]\u001B[49m\u001B[43m,\u001B[49m\u001B[43m \u001B[49m\u001B[43mmetric\u001B[49m\u001B[38;5;241;43m=\u001B[39;49m\u001B[43mtest\u001B[49m\u001B[43m[\u001B[49m\u001B[38;5;241;43m2\u001B[39;49m\u001B[43m]\u001B[49m\u001B[43m)\u001B[49m\n",
      "Cell \u001B[0;32mIn[27], line 104\u001B[0m, in \u001B[0;36mtest_setup\u001B[0;34m(milvus_server_addr, reingest, use_connections, collection_name, vector_field_name, metric)\u001B[0m\n\u001B[1;32m    102\u001B[0m \u001B[38;5;28mprint\u001B[39m(res)\n\u001B[1;32m    103\u001B[0m \u001B[38;5;28;01mif\u001B[39;00m \u001B[38;5;28misinstance\u001B[39m(q, \u001B[38;5;28mdict\u001B[39m):\n\u001B[0;32m--> 104\u001B[0m     \u001B[38;5;28;01mif\u001B[39;00m q[\u001B[38;5;124m'\u001B[39m\u001B[38;5;124m_id\u001B[39m\u001B[38;5;124m'\u001B[39m] \u001B[38;5;129;01min\u001B[39;00m [r[\u001B[38;5;124m'\u001B[39m\u001B[38;5;124mentity\u001B[39m\u001B[38;5;124m'\u001B[39m][\u001B[38;5;124m'\u001B[39m\u001B[38;5;124m_id\u001B[39m\u001B[38;5;124m'\u001B[39m] \u001B[38;5;28;01mfor\u001B[39;00m r \u001B[38;5;129;01min\u001B[39;00m res[\u001B[38;5;241m0\u001B[39m:\u001B[38;5;241m3\u001B[39m]]:\n\u001B[1;32m    105\u001B[0m         score \u001B[38;5;241m+\u001B[39m\u001B[38;5;241m=\u001B[39m \u001B[38;5;241m1\u001B[39m\n\u001B[1;32m    106\u001B[0m     \u001B[38;5;28;01melse\u001B[39;00m:\n",
      "Cell \u001B[0;32mIn[27], line 104\u001B[0m, in \u001B[0;36m<listcomp>\u001B[0;34m(.0)\u001B[0m\n\u001B[1;32m    102\u001B[0m \u001B[38;5;28mprint\u001B[39m(res)\n\u001B[1;32m    103\u001B[0m \u001B[38;5;28;01mif\u001B[39;00m \u001B[38;5;28misinstance\u001B[39m(q, \u001B[38;5;28mdict\u001B[39m):\n\u001B[0;32m--> 104\u001B[0m     \u001B[38;5;28;01mif\u001B[39;00m q[\u001B[38;5;124m'\u001B[39m\u001B[38;5;124m_id\u001B[39m\u001B[38;5;124m'\u001B[39m] \u001B[38;5;129;01min\u001B[39;00m [\u001B[43mr\u001B[49m\u001B[43m[\u001B[49m\u001B[38;5;124;43m'\u001B[39;49m\u001B[38;5;124;43mentity\u001B[39;49m\u001B[38;5;124;43m'\u001B[39;49m\u001B[43m]\u001B[49m\u001B[43m[\u001B[49m\u001B[38;5;124;43m'\u001B[39;49m\u001B[38;5;124;43m_id\u001B[39;49m\u001B[38;5;124;43m'\u001B[39;49m\u001B[43m]\u001B[49m \u001B[38;5;28;01mfor\u001B[39;00m r \u001B[38;5;129;01min\u001B[39;00m res[\u001B[38;5;241m0\u001B[39m:\u001B[38;5;241m3\u001B[39m]]:\n\u001B[1;32m    105\u001B[0m         score \u001B[38;5;241m+\u001B[39m\u001B[38;5;241m=\u001B[39m \u001B[38;5;241m1\u001B[39m\n\u001B[1;32m    106\u001B[0m     \u001B[38;5;28;01melse\u001B[39;00m:\n",
      "\u001B[0;31mKeyError\u001B[0m: '_id'"
     ]
    }
   ],
   "execution_count": 28
  },
  {
   "metadata": {
    "ExecuteTime": {
     "end_time": "2024-09-30T14:20:41.411459Z",
     "start_time": "2024-09-30T14:20:41.408566Z"
    }
   },
   "cell_type": "code",
   "source": "data_list[0].keys()",
   "id": "b2d8a9ca7a04bd8",
   "outputs": [
    {
     "data": {
      "text/plain": [
       "dict_keys(['text', '_id', 'embeddings'])"
      ]
     },
     "execution_count": 26,
     "metadata": {},
     "output_type": "execute_result"
    }
   ],
   "execution_count": 26
  },
  {
   "metadata": {
    "ExecuteTime": {
     "end_time": "2024-09-29T19:41:21.153292Z",
     "start_time": "2024-09-29T19:41:21.149577Z"
    }
   },
   "cell_type": "code",
   "outputs": [
    {
     "name": "stdout",
     "output_type": "stream",
     "text": [
      "Question: I was suddenly logged off Gmail. I can't remember my Gmail password and just realized the recovery email is no longer alive. What can I do?\n",
      "{'id': '117-0-139', 'answer': \"I was suddenly logged off Gmail. I can't remember my Gmail password and just realized the recovery email is no longer alive. What can I do?\", 'score': 1.000000238418579}\n",
      "{'id': '106577-0-51', 'answer': 'What is the best music to listen to while studying?', 'score': 0.9982950091362}\n",
      "{'id': '348001-0-30', 'answer': 'What is New Zealand known for?', 'score': 0.7475979328155518}\n",
      "{'id': '383079-0-123', 'answer': 'How many days will it take to dispatch pan card after application has received at income tax office for further processing?', 'score': 0.741649866104126}\n",
      "{'id': '124606-0-30', 'answer': 'How do I play cards by myself?', 'score': 0.7245960235595703}\n",
      "{'id': '416946-0-42', 'answer': 'What are the best ways to confront a liar?', 'score': 0.6999878883361816}\n",
      "{'id': '471345-0-108', 'answer': \"I am a engineering graduate. But I've an interest in becoming a counselor. Which are the degrees I can take?\", 'score': 0.6922494173049927}\n",
      "{'id': '430122-0-46', 'answer': 'What are some temperate forest biotic factors?', 'score': 0.6873601675033569}\n",
      "{'id': '54267-0-50', 'answer': 'Will the currency ban in India affect the economy?', 'score': 0.6857984662055969}\n",
      "{'id': '67630-0-62', 'answer': 'What are the lessons that we can learn from vikings tv series?', 'score': 0.683742880821228}\n",
      "\n",
      "\n",
      "Question: I can't remember my Gmail password or my recovery email. How can I recover my e-mail?\n",
      "{'id': '118-0-85', 'answer': \"I can't remember my Gmail password or my recovery email. How can I recover my e-mail?\", 'score': 0.9999998807907104}\n",
      "{'id': '6953-0-89', 'answer': 'How do I reset my gmail password when they are not highlighting my recovery email option?', 'score': 0.9038186073303223}\n",
      "{'id': '462488-0-33', 'answer': 'How can you treat beet allergies?', 'score': 0.8444210290908813}\n",
      "{'id': '63435-0-39', 'answer': 'How do you sleep on Christmas Eve? Why?', 'score': 0.8213344812393188}\n",
      "{'id': '404899-0-64', 'answer': 'How can I get out of a, \"I don\\'t feel like doing anything\" mood?', 'score': 0.8197672367095947}\n",
      "{'id': '379024-0-48', 'answer': 'Why do adults decide to bully some other adults?', 'score': 0.8007814288139343}\n",
      "{'id': '34045-0-50', 'answer': 'How can Indian Muslims become a majority in India?', 'score': 0.7427231073379517}\n",
      "{'id': '218527-0-33', 'answer': 'What are some underrated singers?', 'score': 0.7404377460479736}\n",
      "{'id': '432995-0-42', 'answer': 'What are the best open world games for PC?', 'score': 0.7361065149307251}\n",
      "{'id': '462705-0-42', 'answer': 'Is China aggressive in its foreign policy?', 'score': 0.735986590385437}\n",
      "\n",
      "\n",
      "Question: What is a narcissistic personality disorder?\n",
      "{'id': '143-0-44', 'answer': 'What is a narcissistic personality disorder?', 'score': 0.9999999403953552}\n",
      "{'id': '297041-0-41', 'answer': 'How often does a female cat go into heat?', 'score': 0.7306797504425049}\n",
      "{'id': '500845-0-37', 'answer': 'Does not eating help you lose weight?', 'score': 0.7298770546913147}\n",
      "{'id': '152316-0-53', 'answer': 'Which is the best android device to buy under ₹15000?', 'score': 0.7212789058685303}\n",
      "{'id': '278121-0-58', 'answer': 'What is the reason for increase in divorce rates in India?', 'score': 0.7181110978126526}\n",
      "{'id': '216022-0-48', 'answer': 'What does the future of deep learning look like?', 'score': 0.7151085138320923}\n",
      "{'id': '76147-0-105', 'answer': 'Buying Cars: Are Mazda, Subaru (sans Subaru BRZ), Mitsubishi, and Nissan as reliable as Honda and Toyota?', 'score': 0.7134867906570435}\n",
      "{'id': '139374-0-53', 'answer': 'How do I sell my domain name which I recently bought?', 'score': 0.7119213938713074}\n",
      "{'id': '392964-0-92', 'answer': 'If a massive asteroid hit earth, would it be more catastrophic if it hit land or open ocean?', 'score': 0.7117234468460083}\n",
      "{'id': '271056-0-58', 'answer': 'What do college students do to cool off or relieve stress?', 'score': 0.7091359496116638}\n",
      "\n",
      "\n"
     ]
    }
   ],
   "execution_count": 24,
   "source": [
    "for q, res in zip(questions, answers):\n",
    "    print(f\"Question: {q['text']}\")\n",
    "    if len(res) == 0:\n",
    "        print(\"  ** No results found. **\")\n",
    "    else:\n",
    "        for r in res:\n",
    "            print({'id': r['entity']['_id'], 'answer': r['entity']['text'], 'score': r['distance']})\n",
    "        print(\"\\n\")"
   ],
   "id": "ad68616c9f766dce"
  },
  {
   "metadata": {
    "ExecuteTime": {
     "end_time": "2024-09-29T19:38:15.762704Z",
     "start_time": "2024-09-29T19:38:15.758954Z"
    }
   },
   "cell_type": "code",
   "source": "questions[0]['text']",
   "id": "7048dbf2917945d6",
   "outputs": [
    {
     "data": {
      "text/plain": [
       "\"I was suddenly logged off Gmail. I can't remember my Gmail password and just realized the recovery email is no longer alive. What can I do?\""
      ]
     },
     "execution_count": 23,
     "metadata": {},
     "output_type": "execute_result"
    }
   ],
   "execution_count": 23
  },
  {
   "metadata": {
    "ExecuteTime": {
     "end_time": "2024-09-30T14:00:00.861810Z",
     "start_time": "2024-09-30T14:00:00.854981Z"
    }
   },
   "cell_type": "code",
   "source": "client = MilvusClient(\"http://localhost:19530\")",
   "id": "957466cbf74cf262",
   "outputs": [],
   "execution_count": 13
  },
  {
   "metadata": {
    "ExecuteTime": {
     "end_time": "2024-09-30T14:00:02.089959Z",
     "start_time": "2024-09-30T14:00:02.085023Z"
    }
   },
   "cell_type": "code",
   "source": "client.list_collections()",
   "id": "6f61be4f7f188c67",
   "outputs": [
    {
     "data": {
      "text/plain": [
       "['ibmsw_gte_small_512_100_1889300',\n",
       " 'beir_quora_hybrid_milvus_bm25_512_100_08292024',\n",
       " 'beir_quora_hybrid_milvus_dense_512_100_08292024',\n",
       " 'beir_quora_new_milvus_hybrid_512_100_08292024',\n",
       " 'test1',\n",
       " 'test3',\n",
       " 'beir_fiqa_milvus_bm25_512_100_08292024',\n",
       " 'hello_sparse',\n",
       " 'test_collection',\n",
       " 'beir_quora_milvus_hybrid_512_100_08292024',\n",
       " 'test2',\n",
       " 'beir_quora_small_milvus_dense_512_100_08292024']"
      ]
     },
     "execution_count": 14,
     "metadata": {},
     "output_type": "execute_result"
    }
   ],
   "execution_count": 14
  },
  {
   "metadata": {
    "ExecuteTime": {
     "end_time": "2024-09-30T14:15:22.966856Z",
     "start_time": "2024-09-30T14:15:22.962177Z"
    }
   },
   "cell_type": "code",
   "source": "client.get_collection_stats(\"beir_quora_small_milvus_dense_512_100_08292024\")",
   "id": "2f48b1df86d2405b",
   "outputs": [
    {
     "data": {
      "text/plain": [
       "{'row_count': 9618}"
      ]
     },
     "execution_count": 18,
     "metadata": {},
     "output_type": "execute_result"
    }
   ],
   "execution_count": 18
  },
  {
   "metadata": {
    "ExecuteTime": {
     "end_time": "2024-09-30T14:15:34.853773Z",
     "start_time": "2024-09-30T14:15:34.846747Z"
    }
   },
   "cell_type": "code",
   "source": "client.list_indexes(\"beir_quora_small_milvus_dense_512_100_08292024\")",
   "id": "35c88abb42ec27ee",
   "outputs": [
    {
     "data": {
      "text/plain": [
       "['embeddings']"
      ]
     },
     "execution_count": 19,
     "metadata": {},
     "output_type": "execute_result"
    }
   ],
   "execution_count": 19
  },
  {
   "metadata": {
    "ExecuteTime": {
     "end_time": "2024-09-30T00:44:35.949504Z",
     "start_time": "2024-09-30T00:44:35.943176Z"
    }
   },
   "cell_type": "code",
   "source": "client.describe_collection(\"test1\")",
   "id": "ff02cdb2180427e9",
   "outputs": [
    {
     "data": {
      "text/plain": [
       "{'collection_name': 'test1',\n",
       " 'auto_id': True,\n",
       " 'num_shards': 1,\n",
       " 'description': '',\n",
       " 'fields': [{'field_id': 100,\n",
       "   'name': 'id',\n",
       "   'description': '',\n",
       "   'type': <DataType.INT64: 5>,\n",
       "   'params': {},\n",
       "   'auto_id': True,\n",
       "   'is_primary': True},\n",
       "  {'field_id': 101,\n",
       "   'name': 'text',\n",
       "   'description': '',\n",
       "   'type': <DataType.VARCHAR: 21>,\n",
       "   'params': {'max_length': 50000}},\n",
       "  {'field_id': 102,\n",
       "   'name': '_id',\n",
       "   'description': '',\n",
       "   'type': <DataType.VARCHAR: 21>,\n",
       "   'params': {'max_length': 50000}},\n",
       "  {'field_id': 103,\n",
       "   'name': 'qembedding',\n",
       "   'description': '',\n",
       "   'type': <DataType.FLOAT_VECTOR: 101>,\n",
       "   'params': {'dim': 384}}],\n",
       " 'aliases': [],\n",
       " 'collection_id': 452890847312229091,\n",
       " 'consistency_level': 2,\n",
       " 'properties': {},\n",
       " 'num_partitions': 1,\n",
       " 'enable_dynamic_field': True}"
      ]
     },
     "execution_count": 83,
     "metadata": {},
     "output_type": "execute_result"
    }
   ],
   "execution_count": 83
  },
  {
   "metadata": {
    "ExecuteTime": {
     "end_time": "2024-09-29T21:11:48.130103Z",
     "start_time": "2024-09-29T21:11:48.124206Z"
    }
   },
   "cell_type": "code",
   "source": [
    "from pymilvus import utility, connections\n",
    "connections.connect(host=\"localhost\", port='19530')"
   ],
   "id": "714668e48e6dfe0e",
   "outputs": [],
   "execution_count": 47
  },
  {
   "metadata": {
    "ExecuteTime": {
     "end_time": "2024-09-30T00:44:17.147596Z",
     "start_time": "2024-09-30T00:44:17.141745Z"
    }
   },
   "cell_type": "code",
   "source": "utility.index_building_progress(\"test2\", \"qembedding\")\n",
   "id": "2e222e8300df790b",
   "outputs": [
    {
     "data": {
      "text/plain": [
       "{'total_rows': 0,\n",
       " 'indexed_rows': 0,\n",
       " 'pending_index_rows': 0,\n",
       " 'state': 'Finished'}"
      ]
     },
     "execution_count": 81,
     "metadata": {},
     "output_type": "execute_result"
    }
   ],
   "execution_count": 81
  },
  {
   "metadata": {
    "ExecuteTime": {
     "end_time": "2024-09-29T23:00:17.083164Z",
     "start_time": "2024-09-29T23:00:17.078467Z"
    }
   },
   "cell_type": "code",
   "source": "client.get_collection_stats(\"test\")",
   "id": "30b44288ce939be8",
   "outputs": [
    {
     "data": {
      "text/plain": [
       "{'row_count': 9617}"
      ]
     },
     "execution_count": 66,
     "metadata": {},
     "output_type": "execute_result"
    }
   ],
   "execution_count": 66
  },
  {
   "metadata": {
    "ExecuteTime": {
     "end_time": "2024-09-30T00:44:00.277774Z",
     "start_time": "2024-09-30T00:44:00.272159Z"
    }
   },
   "cell_type": "code",
   "source": "client.describe_index(\"test1\", \"qembedding\")",
   "id": "83e292160e5718e",
   "outputs": [
    {
     "data": {
      "text/plain": [
       "{'nlist': '1024',\n",
       " 'index_type': 'FLAT',\n",
       " 'metric_type': 'IP',\n",
       " 'field_name': 'qembedding',\n",
       " 'index_name': 'qembedding',\n",
       " 'total_rows': 0,\n",
       " 'indexed_rows': 0,\n",
       " 'pending_index_rows': 0,\n",
       " 'state': 'Finished'}"
      ]
     },
     "execution_count": 78,
     "metadata": {},
     "output_type": "execute_result"
    }
   ],
   "execution_count": 78
  },
  {
   "metadata": {
    "ExecuteTime": {
     "end_time": "2024-09-30T00:36:01.474248Z",
     "start_time": "2024-09-30T00:36:01.467898Z"
    }
   },
   "cell_type": "code",
   "source": "client.drop_collection(\"test3\")",
   "id": "c15198d6c0000aab",
   "outputs": [],
   "execution_count": 76
  },
  {
   "metadata": {},
   "cell_type": "code",
   "source": "client.describe_index(\"beir_quora_small_milvus_dense_512_100_08292024\", \"embeddings\")",
   "id": "6e018cf15126dc0a",
   "outputs": [],
   "execution_count": null
  },
  {
   "metadata": {
    "ExecuteTime": {
     "end_time": "2024-09-30T17:42:42.653791Z",
     "start_time": "2024-09-30T17:42:42.635968Z"
    }
   },
   "cell_type": "code",
   "source": "client.flush()",
   "id": "3529eb0d064b7581",
   "outputs": [
    {
     "ename": "AttributeError",
     "evalue": "'MilvusClient' object has no attribute 'flush'",
     "output_type": "error",
     "traceback": [
      "\u001B[0;31m---------------------------------------------------------------------------\u001B[0m",
      "\u001B[0;31mAttributeError\u001B[0m                            Traceback (most recent call last)",
      "Cell \u001B[0;32mIn[33], line 1\u001B[0m\n\u001B[0;32m----> 1\u001B[0m \u001B[43mclient\u001B[49m\u001B[38;5;241;43m.\u001B[39;49m\u001B[43mflush\u001B[49m()\n",
      "\u001B[0;31mAttributeError\u001B[0m: 'MilvusClient' object has no attribute 'flush'"
     ]
    }
   ],
   "execution_count": 33
  },
  {
   "metadata": {},
   "cell_type": "code",
   "outputs": [],
   "execution_count": null,
   "source": "",
   "id": "499cd0362aa66efe"
  }
 ],
 "metadata": {
  "kernelspec": {
   "display_name": "Python 3",
   "language": "python",
   "name": "python3"
  },
  "language_info": {
   "codemirror_mode": {
    "name": "ipython",
    "version": 2
   },
   "file_extension": ".py",
   "mimetype": "text/x-python",
   "name": "python",
   "nbconvert_exporter": "python",
   "pygments_lexer": "ipython2",
   "version": "2.7.6"
  }
 },
 "nbformat": 4,
 "nbformat_minor": 5
}
