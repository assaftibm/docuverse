{
 "cells": [
  {
   "cell_type": "code",
   "execution_count": 13,
   "metadata": {},
   "source": [
    "from docuverse.engines import SearchEngine, SearchCorpus, SearchQueries\n",
    "from docuverse.engines.preprocessors.list_preprocessor import ListPreprocessor\n",
    "\n",
    "# Test an existing engine\n",
    "engine = SearchEngine(config_path=\"experiments/clapnq/setup.yaml\")\n",
    "queries = SearchQueries(ListPreprocessor([\"What are the three primary colors?\", \"Give three tips for staying healthy.\"]))\n",
    "\n",
    "for query in queries:\n",
    "    result = engine.retriever.search(query)\n",
    "    for item in result.results[:3]:\n",
    "        print(f\"{item.title}: {item.text}\")\n",
    "    print(\"---\")"
   ],
   "outputs": []
  }
 ],
 "metadata": {
  "kernelspec": {
   "display_name": "docuverse",
   "language": "python",
   "name": "python3"
  },
  "language_info": {
   "codemirror_mode": {
    "name": "ipython",
    "version": 3
   },
   "file_extension": ".py",
   "mimetype": "text/x-python",
   "name": "python",
   "nbconvert_exporter": "python",
   "pygments_lexer": "ipython3",
   "version": "3.10.14"
  }
 },
 "nbformat": 4,
 "nbformat_minor": 2
}
