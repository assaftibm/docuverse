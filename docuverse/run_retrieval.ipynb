{
 "cells": [
  {
   "cell_type": "code",
   "execution_count": 13,
   "metadata": {},
   "outputs": [
    {
     "name": "stdout",
     "output_type": "stream",
     "text": [
      "Primary color: Primary color\n",
      "There are numerous competing primary colour systems throughout history . Scholars and scientists engaged in debate over which hues best describe the primary color sensations of the eye . Thomas Young proposed red , green , and violet as the three primary colors , while James Clerk Maxwell favoured changing violet to blue . Hermann von Helmholtz proposed `` a slightly purplish red , a vegetation - green , slightly yellowish , and an ultramarine - blue '' as a trio . In modern understanding , human cone cells do not correspond precisely to a specific set of primary colors , as each cone type responds to a relatively broad range of wavelengths .\n",
      "Primary color: Primary color\n",
      "Thus for trichromats like humans , we use three ( or more ) primaries for most general purposes . Two primaries would be unable to produce even some of the most common among the named colors . Adding a reasonable choice of third primary can drastically increase the available gamut , while adding a fourth or fifth may increase the gamut but typically not by as much .\n",
      "Primary color: Primary color\n",
      "The three axes of the psychological primaries were applied by Richard S. Hunter as the primaries for the colorspace ultimately known as CIELAB . The Natural Color System is also directly inspired by the psychological primaries .\n",
      "---\n",
      "World Health Organization: World Health Organization\n",
      "Some of the research undertaken or supported by WHO to determine how people 's lifestyles and environments are influencing whether they live in better or worse health can be controversial , as illustrated by a 2003 joint WHO / FAO report on nutrition and the prevention of chronic non-communicable disease , which recommended that sugar should form no more than 10 % of a healthy diet . The report led to lobbying by the sugar industry against the recommendation , to which the WHO / FAO responded by including in the report this statement : `` The Consultation recognized that a population goal for free sugars of less than 10 % of total energy is controversial '' . It also stood by its recommendation based upon its own analysis of scientific studies . In 2014 , WHO reduced recommended sugar levels by half and said that sugar should make up no more than 5 % of a healthy diet .\n",
      "Framingham Heart Study: Framingham Heart Study\n",
      "The Framingham Heart Study , along with other important large studies , e.g. , the Seven Countries Study , Nurses ' Health Study , also showed the importance of healthy diet , not being overweight or obese , and regular exercise in maintaining good health , and that there are differences in cardiovascular risk between men and women . It also confirmed that cigarette smoking is a highly significant factor in the development of heart disease , leading to angina pectoris , myocardial infarction ( MI ) , and coronary death , along with other important studies about smoking , e.g. , the British Doctors Study .\n",
      "Lifestyle (sociology): Lifestyle (sociology)\n",
      "A healthy or unhealthy lifestyle will most likely be transmitted across generations . According to the study done by Case et al. ( 2002 ) , when a 0 - 3 year old child has a mother who practices a healthy lifestyle , this child will be 27 % more likely to become healthy and adopt the same lifestyle . For instance , high income parents are more likely to eat organic food , have time to exercise , and provide the best living condition to their children . On the other hand , low income parents are more likely to participate in unhealthy activities such as smoking to help them release poverty - related stress and depression . Parents are the first teacher for every child . Everything that parents do will be very likely transferred to their children through the learning process .\n",
      "---\n"
     ]
    }
   ],
   "source": [
    "from docuverse.engines import SearchEngine, SearchCorpus, SearchQueries\n",
    "from docuverse.engines.preprocessors.list_preprocessor import ListPreprocessor\n",
    "\n",
    "# Test an existing engine\n",
    "engine = SearchEngine(config_path=\"experiments/clapnq/setup.yaml\")\n",
    "queries = SearchQueries(ListPreprocessor([\"What are the three primary colors?\", \"Give three tips for staying healthy.\"]))\n",
    "\n",
    "for query in queries:\n",
    "    result = engine.retriever.search(query)\n",
    "    for item in result.results[:3]:\n",
    "        print(f\"{item.title}: {item.text}\")\n",
    "    print(\"---\")"
   ]
  }
 ],
 "metadata": {
  "kernelspec": {
   "display_name": "docuverse",
   "language": "python",
   "name": "python3"
  },
  "language_info": {
   "codemirror_mode": {
    "name": "ipython",
    "version": 3
   },
   "file_extension": ".py",
   "mimetype": "text/x-python",
   "name": "python",
   "nbconvert_exporter": "python",
   "pygments_lexer": "ipython3",
   "version": "3.10.14"
  }
 },
 "nbformat": 4,
 "nbformat_minor": 2
}
